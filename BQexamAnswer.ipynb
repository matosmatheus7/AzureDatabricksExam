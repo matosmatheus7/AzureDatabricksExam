{
 "cells": [
  {
   "cell_type": "code",
   "execution_count": 0,
   "metadata": {
    "application/vnd.databricks.v1+cell": {
     "cellMetadata": {
      "byteLimit": 2048000,
      "rowLimit": 10000
     },
     "inputWidgets": {},
     "nuid": "d999e2ec-5a43-43dd-b427-56b7622ec04c",
     "showTitle": false,
     "title": ""
    }
   },
   "outputs": [
    {
     "output_type": "display_data",
     "data": {
      "text/html": [
       "<style scoped>\n",
       "  .table-result-container {\n",
       "    max-height: 300px;\n",
       "    overflow: auto;\n",
       "  }\n",
       "  table, th, td {\n",
       "    border: 1px solid black;\n",
       "    border-collapse: collapse;\n",
       "  }\n",
       "  th, td {\n",
       "    padding: 5px;\n",
       "  }\n",
       "  th {\n",
       "    text-align: left;\n",
       "  }\n",
       "</style><div class='table-result-container'><table class='table-result'><thead style='background-color: white'><tr><th>path</th><th>name</th><th>size</th><th>modificationTime</th></tr></thead><tbody><tr><td>adl://cadlstore7yzv3igfjtaxg.azuredatalakestore.net/countries.json</td><td>countries.json</td><td>110088</td><td>1682516363697</td></tr><tr><td>adl://cadlstore7yzv3igfjtaxg.azuredatalakestore.net/customers.json</td><td>customers.json</td><td>56193</td><td>1682516363572</td></tr></tbody></table></div>"
      ]
     },
     "metadata": {
      "application/vnd.databricks.v1+output": {
       "addedWidgets": {},
       "aggData": [],
       "aggError": "",
       "aggOverflow": false,
       "aggSchema": [],
       "aggSeriesLimitReached": false,
       "aggType": "",
       "arguments": {},
       "columnCustomDisplayInfos": {},
       "data": [
        [
         "adl://cadlstore7yzv3igfjtaxg.azuredatalakestore.net/countries.json",
         "countries.json",
         110088,
         1682516363697
        ],
        [
         "adl://cadlstore7yzv3igfjtaxg.azuredatalakestore.net/customers.json",
         "customers.json",
         56193,
         1682516363572
        ]
       ],
       "datasetInfos": [],
       "dbfsResultPath": null,
       "isJsonSchema": true,
       "metadata": {
        "isDbfsCommandResult": false
       },
       "overflow": false,
       "plotOptions": {
        "customPlotOptions": {},
        "displayType": "table",
        "pivotAggregation": null,
        "pivotColumns": null,
        "xColumns": null,
        "yColumns": null
       },
       "removedWidgets": [],
       "schema": [
        {
         "metadata": "{}",
         "name": "path",
         "type": "\"string\""
        },
        {
         "metadata": "{}",
         "name": "name",
         "type": "\"string\""
        },
        {
         "metadata": "{}",
         "name": "size",
         "type": "\"long\""
        },
        {
         "metadata": "{}",
         "name": "modificationTime",
         "type": "\"long\""
        }
       ],
       "type": "table"
      }
     },
     "output_type": "display_data"
    }
   ],
   "source": [
    "%fs ls adl://cadlstore7yzv3igfjtaxg.azuredatalakestore.net/"
   ]
  },
  {
   "cell_type": "code",
   "execution_count": 0,
   "metadata": {
    "application/vnd.databricks.v1+cell": {
     "cellMetadata": {
      "byteLimit": 2048000,
      "rowLimit": 10000
     },
     "inputWidgets": {},
     "nuid": "2166be2c-16e7-4203-945b-f1abdb08eda2",
     "showTitle": false,
     "title": ""
    }
   },
   "outputs": [
    {
     "output_type": "stream",
     "name": "stdout",
     "output_type": "stream",
     "text": [
      "Out[2]: True"
     ]
    }
   ],
   "source": [
    "%python\n",
    "configs = {\n",
    "  \"fs.adl.oauth2.access.token.provider.type\": \"CustomAccessTokenProvider\",\n",
    "  \"fs.adl.oauth2.access.token.custom.provider\": spark.conf.get(\"spark.databricks.passthrough.adls.tokenProviderClassName\")\n",
    "}\n",
    "dbutils.fs.mount(\n",
    "source = \"adl://cadlstore7yzv3igfjtaxg.azuredatalakestore.net/\",\n",
    "mount_point = \"/mnt/datalake\",\n",
    "extra_configs = configs)"
   ]
  },
  {
   "cell_type": "code",
   "execution_count": 0,
   "metadata": {
    "application/vnd.databricks.v1+cell": {
     "cellMetadata": {
      "byteLimit": 2048000,
      "implicitDf": true,
      "rowLimit": 10000
     },
     "inputWidgets": {},
     "nuid": "a66b0fff-2de5-473f-8722-baa65b03d9d8",
     "showTitle": false,
     "title": ""
    }
   },
   "outputs": [
    {
     "output_type": "display_data",
     "data": {
      "text/html": [
       "<style scoped>\n",
       "  .table-result-container {\n",
       "    max-height: 300px;\n",
       "    overflow: auto;\n",
       "  }\n",
       "  table, th, td {\n",
       "    border: 1px solid black;\n",
       "    border-collapse: collapse;\n",
       "  }\n",
       "  th, td {\n",
       "    padding: 5px;\n",
       "  }\n",
       "  th {\n",
       "    text-align: left;\n",
       "  }\n",
       "</style><div class='table-result-container'><table class='table-result'><thead style='background-color: white'><tr></tr></thead><tbody></tbody></table></div>"
      ]
     },
     "metadata": {
      "application/vnd.databricks.v1+output": {
       "addedWidgets": {},
       "aggData": [],
       "aggError": "",
       "aggOverflow": false,
       "aggSchema": [],
       "aggSeriesLimitReached": false,
       "aggType": "",
       "arguments": {},
       "columnCustomDisplayInfos": {},
       "data": [],
       "datasetInfos": [],
       "dbfsResultPath": null,
       "isJsonSchema": true,
       "metadata": {},
       "overflow": false,
       "plotOptions": {
        "customPlotOptions": {},
        "displayType": "table",
        "pivotAggregation": null,
        "pivotColumns": null,
        "xColumns": null,
        "yColumns": null
       },
       "removedWidgets": [],
       "schema": [],
       "type": "table"
      }
     },
     "output_type": "display_data"
    }
   ],
   "source": [
    "%sql\n",
    "CREATE TABLE Customers\n",
    "USING json\n",
    "OPTIONS (\n",
    "path \"/mnt/datalake/customers.json\"\n",
    ")"
   ]
  },
  {
   "cell_type": "code",
   "execution_count": 0,
   "metadata": {
    "application/vnd.databricks.v1+cell": {
     "cellMetadata": {
      "byteLimit": 2048000,
      "implicitDf": true,
      "rowLimit": 10000
     },
     "inputWidgets": {},
     "nuid": "e10940d9-e344-49ce-bef4-d7882f408076",
     "showTitle": false,
     "title": ""
    }
   },
   "outputs": [
    {
     "output_type": "display_data",
     "data": {
      "text/html": [
       "<style scoped>\n",
       "  .table-result-container {\n",
       "    max-height: 300px;\n",
       "    overflow: auto;\n",
       "  }\n",
       "  table, th, td {\n",
       "    border: 1px solid black;\n",
       "    border-collapse: collapse;\n",
       "  }\n",
       "  th, td {\n",
       "    padding: 5px;\n",
       "  }\n",
       "  th {\n",
       "    text-align: left;\n",
       "  }\n",
       "</style><div class='table-result-container'><table class='table-result'><thead style='background-color: white'><tr></tr></thead><tbody></tbody></table></div>"
      ]
     },
     "metadata": {
      "application/vnd.databricks.v1+output": {
       "addedWidgets": {},
       "aggData": [],
       "aggError": "",
       "aggOverflow": false,
       "aggSchema": [],
       "aggSeriesLimitReached": false,
       "aggType": "",
       "arguments": {},
       "columnCustomDisplayInfos": {},
       "data": [],
       "datasetInfos": [],
       "dbfsResultPath": null,
       "isJsonSchema": true,
       "metadata": {},
       "overflow": false,
       "plotOptions": {
        "customPlotOptions": {},
        "displayType": "table",
        "pivotAggregation": null,
        "pivotColumns": null,
        "xColumns": null,
        "yColumns": null
       },
       "removedWidgets": [],
       "schema": [],
       "type": "table"
      }
     },
     "output_type": "display_data"
    }
   ],
   "source": [
    "%sql\n",
    "CREATE TABLE Countries\n",
    "USING json\n",
    "OPTIONS (\n",
    "path \"/mnt/datalake/countries.json\"\n",
    ")"
   ]
  },
  {
   "cell_type": "code",
   "execution_count": 0,
   "metadata": {
    "application/vnd.databricks.v1+cell": {
     "cellMetadata": {
      "byteLimit": 2048000,
      "implicitDf": true,
      "rowLimit": 10000
     },
     "inputWidgets": {},
     "nuid": "71561e40-1906-4035-99ef-a4ed8dd8a812",
     "showTitle": false,
     "title": ""
    }
   },
   "outputs": [
    {
     "output_type": "display_data",
     "data": {
      "text/html": [
       "<style scoped>\n",
       "  .table-result-container {\n",
       "    max-height: 300px;\n",
       "    overflow: auto;\n",
       "  }\n",
       "  table, th, td {\n",
       "    border: 1px solid black;\n",
       "    border-collapse: collapse;\n",
       "  }\n",
       "  th, td {\n",
       "    padding: 5px;\n",
       "  }\n",
       "  th {\n",
       "    text-align: left;\n",
       "  }\n",
       "</style><div class='table-result-container'><table class='table-result'><thead style='background-color: white'><tr><th>Address</th><th>City</th><th>Country</th><th>Email</th><th>Name</th></tr></thead><tbody><tr><td>Ap #387-8229 Nullam Road</td><td>Kilsyth</td><td>HN</td><td>lacus.Nulla@Classaptenttaciti.ca</td><td>Jason Orr</td></tr><tr><td>P.O. Box 905, 9608 Etiam St.</td><td>Portici</td><td>HR</td><td>Integer.vulputate.risus@est.co.uk</td><td>Devin Herman</td></tr><tr><td>Ap #694-3226 Odio St.</td><td>Bothey</td><td>JO</td><td>ligula@porttitortellusnon.org</td><td>Kennan Head</td></tr><tr><td>Ap #378-2594 Arcu. Road</td><td>Oudegem</td><td>LR</td><td>eu@Phasellusvitaemauris.com</td><td>Peter Fry</td></tr><tr><td>418-8277 Sociis Ave</td><td>Charleville-Mézières</td><td>TG</td><td>vestibulum.Mauris.magna@ipsumdolorsit.com</td><td>Guy Ball</td></tr><tr><td>381-4840 Tellus Rd.</td><td>Henderson</td><td>KE</td><td>non.arcu.Vivamus@Proin.com</td><td>Vincent Parsons</td></tr><tr><td>152-5224 Penatibus Street</td><td>Göppingen</td><td>ZA</td><td>molestie.dapibus.ligula@hendreritDonecporttitor.edu</td><td>Cain Schroeder</td></tr><tr><td>P.O. Box 390, 9207 Elit, St.</td><td>Morinville</td><td>SE</td><td>adipiscing@tempor.net</td><td>Cruz Gill</td></tr><tr><td>156-1262 Orci, Avenue</td><td>Korbach</td><td>PR</td><td>non@ullamcorpereu.edu</td><td>Travis Dickerson</td></tr><tr><td>Ap #464-7569 Maecenas Road</td><td>Tourinnes-Saint-Lambert</td><td>NZ</td><td>tellus.Phasellus.elit@Sedetlibero.edu</td><td>Orlando Stone</td></tr><tr><td>409-3473 Class Road</td><td>Lille</td><td>PA</td><td>scelerisque.dui@necligulaconsectetuer.edu</td><td>Edan Wells</td></tr><tr><td>Ap #489-3585 Neque. Avenue</td><td>Santa Cesarea Terme</td><td>LB</td><td>rutrum@Nuncsedorci.ca</td><td>Kennan Arnold</td></tr><tr><td>957-9279 Nibh. Rd.</td><td>Antibes</td><td>CL</td><td>nascetur.ridiculus.mus@lacusvarius.edu</td><td>Palmer Ashley</td></tr><tr><td>5503 Sociis St.</td><td>Brighton</td><td>GN</td><td>scelerisque@nonante.org</td><td>Jasper Miller</td></tr><tr><td>495-3516 Natoque Rd.</td><td>Buckingham</td><td>GP</td><td>molestie@euismod.edu</td><td>Alden Hawkins</td></tr><tr><td>P.O. Box 750, 2207 Odio. St.</td><td>Cardedu</td><td>FR</td><td>commodo.at.libero@ametdiameu.co.uk</td><td>Talon Blake</td></tr><tr><td>P.O. Box 536, 9647 Iaculis Street</td><td>Kulti-Barakar</td><td>KI</td><td>elit.pellentesque@Nuncmauris.com</td><td>Demetrius Cardenas</td></tr><tr><td>9763 Mi Avenue</td><td>Kirkland</td><td>NE</td><td>Morbi.quis@Ut.org</td><td>Kieran Guerrero</td></tr><tr><td>Ap #542-3322 Sit Street</td><td>Kufstein</td><td>AM</td><td>elit.elit.fermentum@et.co.uk</td><td>Zachery Kerr</td></tr><tr><td>5853 Dictum St.</td><td>Caldera</td><td>AF</td><td>fringilla.mi.lacinia@risus.org</td><td>Keith Pittman</td></tr><tr><td>7982 Velit St.</td><td>Raigarh</td><td>UY</td><td>id.libero@dis.ca</td><td>Mohammad Kane</td></tr><tr><td>852 Velit. St.</td><td>Kaluga</td><td>VC</td><td>ultrices@egestaslaciniaSed.org</td><td>Cameron Sexton</td></tr><tr><td>4033 Vel, Av.</td><td>Kayseri</td><td>BE</td><td>sagittis@egestasAliquamnec.ca</td><td>Hayes Pitts</td></tr><tr><td>Ap #586-281 Augue St.</td><td>Worcester</td><td>GB</td><td>urna.convallis.erat@orciPhasellusdapibus.co.uk</td><td>Todd Camacho</td></tr><tr><td>700-5684 Ligula. Rd.</td><td>Ipatinga</td><td>TG</td><td>a.scelerisque.sed@Suspendissedui.co.uk</td><td>Seth Hancock</td></tr><tr><td>843-6181 Ut Rd.</td><td>Cannes</td><td>PG</td><td>cursus.purus.Nullam@lectusjustoeu.com</td><td>Blaze Obrien</td></tr><tr><td>Ap #461-6178 Sit St.</td><td>Mosquera</td><td>KP</td><td>eget@metus.co.uk</td><td>Levi Nolan</td></tr><tr><td>P.O. Box 985, 6324 Nec Avenue</td><td>Amstelveen</td><td>CA</td><td>malesuada@temporaugue.ca</td><td>August Perez</td></tr><tr><td>7217 Mauris Rd.</td><td>Mardan</td><td>LC</td><td>in.dolor.Fusce@loremipsumsodales.ca</td><td>Melvin Lambert</td></tr><tr><td>630-619 Ut Ave</td><td>Onega</td><td>GW</td><td>euismod.mauris@Nuncsollicitudincommodo.com</td><td>Griffith Avila</td></tr><tr><td>2770 Consectetuer Rd.</td><td>Norfolk County</td><td>UZ</td><td>consectetuer@ultrices.co.uk</td><td>Martin Weiss</td></tr><tr><td>408-8848 Metus Ave</td><td>Bekasi</td><td>MR</td><td>eu@risus.edu</td><td>Coby Shannon</td></tr><tr><td>212-8158 Orci Avenue</td><td>Kelso</td><td>BZ</td><td>lobortis@quamPellentesque.org</td><td>Solomon Benson</td></tr><tr><td>Ap #142-4287 Commodo St.</td><td>San Vicente de Cañete</td><td>KM</td><td>pede.Praesent@Aliquam.edu</td><td>Lev Morales</td></tr><tr><td>Ap #902-4533 Varius Ave</td><td>Belgaum</td><td>MP</td><td>enim@Nuncmauris.ca</td><td>Jameson Glover</td></tr><tr><td>208-4454 A, St.</td><td>Sprimont</td><td>PW</td><td>libero.Integer@congueturpisIn.co.uk</td><td>Eric Dillard</td></tr><tr><td>4280 Aliquam Av.</td><td>Den Helder</td><td>TC</td><td>In.lorem@metusvitae.org</td><td>Trevor Ewing</td></tr><tr><td>8222 Nunc Avenue</td><td>Nieuwkapelle</td><td>RS</td><td>augue.ac@mi.edu</td><td>Mark Lucas</td></tr><tr><td>675-8472 Lectus Av.</td><td>Tolve</td><td>MW</td><td>elit.pharetra@luctusaliquet.co.uk</td><td>Jerome Tyson</td></tr><tr><td>Ap #399-9248 Nascetur Rd.</td><td>Heist-aan-Zee</td><td>CA</td><td>Phasellus@faucibusutnulla.co.uk</td><td>Hayden Mccormick</td></tr><tr><td>955-8279 Lorem, Avenue</td><td>Mocoa</td><td>CL</td><td>Donec.elementum.lorem@eutemporerat.co.uk</td><td>Malik Wyatt</td></tr><tr><td>Ap #601-2620 Dui. Ave</td><td>Bostaniçi</td><td>BZ</td><td>elit.Etiam.laoreet@aenimSuspendisse.org</td><td>Nathan Richards</td></tr><tr><td>Ap #474-6202 Duis St.</td><td>Aurora</td><td>TG</td><td>non.egestas@necleo.com</td><td>Harper Fernandez</td></tr><tr><td>Ap #620-6887 Sodales Ave</td><td>Casper</td><td>ML</td><td>Phasellus@auctornon.co.uk</td><td>Vladimir Parks</td></tr><tr><td>Ap #187-7047 Nulla Avenue</td><td>Schore</td><td>BO</td><td>eu.sem.Pellentesque@enimnonnisi.ca</td><td>Peter Hubbard</td></tr><tr><td>5786 Nonummy. Street</td><td>Akşehir</td><td>SO</td><td>cubilia.Curae@Suspendisse.org</td><td>Kelly Lott</td></tr><tr><td>4824 Eget, Avenue</td><td>Skövde</td><td>TN</td><td>ac.mattis.velit@nuncrisusvarius.edu</td><td>Jelani Mccormick</td></tr><tr><td>4087 In Rd.</td><td>Tomé</td><td>RE</td><td>non@molestiedapibus.com</td><td>Adam Dixon</td></tr><tr><td>Ap #331-1530 Mollis Avenue</td><td>Lestizza</td><td>HK</td><td>purus.in.molestie@nonarcuVivamus.net</td><td>Michael Lang</td></tr><tr><td>Ap #460-7651 Donec St.</td><td>San Rafael</td><td>CA</td><td>Phasellus.dolor@mipede.edu</td><td>Jeremy Rowland</td></tr><tr><td>Ap #636-5529 Nec Avenue</td><td>Mold</td><td>HT</td><td>augue.eu@ullamcorper.com</td><td>Salvador Gregory</td></tr><tr><td>P.O. Box 288, 2196 Ac Road</td><td>Berceto</td><td>PA</td><td>nec@elitAliquamauctor.ca</td><td>Nero Ferguson</td></tr><tr><td>P.O. Box 644, 2791 Tellus. St.</td><td>Peterborough</td><td>EH</td><td>euismod@Maecenasmalesuadafringilla.com</td><td>Jesse Lindsey</td></tr><tr><td>P.O. Box 530, 5607 Orci Rd.</td><td>Rochester</td><td>SB</td><td>et.tristique@ante.edu</td><td>Myles Spence</td></tr><tr><td>P.O. Box 387, 9376 Aliquam Rd.</td><td>Barra do Corda</td><td>ET</td><td>Donec.egestas@aliquamiaculis.edu</td><td>Price Buchanan</td></tr><tr><td>Ap #923-2316 Euismod Street</td><td>Landenne</td><td>AT</td><td>neque.vitae@consectetueripsum.com</td><td>Otto Beck</td></tr><tr><td>Ap #285-2076 Sed, Ave</td><td>Montefalcone nel Sannio</td><td>CD</td><td>iaculis.lacus.pede@acarcu.co.uk</td><td>Ferris Stewart</td></tr><tr><td>Ap #143-6767 Urna Rd.</td><td>Castres</td><td>EE</td><td>mi.tempor.lorem@nulla.co.uk</td><td>Arthur Hinton</td></tr><tr><td>292-2737 Cras Av.</td><td>Torquay</td><td>DO</td><td>mollis.dui.in@eulacusQuisque.co.uk</td><td>Wing Dodson</td></tr><tr><td>P.O. Box 648, 8380 Euismod Ave</td><td>Berbroek</td><td>SK</td><td>ultrices.iaculis@Mauris.co.uk</td><td>Aristotle Gross</td></tr><tr><td>9302 Elit. Rd.</td><td>Tournefeuille</td><td>AU</td><td>convallis@telluslorem.ca</td><td>Kato Price</td></tr><tr><td>Ap #305-3212 Enim. Rd.</td><td>Falkensee</td><td>AS</td><td>eu@acfermentumvel.com</td><td>Lee Landry</td></tr><tr><td>483-6297 Mauris Road</td><td>Lauro de Freitas</td><td>TC</td><td>eleifend.egestas.Sed@nuncsed.org</td><td>Daniel Mays</td></tr><tr><td>Ap #795-7395 Odio St.</td><td>Tübingen</td><td>GP</td><td>amet.dapibus@Duisac.com</td><td>Preston Salazar</td></tr><tr><td>Ap #725-1664 Sit Rd.</td><td>Drayton Valley</td><td>IT</td><td>purus@facilisis.edu</td><td>Callum Leach</td></tr><tr><td>7769 Et, Ave</td><td>West Vancouver</td><td>AI</td><td>natoque.penatibus@orcisemeget.ca</td><td>Driscoll Mcgee</td></tr><tr><td>930-2451 Dui. Av.</td><td>Austin</td><td>GM</td><td>Cum@tempus.edu</td><td>Melvin Hurst</td></tr><tr><td>779-6935 Ipsum. Road</td><td>Campinas</td><td>GF</td><td>magna.malesuada.vel@sem.edu</td><td>Kasper Morse</td></tr><tr><td>P.O. Box 130, 3913 Enim. St.</td><td>Marbella</td><td>CZ</td><td>elit@tortordictumeu.ca</td><td>Phillip Charles</td></tr><tr><td>3412 A Av.</td><td>Timaru</td><td>TW</td><td>amet.consectetuer@etultricesposuere.net</td><td>Kieran Perez</td></tr><tr><td>8638 Condimentum. Street</td><td>Zwettl-Niederösterreich</td><td>PG</td><td>dictum.mi@velitjustonec.edu</td><td>Nicholas Craig</td></tr><tr><td>108-6743 Nonummy Rd.</td><td>Sant'Egidio alla Vibrata</td><td>NZ</td><td>a.feugiat.tellus@justo.org</td><td>Axel Carson</td></tr><tr><td>Ap #447-7880 Nam Rd.</td><td>Quenast</td><td>LY</td><td>ligula@felisadipiscing.ca</td><td>Samson Lawson</td></tr><tr><td>Ap #506-2439 Est. Rd.</td><td>Lisieux</td><td>TN</td><td>porttitor@libero.edu</td><td>Lance Luna</td></tr><tr><td>1234 Nec Avenue</td><td>Worcester</td><td>AU</td><td>magnis@pede.com</td><td>Quamar Richmond</td></tr><tr><td>178-9267 Tempus St.</td><td>Sirsa</td><td>UY</td><td>lectus@metusAliquam.ca</td><td>Hiram Cook</td></tr><tr><td>5418 Cras Street</td><td>Serik</td><td>ES</td><td>malesuada@lectuspedeultrices.co.uk</td><td>Hilel Dodson</td></tr><tr><td>7451 Consectetuer St.</td><td>Gießen</td><td>TG</td><td>laoreet@rhoncusid.ca</td><td>Jerry Gallegos</td></tr><tr><td>P.O. Box 760, 6203 Dolor Road</td><td>Grangemouth</td><td>US</td><td>semper.dui.lectus@augueeu.ca</td><td>Keefe York</td></tr><tr><td>4655 A, Av.</td><td>Meerle</td><td>SI</td><td>Donec.vitae@sitamet.com</td><td>Emmanuel Fernandez</td></tr><tr><td>911-7997 Molestie Rd.</td><td>Vandoeuvre-lès-Nancy</td><td>MY</td><td>cursus@CrasinterdumNunc.ca</td><td>Chancellor Bradford</td></tr><tr><td>Ap #407-3563 Ullamcorper, Road</td><td>Roccasicura</td><td>GA</td><td>metus@Maurisnondui.ca</td><td>Lars Rowe</td></tr><tr><td>P.O. Box 655, 6461 Ultrices Street</td><td>Lago Ranco</td><td>HN</td><td>mollis@faucibusorciluctus.com</td><td>Nathaniel Strong</td></tr><tr><td>211 Egestas Ave</td><td>Cañete</td><td>LK</td><td>gravida@convallisantelectus.net</td><td>Matthew Yates</td></tr><tr><td>P.O. Box 298, 1678 Eros. Rd.</td><td>Kisi</td><td>SD</td><td>convallis.convallis@duilectusrutrum.edu</td><td>Declan Blackburn</td></tr><tr><td>Ap #415-6689 Fames Road</td><td>Castelvecchio Calvisio</td><td>PT</td><td>eu@libero.ca</td><td>Hasad Pittman</td></tr><tr><td>937-3242 Vitae Av.</td><td>Moxhe</td><td>SA</td><td>lacus@faucibusMorbivehicula.org</td><td>Tate Dickson</td></tr><tr><td>596-276 Placerat, St.</td><td>Jacobabad</td><td>BB</td><td>Maecenas.ornare.egestas@odio.net</td><td>Beck Wiggins</td></tr><tr><td>597-4566 Nulla. Street</td><td>Snellegem</td><td>DJ</td><td>lacus.Cras.interdum@ante.com</td><td>Brendan Reed</td></tr><tr><td>P.O. Box 685, 1599 Phasellus Rd.</td><td>Talca</td><td>SZ</td><td>nostra@Nullamnisl.ca</td><td>Xanthus Brewer</td></tr><tr><td>3472 Dolor St.</td><td>Meux</td><td>LC</td><td>ullamcorper.magna@loremDonecelementum.org</td><td>Robert Lewis</td></tr><tr><td>P.O. Box 306, 2999 Nunc St.</td><td>Bhavnagar</td><td>SB</td><td>adipiscing.elit@tempordiamdictum.co.uk</td><td>Orson Tyson</td></tr><tr><td>6991 Mi St.</td><td>Saint-Herblain</td><td>AG</td><td>augue.malesuada@magnis.edu</td><td>Jin Henry</td></tr><tr><td>3724 Fringilla Rd.</td><td>Gignod</td><td>MD</td><td>Nunc@molestieorcitincidunt.edu</td><td>Theodore Rowland</td></tr><tr><td>162-6784 At Av.</td><td>North Cowichan</td><td>CH</td><td>dui.Cras.pellentesque@arcuVestibulum.org</td><td>Lance Mcpherson</td></tr><tr><td>P.O. Box 648, 4700 Ut Ave</td><td>Norfolk</td><td>DZ</td><td>ut.molestie@lobortis.co.uk</td><td>Nathaniel Goff</td></tr><tr><td>479-1881 Congue Street</td><td>Oromocto</td><td>BE</td><td>Fusce.dolor@orcilacus.co.uk</td><td>Caleb Rowland</td></tr><tr><td>P.O. Box 724, 719 Quis St.</td><td>Gladstone</td><td>SH</td><td>Morbi.metus.Vivamus@fringillaDonec.com</td><td>Chaim Burke</td></tr><tr><td>P.O. Box 736, 206 Odio. Rd.</td><td>Butte</td><td>LC</td><td>lorem.vitae@nislNullaeu.com</td><td>Andrew Mcgee</td></tr><tr><td>856 Metus Rd.</td><td>Hattiesburg</td><td>IM</td><td>non.leo@magna.com</td><td>Drew Keith</td></tr><tr><td>818-3086 Erat. Av.</td><td>Fabro</td><td>SL</td><td>nunc.id@lobortisaugue.com</td><td>Clinton Roberts</td></tr><tr><td>7024 Curabitur Rd.</td><td>Mocoa</td><td>AL</td><td>Sed.molestie@utcursusluctus.edu</td><td>Clinton Rivers</td></tr><tr><td>Ap #568-7555 Eu St.</td><td>Neuss</td><td>ES</td><td>orci.Phasellus.dapibus@ligulaAeneaneuismod.com</td><td>Malachi Phillips</td></tr><tr><td>Ap #824-9072 Facilisis Rd.</td><td>Barnstaple</td><td>AI</td><td>fermentum@vel.com</td><td>Lyle Valenzuela</td></tr><tr><td>896-5716 Quam Av.</td><td>Bettiah</td><td>FJ</td><td>fermentum.convallis@diam.ca</td><td>Garth Russell</td></tr><tr><td>P.O. Box 365, 6947 Facilisis Rd.</td><td>Maasmechelen</td><td>VC</td><td>enim.consequat@eratnonummyultricies.edu</td><td>Paul Kent</td></tr><tr><td>2129 Suspendisse Street</td><td>Santa Mar�a</td><td>CN</td><td>ultrices@ridiculusmus.com</td><td>Jerry Hester</td></tr><tr><td>P.O. Box 118, 9257 Sem Rd.</td><td>Woodlands County</td><td>PW</td><td>lobortis.augue@euaccumsan.ca</td><td>Donovan Figueroa</td></tr><tr><td>P.O. Box 376, 1004 Nec St.</td><td>Iqaluit</td><td>SE</td><td>in.tempus.eu@estMauriseu.co.uk</td><td>Slade Burton</td></tr><tr><td>Ap #516-2127 Et, Av.</td><td>Nankana Sahib</td><td>BA</td><td>non@malesuadafringilla.ca</td><td>Emerson English</td></tr><tr><td>1658 Egestas Ave</td><td>Fresno</td><td>LC</td><td>non.massa@euismod.com</td><td>Aladdin Vega</td></tr><tr><td>Ap #228-9223 Luctus Street</td><td>Penrith</td><td>US</td><td>urna@diamProin.com</td><td>Bruno Cardenas</td></tr><tr><td>P.O. Box 226, 9624 Vestibulum Street</td><td>Kemzeke</td><td>UA</td><td>ac.arcu.Nunc@loremvitaeodio.ca</td><td>Hu Simpson</td></tr><tr><td>P.O. Box 847, 2296 Dui. Ave</td><td>Bekegem</td><td>BG</td><td>pede.ac.urna@pedesagittis.edu</td><td>Luke Hardy</td></tr><tr><td>739-360 Facilisis St.</td><td>Buggenhout</td><td>BJ</td><td>Donec.est@penatibuset.ca</td><td>Colorado Lyons</td></tr><tr><td>247-5131 Lectus St.</td><td>Pincher Creek</td><td>GE</td><td>in.magna.Phasellus@lobortismauris.ca</td><td>Chandler Perkins</td></tr><tr><td>7560 Aliquet Road</td><td>Pessac</td><td>VC</td><td>Etiam@dui.edu</td><td>August Ramirez</td></tr><tr><td>1508 Risus. Ave</td><td>Victoria</td><td>DM</td><td>in@eratvolutpatNulla.ca</td><td>Cruz Valencia</td></tr><tr><td>Ap #197-8040 Arcu. Rd.</td><td>Maria</td><td>AZ</td><td>eros.Nam.consequat@ornareliberoat.net</td><td>Stewart Cain</td></tr><tr><td>1014 Sed Rd.</td><td>Genappe</td><td>MW</td><td>scelerisque@erategettincidunt.edu</td><td>Gil Frye</td></tr><tr><td>647-6031 Duis Ave</td><td>Chennai</td><td>MS</td><td>Nullam.enim.Sed@leoVivamus.org</td><td>Perry Ochoa</td></tr><tr><td>P.O. Box 120, 6896 Dolor. St.</td><td>Norrk�ping</td><td>AM</td><td>cursus@nullaInteger.org</td><td>Chancellor Barry</td></tr><tr><td>573-9715 Morbi Avenue</td><td>Edmundston</td><td>DJ</td><td>In.at@Curabiturutodio.edu</td><td>Michael Harrington</td></tr><tr><td>2995 Aliquam St.</td><td>Gavorrano</td><td>EH</td><td>metus.In@gravidamolestie.ca</td><td>Hilel Sparks</td></tr><tr><td>P.O. Box 302, 1541 Risus Av.</td><td>Bursa</td><td>TW</td><td>ullamcorper@vel.co.uk</td><td>Vladimir Hopper</td></tr><tr><td>P.O. Box 750, 4740 Pellentesque Ave</td><td>R�ves</td><td>AI</td><td>sed.leo@lobortis.com</td><td>Aidan Bowers</td></tr><tr><td>635-3929 Dignissim Ave</td><td>Bonnert</td><td>UA</td><td>risus@anteiaculisnec.com</td><td>Omar Munoz</td></tr><tr><td>780-4432 Dui. Rd.</td><td>R�o Bueno</td><td>AI</td><td>laoreet.ipsum@Vivamusrhoncus.ca</td><td>Warren Mcgee</td></tr><tr><td>805-395 Dui, Rd.</td><td>Gistel</td><td>GY</td><td>natoque@semperdui.org</td><td>Rooney Knowles</td></tr><tr><td>Ap #598-295 Tellus Road</td><td>Fuenlabrada</td><td>CN</td><td>Mauris.quis@urnasuscipitnonummy.edu</td><td>Armand Mcdowell</td></tr><tr><td>844-9510 Sem, Rd.</td><td>Sibi</td><td>WF</td><td>aptent@Donec.com</td><td>Neville Ferguson</td></tr><tr><td>P.O. Box 166, 4854 Conubia Av.</td><td>Sloten</td><td>AZ</td><td>Etiam.gravida.molestie@enim.ca</td><td>Reese Macdonald</td></tr><tr><td>Ap #379-7163 Egestas, Road</td><td>San Francisco</td><td>SY</td><td>volutpat@molestietellus.org</td><td>Orlando Pickett</td></tr><tr><td>Ap #804-9612 Feugiat. Street</td><td>Kitchener</td><td>KY</td><td>enim.Nunc@etultricesposuere.org</td><td>Rooney Anderson</td></tr><tr><td>P.O. Box 373, 9123 Consequat St.</td><td>Khammam</td><td>NO</td><td>Pellentesque.tincidunt@sitamet.ca</td><td>Flynn Blevins</td></tr><tr><td>Ap #561-9997 Magna. Ave</td><td>La Matap�dia</td><td>ST</td><td>non.lobortis@necante.edu</td><td>Baxter Bray</td></tr><tr><td>7428 Vitae St.</td><td>Kasur</td><td>JE</td><td>interdum.Nunc@Curabitur.edu</td><td>Reuben Alford</td></tr><tr><td>119-9495 Vitae Av.</td><td>Karachi</td><td>DJ</td><td>gravida.sagittis.Duis@velarcuCurabitur.ca</td><td>Dante Mcneil</td></tr><tr><td>466-9528 Malesuada Street</td><td>Aosta</td><td>BY</td><td>tristique.ac.eleifend@ridiculusmusDonec.ca</td><td>Josiah Mayer</td></tr><tr><td>718 Diam Rd.</td><td>Trento</td><td>PH</td><td>Duis@enimdiam.ca</td><td>Branden Mullen</td></tr><tr><td>Ap #192-2636 Nibh Rd.</td><td>Allentown</td><td>VI</td><td>ullamcorper@quamPellentesquehabitant.edu</td><td>Jesse Franks</td></tr><tr><td>Ap #453-9480 Nunc Road</td><td>Banjar</td><td>TD</td><td>vestibulum.neque.sed@egetlaoreetposuere.edu</td><td>Dante Pruitt</td></tr><tr><td>P.O. Box 285, 8041 Diam Avenue</td><td>Phoenix</td><td>GT</td><td>Ut.nec@diam.com</td><td>Galvin Hodges</td></tr><tr><td>P.O. Box 109, 771 Nulla St.</td><td>Tarcento</td><td>CV</td><td>cursus.Nunc@velitSed.co.uk</td><td>Brendan Herring</td></tr><tr><td>Ap #711-4534 Semper Street</td><td>Cles</td><td>AG</td><td>non.enim.Mauris@arcuSedet.co.uk</td><td>Camden House</td></tr><tr><td>Ap #280-2565 Adipiscing. Rd.</td><td>Blackwood</td><td>KH</td><td>massa.rutrum.magna@nasceturridiculusmus.com</td><td>Cameron Figueroa</td></tr><tr><td>979-7074 Ac Road</td><td>Grezzana</td><td>LT</td><td>adipiscing.Mauris.molestie@interdum.edu</td><td>Addison Mendoza</td></tr><tr><td>629-5825 Mollis Av.</td><td>Oordegem</td><td>KM</td><td>nibh@arcuVestibulumante.co.uk</td><td>Fuller Gilbert</td></tr><tr><td>8020 Eros Rd.</td><td>Rajkot</td><td>UZ</td><td>Donec@neccursus.com</td><td>Daniel Bridges</td></tr><tr><td>2331 Semper Road</td><td>Stratford-upon-Avon</td><td>BF</td><td>ultricies@perconubia.edu</td><td>Grant Burgess</td></tr><tr><td>P.O. Box 115, 5701 Orci Av.</td><td>Subiaco</td><td>UY</td><td>Aenean.massa.Integer@pede.net</td><td>Joel Moss</td></tr><tr><td>291-6984 Enim Street</td><td>Pettoranello del Molise</td><td>UA</td><td>non@bibendumullamcorper.org</td><td>Cooper Rowland</td></tr><tr><td>P.O. Box 230, 5724 Elementum Ave</td><td>Ollag�e</td><td>GQ</td><td>urna.et@temporbibendum.net</td><td>Peter Conley</td></tr><tr><td>4341 Faucibus Street</td><td>Baasrode</td><td>CL</td><td>nec.mollis@euenim.org</td><td>Nigel Case</td></tr><tr><td>P.O. Box 466, 3100 Purus Road</td><td>Cama�ari</td><td>GQ</td><td>parturient@diam.co.uk</td><td>Ivor Frost</td></tr><tr><td>315 Ipsum. St.</td><td>Bourges</td><td>DZ</td><td>lectus.pede.et@liberomauris.ca</td><td>Brandon Gomez</td></tr><tr><td>608-1671 Ultricies St.</td><td>Pirmasens</td><td>SN</td><td>elit@perinceptoshymenaeos.org</td><td>Ali Wilkerson</td></tr><tr><td>Ap #572-2894 Est. St.</td><td>Seosan</td><td>JO</td><td>nonummy@Integer.org</td><td>Marshall Hunt</td></tr><tr><td>494-5293 Phasellus Rd.</td><td>Gravilias</td><td>ST</td><td>facilisis.lorem@orcilacus.edu</td><td>Griffith Christian</td></tr><tr><td>247-8871 Habitant Ave</td><td>Lansing</td><td>NC</td><td>magna@magna.ca</td><td>Arden Watson</td></tr><tr><td>Ap #645-5301 Enim Av.</td><td>Tsiigehtchic</td><td>UG</td><td>neque.Nullam.ut@nonleo.net</td><td>Noble Hayes</td></tr><tr><td>9425 Massa. Av.</td><td>Chestermere</td><td>BE</td><td>consequat.purus.Maecenas@duinec.org</td><td>Allen Doyle</td></tr><tr><td>Ap #594-4359 Ullamcorper Avenue</td><td>Putaendo</td><td>ET</td><td>tellus.Suspendisse@diamluctuslobortis.org</td><td>Darius Bradshaw</td></tr><tr><td>373-7223 Integer Street</td><td>Coimbatore</td><td>LV</td><td>Cum@eratVivamus.edu</td><td>Dale Saunders</td></tr><tr><td>Ap #684-2283 Nibh Avenue</td><td>Petr�polis</td><td>MA</td><td>libero.at.auctor@utpharetra.net</td><td>Caleb Booker</td></tr><tr><td>8947 Pulvinar Avenue</td><td>Pietraroja</td><td>DE</td><td>tristique.pellentesque.tellus@fringillapurusmauris.co.uk</td><td>Ishmael Torres</td></tr><tr><td>801-8119 Egestas Avenue</td><td>Soacha</td><td>GQ</td><td>In.tincidunt@primisinfaucibus.co.uk</td><td>Gavin Davis</td></tr><tr><td>7531 Pede St.</td><td>Salem</td><td>TD</td><td>auctor.vitae.aliquet@dapibus.edu</td><td>Ulysses Mack</td></tr><tr><td>933-3179 Aliquet, Street</td><td>Birmingham</td><td>BG</td><td>ut.nulla.Cras@Quisque.net</td><td>Bert Delgado</td></tr><tr><td>860-9152 Fringilla Ave</td><td>Paranagu�</td><td>YE</td><td>ut@at.com</td><td>Leroy House</td></tr><tr><td>4949 Elementum, Rd.</td><td>Kamyzyak</td><td>UY</td><td>suscipit.est@nibhDonec.ca</td><td>Hunter Hebert</td></tr><tr><td>765-9113 Nec, Ave</td><td>Sombreffe</td><td>LY</td><td>vestibulum@Donec.ca</td><td>Rudyard Gay</td></tr><tr><td>P.O. Box 240, 890 Mus. Rd.</td><td>Rijkevorsel</td><td>GM</td><td>dolor@porttitorinterdum.org</td><td>Fitzgerald Vargas</td></tr><tr><td>P.O. Box 846, 9953 Arcu. St.</td><td>Halkirk</td><td>ZA</td><td>risus.Donec@cursusnonegestas.net</td><td>Vladimir Cain</td></tr><tr><td>799-9462 Adipiscing St.</td><td>Patos</td><td>DK</td><td>Nunc@dui.co.uk</td><td>Uriah Hartman</td></tr><tr><td>Ap #558-8874 Consequat Street</td><td>Oldenburg</td><td>GF</td><td>Donec.vitae.erat@commodoipsumSuspendisse.org</td><td>Flynn Briggs</td></tr><tr><td>4725 Ipsum St.</td><td>Kelkheim</td><td>MW</td><td>sed.libero.Proin@auctorvelit.org</td><td>Lyle Dunn</td></tr><tr><td>P.O. Box 266, 2594 Adipiscing Road</td><td>Surendranagar</td><td>KM</td><td>lectus@Suspendissenon.net</td><td>Gregory Vaughan</td></tr><tr><td>777-5951 Tellus Rd.</td><td>Roselies</td><td>LK</td><td>penatibus.et@Mauriseu.edu</td><td>Ryder Tyson</td></tr><tr><td>Ap #116-5724 Semper, Av.</td><td>Omaha</td><td>ES</td><td>libero@magna.net</td><td>Stewart Emerson</td></tr><tr><td>P.O. Box 106, 4777 Tincidunt Avenue</td><td>Camrose</td><td>MX</td><td>diam.luctus@interdum.com</td><td>Peter Diaz</td></tr><tr><td>590-1858 Nunc. St.</td><td>Sluis</td><td>TH</td><td>Donec.nibh@aliquetodioEtiam.org</td><td>Davis Blackburn</td></tr><tr><td>Ap #404-8260 Vel Street</td><td>Columbus</td><td>NE</td><td>magna.Duis@Maecenasornareegestas.co.uk</td><td>Neville Ortega</td></tr><tr><td>Ap #357-9261 Dolor, Rd.</td><td>Montaldo Bormida</td><td>BS</td><td>mi.lacinia@ultrices.edu</td><td>Sylvester Gonzalez</td></tr><tr><td>Ap #914-4829 Proin St.</td><td>New Quay</td><td>MV</td><td>ac.arcu@eget.ca</td><td>Sawyer Harrington</td></tr><tr><td>9166 Non, Av.</td><td>C�rdoba</td><td>MW</td><td>amet@eteuismod.ca</td><td>Elijah Jacobson</td></tr><tr><td>605-6619 Duis Rd.</td><td>Skardu</td><td>CN</td><td>nisl@Pellentesquehabitant.com</td><td>Emmanuel Sosa</td></tr><tr><td>213-5212 Nulla. Road</td><td>Armungia</td><td>FM</td><td>Lorem.ipsum@Nuncullamcorper.net</td><td>Gary Ruiz</td></tr><tr><td>P.O. Box 171, 8108 Consectetuer Road</td><td>Pietragalla</td><td>MO</td><td>vitae.dolor@placerataugueSed.co.uk</td><td>Harper Raymond</td></tr><tr><td>438-564 Dis St.</td><td>Feira de Santana</td><td>GH</td><td>dapibus.quam@ut.net</td><td>Scott Estrada</td></tr><tr><td>Ap #307-8891 Vivamus Rd.</td><td>Barrie</td><td>MC</td><td>Morbi.vehicula.Pellentesque@dolor.com</td><td>Lester Mccarthy</td></tr><tr><td>854-5205 Ut Road</td><td>Arequipa</td><td>IQ</td><td>odio@nullaanteiaculis.edu</td><td>Chandler Tyson</td></tr><tr><td>7927 Eu, St.</td><td>Termeno sulla strada del vino/Tramin an der Weinstrasse</td><td>ID</td><td>justo.nec.ante@ornare.org</td><td>Neil Pruitt</td></tr><tr><td>P.O. Box 628, 1777 Sed St.</td><td>Swan Hills</td><td>MY</td><td>massa.Mauris@tempor.org</td><td>Thor Munoz</td></tr><tr><td>8475 Sed Ave</td><td>Sfruz</td><td>SH</td><td>a.scelerisque@liberoet.edu</td><td>Geoffrey Conley</td></tr><tr><td>P.O. Box 672, 3707 Velit. Av.</td><td>Uitbergen</td><td>CF</td><td>arcu@disparturient.edu</td><td>Cade Preston</td></tr><tr><td>373-5053 Arcu. Rd.</td><td>Spruce Grove</td><td>CN</td><td>Cras@sollicitudinadipiscingligula.com</td><td>Chandler Randolph</td></tr><tr><td>P.O. Box 578, 6875 Ut Av.</td><td>Adoni</td><td>BA</td><td>tortor.dictum.eu@Sedmalesuadaaugue.org</td><td>Coby Mays</td></tr><tr><td>P.O. Box 174, 5423 Sem St.</td><td>M�dling</td><td>GH</td><td>nibh.enim.gravida@utsem.org</td><td>Kennan Graves</td></tr><tr><td>987-8351 Netus Avenue</td><td>Sint-Denijs</td><td>TD</td><td>vestibulum@Vivamusnon.ca</td><td>Declan Harmon</td></tr><tr><td>Ap #291-8523 Magna Rd.</td><td>Vieste</td><td>NO</td><td>sit@Donectempus.edu</td><td>Lucian Webster</td></tr><tr><td>622-419 Et Rd.</td><td>Karachev</td><td>VG</td><td>in@Pellentesquehabitantmorbi.ca</td><td>Cadman Weeks</td></tr><tr><td>509 At, St.</td><td>Westmalle</td><td>YE</td><td>tortor@PhasellusornareFusce.co.uk</td><td>Ferris Hardy</td></tr><tr><td>Ap #444-4944 Quis, Avenue</td><td>Ruthin</td><td>NA</td><td>sed@perinceptoshymenaeos.edu</td><td>Vernon Clayton</td></tr><tr><td>P.O. Box 153, 9427 Euismod St.</td><td>College</td><td>MQ</td><td>penatibus@rutrum.org</td><td>Melvin Harper</td></tr><tr><td>752-7301 Mauris. Road</td><td>Friedrichsdorf</td><td>FJ</td><td>primis.in@Phasellusdapibus.org</td><td>Joseph Clayton</td></tr><tr><td>P.O. Box 673, 5294 Aliquet, Rd.</td><td>Oldenburg</td><td>MA</td><td>nisi@fringilla.com</td><td>Caesar Gibson</td></tr><tr><td>P.O. Box 233, 3816 Erat Rd.</td><td>Stene</td><td>TH</td><td>Proin.dolor.Nulla@dignissimlacusAliquam.co.uk</td><td>Avram Hughes</td></tr><tr><td>Ap #484-4879 Sem. Rd.</td><td>Moncrivello</td><td>KW</td><td>tincidunt@nulla.org</td><td>Hiram Dunlap</td></tr><tr><td>255-7312 Tellus Street</td><td>Sorbo Serpico</td><td>JE</td><td>est@maurisblandit.org</td><td>Guy Compton</td></tr><tr><td>Ap #860-3633 Elit, Rd.</td><td>Valkenburg aan de Geul</td><td>HK</td><td>a@quistristiqueac.com</td><td>Ignatius Moses</td></tr><tr><td>P.O. Box 464, 5649 Non, Av.</td><td>Balfour</td><td>IE</td><td>Integer.mollis@rhoncusProinnisl.org</td><td>Leonard Lindsey</td></tr><tr><td>P.O. Box 635, 1640 Montes, Rd.</td><td>Grand-Hallet</td><td>MQ</td><td>sit.amet.ornare@dictumsapien.org</td><td>Evan Kline</td></tr><tr><td>581-4492 Arcu Rd.</td><td>Oudergem</td><td>PA</td><td>euismod.mauris.eu@nostra.net</td><td>Hector Shannon</td></tr><tr><td>8575 Eu Street</td><td>Monte San Pietrangeli</td><td>AT</td><td>amet.consectetuer.adipiscing@laciniaorci.edu</td><td>Asher Mooney</td></tr><tr><td>P.O. Box 621, 8321 Leo. Avenue</td><td>Abergavenny</td><td>UG</td><td>et.risus.Quisque@arcuVivamus.ca</td><td>Zane Berry</td></tr><tr><td>147-8580 Fringilla Av.</td><td>Retford</td><td>AL</td><td>diam.Duis@auctorullamcorpernisl.net</td><td>Ferdinand Hubbard</td></tr><tr><td>282-4083 In St.</td><td>Dunkerque</td><td>CY</td><td>mattis@feugiatLoremipsum.co.uk</td><td>Brady Cannon</td></tr><tr><td>943-2795 Vulputate, St.</td><td>Fortaleza</td><td>KG</td><td>eget.mollis.lectus@mipede.ca</td><td>Samuel Harding</td></tr><tr><td>243-1058 Et Street</td><td>St. John's</td><td>EG</td><td>vitae.sodales@acsemut.com</td><td>Tyrone Oneill</td></tr><tr><td>389 Feugiat Avenue</td><td>Pointe-du-Lac</td><td>SI</td><td>vehicula.risus.Nulla@Etiamvestibulummassa.edu</td><td>Plato Garcia</td></tr><tr><td>3941 Mi Rd.</td><td>Franeker</td><td>TW</td><td>nisi@euultricessit.net</td><td>Amos Herrera</td></tr><tr><td>3251 Volutpat Rd.</td><td>Oostkerke</td><td>ZW</td><td>auctor.vitae@in.ca</td><td>Lawrence Good</td></tr><tr><td>830 Arcu St.</td><td>Vaux-lez-Rosieres</td><td>AF</td><td>Mauris.magna@commodo.edu</td><td>Jeremy Obrien</td></tr><tr><td>7107 Pede. Ave</td><td>Bad V�slau</td><td>ZW</td><td>ligula.eu.enim@magnaLoremipsum.ca</td><td>Callum Payne</td></tr><tr><td>1078 Ut Avenue</td><td>Martello/Martell</td><td>CN</td><td>tempus@egestas.com</td><td>Randall Valentine</td></tr><tr><td>Ap #467-5472 Gravida. St.</td><td>Ulyanovsk</td><td>IQ</td><td>at.augue.id@velmaurisInteger.co.uk</td><td>Brett Page</td></tr><tr><td>Ap #282-1217 Nisi. Ave</td><td>Lake Cowichan</td><td>TG</td><td>Vivamus.euismod@Sed.edu</td><td>Kenneth Gross</td></tr><tr><td>Ap #914-1968 Arcu. Rd.</td><td>Idaho Falls</td><td>PF</td><td>Sed.nunc.est@risusa.net</td><td>Raymond Norton</td></tr><tr><td>P.O. Box 615, 2207 Urna. Street</td><td>Brussegem</td><td>TT</td><td>amet.risus.Donec@fringillaeuismod.net</td><td>Lucas Collins</td></tr><tr><td>Ap #401-9629 Risus. Avenue</td><td>Daussoulx</td><td>TT</td><td>a@massaQuisqueporttitor.net</td><td>Rafael Morrow</td></tr><tr><td>5776 Neque Rd.</td><td>Coihaique</td><td>MX</td><td>aliquet.odio@risusIn.com</td><td>Brady Pierce</td></tr><tr><td>7476 Aliquet Street</td><td>Bonn</td><td>KN</td><td>ut@Aenean.net</td><td>Rafael Wyatt</td></tr><tr><td>596-7121 Metus Ave</td><td>Baili�vre</td><td>NO</td><td>ut.pharetra@mollisneccursus.edu</td><td>Price Rutledge</td></tr><tr><td>699-6727 Orci Road</td><td>Chennai</td><td>KN</td><td>at@utquamvel.com</td><td>James Berger</td></tr><tr><td>5121 Dui. St.</td><td>Marcq-en-Baroeul</td><td>KE</td><td>ultricies.adipiscing.enim@massaVestibulum.ca</td><td>Allistair Warner</td></tr><tr><td>642-4881 Tincidunt, Rd.</td><td>Preore</td><td>LB</td><td>ut.quam@dolor.com</td><td>Linus Fisher</td></tr><tr><td>Ap #294-4152 Enim Road</td><td>Strombeek-Bever</td><td>UZ</td><td>blandit.congue@condimentumDonec.ca</td><td>Cain Shaffer</td></tr><tr><td>Ap #446-1569 Natoque Rd.</td><td>Butte</td><td>PG</td><td>nisl.Quisque.fringilla@interdum.org</td><td>Lucius Harvey</td></tr><tr><td>Ap #519-8655 Metus Av.</td><td>Bargagli</td><td>HU</td><td>amet@egestasAliquamnec.net</td><td>Kaseem Osborn</td></tr><tr><td>Ap #742-4994 Est, Avenue</td><td>Russell</td><td>TM</td><td>odio@velitSedmalesuada.edu</td><td>Tyrone Bird</td></tr><tr><td>182-4128 Turpis. Ave</td><td>Gentbrugge</td><td>GB</td><td>pharetra.Nam.ac@nonleo.com</td><td>Herrod Moore</td></tr><tr><td>1448 Fringilla St.</td><td>Maip�</td><td>CG</td><td>a@orcisemeget.org</td><td>Quentin Harvey</td></tr><tr><td>830-8010 Ac Road</td><td>Zhukovka</td><td>EC</td><td>massa.Suspendisse@aptenttaciti.edu</td><td>Amir Gould</td></tr><tr><td>729-2090 Malesuada. St.</td><td>Hines Creek</td><td>VU</td><td>Cras.sed.leo@ametdiameu.org</td><td>Wylie Boone</td></tr><tr><td>Ap #883-3499 Vitae St.</td><td>Dolgellau</td><td>MG</td><td>sodales@Utsemper.ca</td><td>Ciaran Oneill</td></tr><tr><td>857-8165 Curabitur Road</td><td>Pak Pattan</td><td>SR</td><td>Fusce.mi@Nullam.net</td><td>Josiah Head</td></tr><tr><td>245-5350 Feugiat St.</td><td>Monte Vidon Corrado</td><td>CI</td><td>tellus.justo.sit@fermentum.ca</td><td>Merritt Wiggins</td></tr><tr><td>Ap #984-9555 Scelerisque Road</td><td>Jasper</td><td>JE</td><td>arcu.Vestibulum.ante@sodalesMauris.net</td><td>Herrod Brennan</td></tr><tr><td>Ap #932-6427 Pharetra. St.</td><td>Atlanta</td><td>NL</td><td>nulla.vulputate.dui@amet.com</td><td>Brent Langley</td></tr><tr><td>2956 Vel, Rd.</td><td>Monghidoro</td><td>WS</td><td>pede.ultrices@Vestibulumuteros.net</td><td>Tyrone Thomas</td></tr><tr><td>1603 Ante Avenue</td><td>Guarapuava</td><td>UA</td><td>Cum.sociis@Vivamusmolestie.co.uk</td><td>Valentine Morrow</td></tr><tr><td>592-5812 Ornare St.</td><td>Curarrehue</td><td>HT</td><td>egestas.a.scelerisque@ipsumporta.co.uk</td><td>Brian Wiggins</td></tr><tr><td>371 Nibh. St.</td><td>Cassaro</td><td>CV</td><td>ut@cursusa.com</td><td>Aristotle Coffey</td></tr><tr><td>P.O. Box 423, 7790 Nibh. St.</td><td>Gatchina</td><td>IL</td><td>Donec.est@purusNullamscelerisque.edu</td><td>Blaze Shaw</td></tr><tr><td>Ap #153-9458 Convallis Av.</td><td>Lillois-Witterz_e</td><td>CN</td><td>magna.Phasellus.dolor@pede.org</td><td>Palmer David</td></tr><tr><td>1656 Nullam Rd.</td><td>Chimbote</td><td>LR</td><td>Suspendisse@Cum.co.uk</td><td>Valentine Bolton</td></tr><tr><td>1412 Adipiscing St.</td><td>Pangnirtung</td><td>PK</td><td>tempor.diam@mieleifendegestas.co.uk</td><td>Logan Farrell</td></tr><tr><td>P.O. Box 226, 384 Mauris Ave</td><td>Camet�</td><td>KN</td><td>nisl@ornarefacilisis.ca</td><td>Nathaniel Sampson</td></tr><tr><td>P.O. Box 106, 3346 Vestibulum St.</td><td>Nizhny</td><td>TO</td><td>odio@sem.edu</td><td>Erich Noble</td></tr><tr><td>P.O. Box 299, 2576 Ullamcorper. Street</td><td>Rocca Santo Stefano</td><td>JE</td><td>nec@aliquam.ca</td><td>Wang Keller</td></tr><tr><td>Ap #986-5004 Eu St.</td><td>Santu Lussurgiu</td><td>RE</td><td>a@ornareInfaucibus.co.uk</td><td>Rafael Beasley</td></tr><tr><td>503-565 Lobortis St.</td><td>Trujillo</td><td>TD</td><td>sit.amet.risus@morbi.net</td><td>Mohammad Mcintyre</td></tr><tr><td>4870 Nonummy. Road</td><td>Villers-la-Bonne-Eau</td><td>LT</td><td>placerat.augue@Vivamusmolestie.net</td><td>Judah Barlow</td></tr><tr><td>Ap #520-8585 Sociis Av.</td><td>Sacramento</td><td>RS</td><td>sit.amet@accumsanconvallisante.net</td><td>Emmanuel Bowers</td></tr><tr><td>P.O. Box 812, 1344 Aenean Ave</td><td>Akola</td><td>LK</td><td>vitae@lobortisaugue.edu</td><td>Yardley William</td></tr><tr><td>1058 Dolor. Road</td><td>Masullas</td><td>KR</td><td>nec@liberolacus.org</td><td>Aaron Barry</td></tr><tr><td>P.O. Box 687, 8748 Congue St.</td><td>Uttarpara-Kotrung</td><td>TN</td><td>et@diam.edu</td><td>Raja Maldonado</td></tr><tr><td>Ap #245-6316 A St.</td><td>Santa Marina</td><td>MV</td><td>sapien.Nunc.pulvinar@dignissimlacus.net</td><td>Ezra Savage</td></tr><tr><td>508-5982 Libero St.</td><td>Maiolati Spontini</td><td>AW</td><td>egestas.Duis.ac@vitaesodales.net</td><td>Rigel Conrad</td></tr><tr><td>P.O. Box 712, 8002 At, Avenue</td><td>Seevetal</td><td>NP</td><td>ipsum.Suspendisse@malesuadaiderat.co.uk</td><td>Devin Chen</td></tr><tr><td>Ap #538-9791 Erat Ave</td><td>Cavallino</td><td>FJ</td><td>commodo.auctor.velit@nonummyacfeugiat.net</td><td>Sylvester Valenzuela</td></tr><tr><td>Ap #136-4123 Ut St.</td><td>Warren</td><td>SH</td><td>dapibus.gravida@Sed.edu</td><td>Nathan Waller</td></tr><tr><td>P.O. Box 483, 8120 Tincidunt Av.</td><td>Essex</td><td>SH</td><td>turpis@enimsitamet.ca</td><td>Timothy Medina</td></tr><tr><td>499-7661 Amet, Avenue</td><td>Oliver</td><td>GH</td><td>erat.vel.pede@pedeblandit.ca</td><td>Rudyard Reynolds</td></tr><tr><td>1887 Nascetur St.</td><td>Rotorua</td><td>ZW</td><td>quis.massa@mieleifend.org</td><td>Nissim Casey</td></tr><tr><td>P.O. Box 828, 953 Molestie St.</td><td>San Martino in Badia/St. Martin in Thurn</td><td>CO</td><td>nulla@nequesedsem.com</td><td>Kirk Morton</td></tr><tr><td>Ap #784-7476 Eget Street</td><td>Inuvik</td><td>PG</td><td>rhoncus@Cras.org</td><td>Slade Bradley</td></tr><tr><td>Ap #180-361 Ut Avenue</td><td>Ipswich</td><td>KH</td><td>Donec@cursus.com</td><td>Tiger Barton</td></tr><tr><td>609-5313 Justo St.</td><td>Schoonaarde</td><td>IN</td><td>tristique@maurisblandit.net</td><td>Benedict Buck</td></tr><tr><td>792-5480 Ac Avenue</td><td>Coquitlam</td><td>FM</td><td>purus@atfringilla.net</td><td>Reese Drake</td></tr><tr><td>Ap #663-3343 Libero Av.</td><td>Arviat</td><td>MA</td><td>libero.at.auctor@massarutrummagna.com</td><td>Carter Goodman</td></tr><tr><td>656-8687 Hendrerit Road</td><td>Dalkeith</td><td>TJ</td><td>pede@litoratorquentper.net</td><td>Wesley Cook</td></tr><tr><td>483 Consectetuer Rd.</td><td>Fontanellato</td><td>LB</td><td>fringilla.ornare.placerat@luctussit.co.uk</td><td>Caldwell Castillo</td></tr><tr><td>362-2974 Massa. Avenue</td><td>Naninne</td><td>VE</td><td>lorem.ac.risus@interdumNunc.org</td><td>Hiram Acevedo</td></tr><tr><td>8567 Varius St.</td><td>Marbaix</td><td>TN</td><td>vitae.aliquam.eros@felis.edu</td><td>Reese Kidd</td></tr><tr><td>P.O. Box 869, 1210 Rhoncus. Avenue</td><td>Valleyview</td><td>GT</td><td>ac.tellus.Suspendisse@Quisqueliberolacus.edu</td><td>Kaseem Gibbs</td></tr><tr><td>906 Mattis Rd.</td><td>Montalto Uffugo</td><td>TD</td><td>mus@fermentum.co.uk</td><td>Prescott Faulkner</td></tr><tr><td>Ap #715-3278 Gravida Ave</td><td>Castello di Godego</td><td>GI</td><td>Integer@sociis.net</td><td>Clarke Hensley</td></tr><tr><td>P.O. Box 240, 9405 Conubia Av.</td><td>Belfast</td><td>LS</td><td>ut@dapibus.edu</td><td>Ray Mcgee</td></tr><tr><td>Ap #109-7958 Venenatis Avenue</td><td>Trochu</td><td>IT</td><td>Donec@ornareliberoat.ca</td><td>Demetrius Heath</td></tr><tr><td>391-5218 Arcu. Avenue</td><td>Noisy-le-Grand</td><td>KW</td><td>ipsum@Nullamsuscipitest.ca</td><td>Solomon Burks</td></tr><tr><td>Ap #379-8044 Nec St.</td><td>Saint-L�</td><td>AL</td><td>Donec.porttitor@rhoncusidmollis.net</td><td>Emery Farrell</td></tr><tr><td>570-8186 Diam Rd.</td><td>Mont-Saint-Guibert</td><td>MX</td><td>Aliquam@utlacus.net</td><td>Rudyard Bryan</td></tr><tr><td>616-4782 Nec, Av.</td><td>Machelen</td><td>MG</td><td>Sed@arcuCurabiturut.edu</td><td>Slade Myers</td></tr><tr><td>8532 Nam St.</td><td>Midway</td><td>ST</td><td>penatibus.et@mollisPhaselluslibero.net</td><td>Donovan Singleton</td></tr><tr><td>P.O. Box 506, 2195 Fringilla. Avenue</td><td>Mascalucia</td><td>PR</td><td>ornare@aliquetProinvelit.com</td><td>Edan Scott</td></tr><tr><td>363-9191 Maecenas Ave</td><td>Mildura</td><td>MT</td><td>mauris.sapien@fringillaornare.edu</td><td>Lucius Lawson</td></tr><tr><td>Ap #551-3258 Phasellus Av.</td><td>Bon Accord</td><td>HN</td><td>tellus.Phasellus.elit@interdum.com</td><td>Knox Vinson</td></tr><tr><td>4527 Nulla Ave</td><td>Kerkhove</td><td>CM</td><td>In@tinciduntpede.edu</td><td>Joseph Trujillo</td></tr><tr><td>P.O. Box 234, 4214 Pulvinar Road</td><td>Pagazzano</td><td>AU</td><td>orci.lacus.vestibulum@morbitristique.org</td><td>Keaton Hill</td></tr><tr><td>981-2829 Aliquam Road</td><td>Ede</td><td>PF</td><td>erat.vitae@malesuadaut.net</td><td>Salvador Pena</td></tr><tr><td>357-8681 Mollis Rd.</td><td>Rueglio</td><td>CD</td><td>est.Mauris.eu@porttitorerosnec.co.uk</td><td>Bradley Le</td></tr><tr><td>Ap #512-9491 Ultricies St.</td><td>Didim</td><td>CO</td><td>natoque@egestasAliquam.edu</td><td>Stone Giles</td></tr><tr><td>Ap #870-2877 Taciti Av.</td><td>Birmingham</td><td>NR</td><td>dolor@tinciduntnuncac.ca</td><td>Hu Pitts</td></tr><tr><td>4593 Adipiscing. Rd.</td><td>Cannalonga</td><td>GI</td><td>felis.ullamcorper.viverra@Sedcongueelit.net</td><td>Joseph Stanley</td></tr><tr><td>177-840 Magna Rd.</td><td>Kircudbright</td><td>ZM</td><td>nostra.per@bibendum.net</td><td>Aidan Orr</td></tr><tr><td>3227 Ultricies Ave</td><td>Trollh�ttan</td><td>NZ</td><td>et.ultrices@commodoipsum.co.uk</td><td>Tanek Higgins</td></tr><tr><td>366-5700 Sit Avenue</td><td>San Cesario di Lecce</td><td>KW</td><td>aliquam.arcu.Aliquam@et.org</td><td>George Montoya</td></tr><tr><td>Ap #255-3329 Velit. Ave</td><td>Anseong</td><td>GH</td><td>ornare.elit@molestiesodales.co.uk</td><td>Preston Nunez</td></tr><tr><td>5525 Cum Ave</td><td>Llanwrtwd Wells</td><td>HU</td><td>quis.pede@lorem.com</td><td>Elvis Bush</td></tr><tr><td>8496 Quisque Ave</td><td>Bolshevo</td><td>RE</td><td>luctus.felis@at.net</td><td>Ivor Rodgers</td></tr><tr><td>P.O. Box 254, 3711 Dictum Street</td><td>Austin</td><td>VE</td><td>malesuada@elit.com</td><td>Ali Jackson</td></tr><tr><td>P.O. Box 504, 7413 Non, Av.</td><td>Schwedt</td><td>AI</td><td>fringilla.mi@dolor.edu</td><td>Jelani Cooke</td></tr><tr><td>P.O. Box 900, 6595 Et Avenue</td><td>Aizwal</td><td>TC</td><td>Quisque.ornare.tortor@elitAliquamauctor.co.uk</td><td>Curran Holman</td></tr><tr><td>Ap #153-8544 Dui. Avenue</td><td>Vegreville</td><td>ZM</td><td>sociis.natoque.penatibus@disparturient.com</td><td>Reece Fuller</td></tr><tr><td>329-5898 Elementum St.</td><td>Henderson</td><td>TZ</td><td>lorem@ornaretortorat.net</td><td>Joel Stone</td></tr><tr><td>7955 Sed St.</td><td>Nemi</td><td>LY</td><td>gravida.Praesent.eu@nibhPhasellusnulla.org</td><td>Jameson Rowe</td></tr><tr><td>P.O. Box 632, 7682 Orci, Street</td><td>Taldom</td><td>GE</td><td>magnis@actellusSuspendisse.ca</td><td>Reese Richards</td></tr><tr><td>P.O. Box 986, 7843 Porttitor Street</td><td>Sint-Pieters-Leeuw</td><td>FJ</td><td>sed@montesnascetur.net</td><td>Barclay Dyer</td></tr><tr><td>P.O. Box 828, 9305 Nisi Av.</td><td>Zaria</td><td>NI</td><td>Duis.sit.amet@Phasellus.net</td><td>Oren Zamora</td></tr><tr><td>8001 Eu Avenue</td><td>Geraldton-Greenough</td><td>PT</td><td>lobortis.risus.In@justoeuarcu.co.uk</td><td>Dorian Thompson</td></tr><tr><td>2420 Eu Street</td><td>Wieze</td><td>BF</td><td>molestie@Nulla.net</td><td>Tyler Odonnell</td></tr><tr><td>Ap #330-3463 Mauris, Rd.</td><td>Sars-la-Buissi�re</td><td>BG</td><td>a@dolorsitamet.org</td><td>Adrian Kerr</td></tr><tr><td>Ap #557-8903 Hendrerit. Ave</td><td>Miramichi</td><td>OM</td><td>nunc.id@nullaIntegervulputate.net</td><td>Arthur Benjamin</td></tr><tr><td>8347 Montes, Road</td><td>Castelluccio Inferiore</td><td>KR</td><td>metus@quis.org</td><td>Chaim Wooten</td></tr><tr><td>Ap #449-1784 Interdum Street</td><td>Kolhapur</td><td>RU</td><td>malesuada.id@in.edu</td><td>Valentine Livingston</td></tr><tr><td>4053 A St.</td><td>Neerglabbeek</td><td>MS</td><td>elit@euismodmauris.co.uk</td><td>Prescott Mccall</td></tr><tr><td>490-1228 Est. Rd.</td><td>Solapur</td><td>CZ</td><td>enim@ornare.ca</td><td>Charles Clark</td></tr><tr><td>P.O. Box 481, 6702 Hendrerit St.</td><td>Yorkton</td><td>GQ</td><td>magna@neceuismodin.edu</td><td>Seth Petty</td></tr><tr><td>Ap #480-5099 Habitant Road</td><td>Salisbury</td><td>SD</td><td>tellus.Suspendisse@consequat.net</td><td>Xander Joyner</td></tr><tr><td>Ap #529-155 Facilisis St.</td><td>Meerdonk</td><td>KY</td><td>mauris@a.ca</td><td>Kamal Blevins</td></tr><tr><td>183-1221 Dictum. St.</td><td>Piovene Rocchette</td><td>BG</td><td>vitae.dolor.Donec@dictumeleifendnunc.co.uk</td><td>Walker Ballard</td></tr><tr><td>Ap #590-3265 Est Rd.</td><td>Poggio Berni</td><td>YE</td><td>Nunc.quis@Duisatlacus.com</td><td>Joshua Kinney</td></tr><tr><td>P.O. Box 654, 3191 Volutpat Ave</td><td>Mardan</td><td>MH</td><td>cubilia.Curae@egestasnunc.org</td><td>Brody Kent</td></tr><tr><td>P.O. Box 452, 9561 Pede. Road</td><td>Rixensart</td><td>BR</td><td>mattis.ornare.lectus@porttitorscelerisqueneque.co.uk</td><td>Silas Reeves</td></tr><tr><td>Ap #857-6308 In St.</td><td>Herenthout</td><td>QA</td><td>Cras@luctussit.co.uk</td><td>Hedley Harmon</td></tr><tr><td>784-6613 Ut Road</td><td>Jeju</td><td>AZ</td><td>tellus@placeratvelit.co.uk</td><td>Wyatt Dyer</td></tr><tr><td>Ap #418-9787 Lacus. Street</td><td>Bientina</td><td>SN</td><td>Fusce@enim.net</td><td>Ignatius Hanson</td></tr><tr><td>676-3399 Magna Ave</td><td>Owerri</td><td>DM</td><td>conubia.nostra@odio.ca</td><td>Leo Moran</td></tr><tr><td>457-3195 Montes, Street</td><td>San Donato di Ninea</td><td>CF</td><td>ac.feugiat@consequatdolorvitae.edu</td><td>Donovan Salazar</td></tr><tr><td>P.O. Box 931, 552 Eget Rd.</td><td>Cambridge</td><td>NO</td><td>ornare@pede.edu</td><td>Ryan Davenport</td></tr><tr><td>192-3132 Rutrum. St.</td><td>Queenstown</td><td>SR</td><td>Cum.sociis@metus.edu</td><td>Merrill Wooten</td></tr><tr><td>2780 Egestas Ave</td><td>Vergnies</td><td>AM</td><td>imperdiet.dictum.magna@semNulla.co.uk</td><td>Ulysses England</td></tr><tr><td>Ap #494-167 Elementum, St.</td><td>Oelegem</td><td>ZM</td><td>metus@neceleifendnon.com</td><td>Victor Zamora</td></tr><tr><td>473 Pede, Road</td><td>Minto</td><td>SC</td><td>nunc@pellentesqueSed.edu</td><td>Nasim Collins</td></tr><tr><td>P.O. Box 703, 9396 Auctor. Avenue</td><td>Girifalco</td><td>LS</td><td>Nunc.mauris.sapien@nisisem.co.uk</td><td>Brody Dunlap</td></tr><tr><td>9985 Ante Rd.</td><td>New Radnor</td><td>MN</td><td>et.euismod@rhoncus.edu</td><td>Deacon Haney</td></tr><tr><td>Ap #566-9306 At Ave</td><td>Cuccaro Vetere</td><td>SC</td><td>vel.pede@primis.net</td><td>Basil Poole</td></tr><tr><td>Ap #221-8179 Ultricies St.</td><td>Sherbrooke</td><td>FR</td><td>at.velit@cursus.net</td><td>Tad Pace</td></tr><tr><td>360 Donec Rd.</td><td>Aubagne</td><td>PG</td><td>ac.mattis.ornare@vitaepurus.edu</td><td>Burton Key</td></tr><tr><td>1052 Amet Road</td><td>Troitsk</td><td>AS</td><td>senectus.et.netus@ametnullaDonec.edu</td><td>Alan Chang</td></tr><tr><td>6129 Id, Rd.</td><td>Neunkirchen</td><td>MT</td><td>pellentesque@odio.net</td><td>Ashton Boyle</td></tr><tr><td>P.O. Box 641, 7995 Nunc St.</td><td>Deline</td><td>AF</td><td>ante.ipsum.primis@volutpat.ca</td><td>Timothy Black</td></tr><tr><td>547-7737 Sed St.</td><td>Smolensk</td><td>US</td><td>Quisque.ac@liberoDonec.org</td><td>Wade Romero</td></tr><tr><td>P.O. Box 481, 2937 Faucibus St.</td><td>Meridian</td><td>SM</td><td>penatibus@euturpis.com</td><td>Axel Lowe</td></tr><tr><td>3199 Nec, Road</td><td>Bedford</td><td>AF</td><td>mauris@massaInteger.edu</td><td>Quentin Kidd</td></tr><tr><td>P.O. Box 864, 3035 Facilisis St.</td><td>Attert</td><td>KE</td><td>ante@adipiscingMauris.com</td><td>Amery Hanson</td></tr><tr><td>Ap #787-6501 In Road</td><td>Saint-Mard</td><td>BE</td><td>convallis@et.com</td><td>Hedley Dodson</td></tr><tr><td>203-7694 Mauris Rd.</td><td>San Fratello</td><td>TM</td><td>Nulla.facilisi.Sed@Quisqueporttitor.edu</td><td>Declan Orr</td></tr><tr><td>111-5320 Adipiscing St.</td><td>Grand Island</td><td>FO</td><td>enim.Etiam.gravida@temporeratneque.ca</td><td>Tyrone Caldwell</td></tr><tr><td>746 Magna Rd.</td><td>Ambresin</td><td>SM</td><td>quam.dignissim@facilisis.co.uk</td><td>Cadman Whitley</td></tr><tr><td>573-882 Nec, St.</td><td>Siddi</td><td>CR</td><td>neque@Sedmalesuadaaugue.net</td><td>Fritz Ray</td></tr><tr><td>P.O. Box 673, 3175 Dolor. Av.</td><td>Priero</td><td>KW</td><td>mauris.sit@quisdiam.edu</td><td>Wayne Riley</td></tr><tr><td>8324 Vel Rd.</td><td>Camrose</td><td>PY</td><td>auctor.non@dictumsapienAenean.ca</td><td>Curran Vaughan</td></tr><tr><td>833 Commodo Rd.</td><td>Redlands</td><td>ZA</td><td>sapien@quis.edu</td><td>Reece Molina</td></tr><tr><td>129-7454 Venenatis Road</td><td>Riosucio</td><td>LI</td><td>velit.justo.nec@Aliquamvulputate.edu</td><td>Caleb Tate</td></tr><tr><td>Ap #559-9163 Egestas. Rd.</td><td>Pocheon</td><td>NL</td><td>et@tincidunt.co.uk</td><td>Fuller Ball</td></tr><tr><td>7060 Urna. Road</td><td>Barra do Corda</td><td>MY</td><td>Nam.consequat@magnaatortor.edu</td><td>Davis Hartman</td></tr><tr><td>P.O. Box 493, 3140 Dolor, Av.</td><td>Barrie</td><td>KG</td><td>Pellentesque.habitant.morbi@malesuadaaugue.com</td><td>Keane Rich</td></tr><tr><td>1096 Integer Rd.</td><td>Blue Mountains</td><td>SM</td><td>Nunc@erat.ca</td><td>Clinton Parks</td></tr><tr><td>P.O. Box 146, 5407 A, Road</td><td>Louisville</td><td>TV</td><td>feugiat@diam.ca</td><td>Leroy Welch</td></tr><tr><td>4269 Elementum, Street</td><td>Mianwali</td><td>SE</td><td>tincidunt.nunc.ac@aliquetodio.com</td><td>Hasad Burris</td></tr><tr><td>Ap #132-5885 Justo. Rd.</td><td>Wimmertingen</td><td>MR</td><td>imperdiet.ullamcorper.Duis@atauctorullamcorper.co.uk</td><td>Arden Noble</td></tr><tr><td>Ap #779-759 Mauris Rd.</td><td>Lisciano Niccone</td><td>SH</td><td>nisi@sit.org</td><td>Bernard Petty</td></tr><tr><td>P.O. Box 816, 9182 Dictum. Av.</td><td>Loreto</td><td>AW</td><td>primis.in.faucibus@ultricesDuisvolutpat.edu</td><td>Palmer Pope</td></tr><tr><td>Ap #285-1562 Tincidunt Street</td><td>Nasirabad</td><td>GW</td><td>placerat@ultricies.net</td><td>Jermaine Townsend</td></tr><tr><td>823-3049 Placerat. Av.</td><td>Nives</td><td>BY</td><td>Quisque@ut.ca</td><td>Grant Lott</td></tr><tr><td>3615 Eget Rd.</td><td>Lambayeque</td><td>GG</td><td>malesuada.ut@sapien.org</td><td>Chester Foster</td></tr><tr><td>626-3495 Tortor. Road</td><td>Braives</td><td>BE</td><td>lacus.Quisque@consectetuer.co.uk</td><td>Omar Maldonado</td></tr><tr><td>4976 Egestas. Av.</td><td>Valley East</td><td>ER</td><td>Integer.aliquam.adipiscing@mauris.ca</td><td>Zachery Bender</td></tr><tr><td>276-3396 Facilisis Street</td><td>B�ziers</td><td>PA</td><td>at.pretium@magnisdisparturient.com</td><td>Salvador Greene</td></tr><tr><td>Ap #362-9289 Magna. Avenue</td><td>Houston</td><td>BY</td><td>imperdiet.ullamcorper@euismodmauris.org</td><td>Harrison Rosales</td></tr><tr><td>P.O. Box 407, 8160 Nec Street</td><td>Barranca</td><td>GI</td><td>Quisque.ac@egestasadui.net</td><td>Abbot Hayes</td></tr><tr><td>558-690 Elementum, Avenue</td><td>Castel San Niccol�</td><td>GR</td><td>justo.faucibus@Nunc.com</td><td>Ulric Abbott</td></tr><tr><td>6032 Non, Avenue</td><td>Velsk</td><td>KZ</td><td>nec.ante.Maecenas@nequeInornare.com</td><td>Ferdinand Campbell</td></tr><tr><td>P.O. Box 511, 5486 Elementum, Avenue</td><td>LaSalle</td><td>FI</td><td>pede.malesuada.vel@enim.org</td><td>Nero Mitchell</td></tr><tr><td>454-7193 Tincidunt Rd.</td><td>Branchon</td><td>CA</td><td>ullamcorper.nisl@sitametorci.net</td><td>Victor Albert</td></tr><tr><td>382-2911 Nunc St.</td><td>Palakkad</td><td>SA</td><td>non.luctus@Duismi.ca</td><td>Eagan Carey</td></tr><tr><td>9248 Elit. Av.</td><td>Dresden</td><td>BS</td><td>non@nunc.edu</td><td>Travis Manning</td></tr><tr><td>Ap #725-3835 Ultrices St.</td><td>Yurzhnouralsk</td><td>NP</td><td>urna.justo@nullavulputate.org</td><td>Kyle Gillespie</td></tr><tr><td>626-1714 Lacus Street</td><td>Salamanca</td><td>PA</td><td>egestas.urna@nonummyut.edu</td><td>Wade Waters</td></tr><tr><td>915-6048 Nunc Rd.</td><td>Campbelltown</td><td>GE</td><td>lacus.Cras@est.edu</td><td>Evan Leach</td></tr><tr><td>448-8457 Dapibus Road</td><td>Carunchio</td><td>IQ</td><td>sed.pede@sociisnatoquepenatibus.com</td><td>Lucian Watkins</td></tr><tr><td>P.O. Box 468, 8990 Semper St.</td><td>Pangkalpinang</td><td>BS</td><td>velit.egestas@dui.ca</td><td>Howard Vargas</td></tr><tr><td>893-8895 Lacinia St.</td><td>Labico</td><td>BI</td><td>justo@eusem.ca</td><td>Gabriel Cabrera</td></tr><tr><td>277-2012 Aliquet Ave</td><td>Fort Laird</td><td>SB</td><td>accumsan.convallis.ante@vestibulum.com</td><td>Upton Avila</td></tr><tr><td>918-2741 Semper Avenue</td><td>H_villers</td><td>PK</td><td>mauris@metusAliquam.org</td><td>Dorian Farmer</td></tr><tr><td>P.O. Box 159, 4292 Turpis Street</td><td>Cessnock</td><td>SC</td><td>gravida@semperNam.org</td><td>Philip Nolan</td></tr><tr><td>342-2129 Nam Ave</td><td>Banjarmasin</td><td>NA</td><td>Mauris@Duismi.ca</td><td>Carter Burke</td></tr></tbody></table></div>"
      ]
     },
     "metadata": {
      "application/vnd.databricks.v1+output": {
       "addedWidgets": {},
       "aggData": [],
       "aggError": "",
       "aggOverflow": false,
       "aggSchema": [],
       "aggSeriesLimitReached": false,
       "aggType": "",
       "arguments": {},
       "columnCustomDisplayInfos": {},
       "data": [
        [
         "Ap #387-8229 Nullam Road",
         "Kilsyth",
         "HN",
         "lacus.Nulla@Classaptenttaciti.ca",
         "Jason Orr"
        ],
        [
         "P.O. Box 905, 9608 Etiam St.",
         "Portici",
         "HR",
         "Integer.vulputate.risus@est.co.uk",
         "Devin Herman"
        ],
        [
         "Ap #694-3226 Odio St.",
         "Bothey",
         "JO",
         "ligula@porttitortellusnon.org",
         "Kennan Head"
        ],
        [
         "Ap #378-2594 Arcu. Road",
         "Oudegem",
         "LR",
         "eu@Phasellusvitaemauris.com",
         "Peter Fry"
        ],
        [
         "418-8277 Sociis Ave",
         "Charleville-Mézières",
         "TG",
         "vestibulum.Mauris.magna@ipsumdolorsit.com",
         "Guy Ball"
        ],
        [
         "381-4840 Tellus Rd.",
         "Henderson",
         "KE",
         "non.arcu.Vivamus@Proin.com",
         "Vincent Parsons"
        ],
        [
         "152-5224 Penatibus Street",
         "Göppingen",
         "ZA",
         "molestie.dapibus.ligula@hendreritDonecporttitor.edu",
         "Cain Schroeder"
        ],
        [
         "P.O. Box 390, 9207 Elit, St.",
         "Morinville",
         "SE",
         "adipiscing@tempor.net",
         "Cruz Gill"
        ],
        [
         "156-1262 Orci, Avenue",
         "Korbach",
         "PR",
         "non@ullamcorpereu.edu",
         "Travis Dickerson"
        ],
        [
         "Ap #464-7569 Maecenas Road",
         "Tourinnes-Saint-Lambert",
         "NZ",
         "tellus.Phasellus.elit@Sedetlibero.edu",
         "Orlando Stone"
        ],
        [
         "409-3473 Class Road",
         "Lille",
         "PA",
         "scelerisque.dui@necligulaconsectetuer.edu",
         "Edan Wells"
        ],
        [
         "Ap #489-3585 Neque. Avenue",
         "Santa Cesarea Terme",
         "LB",
         "rutrum@Nuncsedorci.ca",
         "Kennan Arnold"
        ],
        [
         "957-9279 Nibh. Rd.",
         "Antibes",
         "CL",
         "nascetur.ridiculus.mus@lacusvarius.edu",
         "Palmer Ashley"
        ],
        [
         "5503 Sociis St.",
         "Brighton",
         "GN",
         "scelerisque@nonante.org",
         "Jasper Miller"
        ],
        [
         "495-3516 Natoque Rd.",
         "Buckingham",
         "GP",
         "molestie@euismod.edu",
         "Alden Hawkins"
        ],
        [
         "P.O. Box 750, 2207 Odio. St.",
         "Cardedu",
         "FR",
         "commodo.at.libero@ametdiameu.co.uk",
         "Talon Blake"
        ],
        [
         "P.O. Box 536, 9647 Iaculis Street",
         "Kulti-Barakar",
         "KI",
         "elit.pellentesque@Nuncmauris.com",
         "Demetrius Cardenas"
        ],
        [
         "9763 Mi Avenue",
         "Kirkland",
         "NE",
         "Morbi.quis@Ut.org",
         "Kieran Guerrero"
        ],
        [
         "Ap #542-3322 Sit Street",
         "Kufstein",
         "AM",
         "elit.elit.fermentum@et.co.uk",
         "Zachery Kerr"
        ],
        [
         "5853 Dictum St.",
         "Caldera",
         "AF",
         "fringilla.mi.lacinia@risus.org",
         "Keith Pittman"
        ],
        [
         "7982 Velit St.",
         "Raigarh",
         "UY",
         "id.libero@dis.ca",
         "Mohammad Kane"
        ],
        [
         "852 Velit. St.",
         "Kaluga",
         "VC",
         "ultrices@egestaslaciniaSed.org",
         "Cameron Sexton"
        ],
        [
         "4033 Vel, Av.",
         "Kayseri",
         "BE",
         "sagittis@egestasAliquamnec.ca",
         "Hayes Pitts"
        ],
        [
         "Ap #586-281 Augue St.",
         "Worcester",
         "GB",
         "urna.convallis.erat@orciPhasellusdapibus.co.uk",
         "Todd Camacho"
        ],
        [
         "700-5684 Ligula. Rd.",
         "Ipatinga",
         "TG",
         "a.scelerisque.sed@Suspendissedui.co.uk",
         "Seth Hancock"
        ],
        [
         "843-6181 Ut Rd.",
         "Cannes",
         "PG",
         "cursus.purus.Nullam@lectusjustoeu.com",
         "Blaze Obrien"
        ],
        [
         "Ap #461-6178 Sit St.",
         "Mosquera",
         "KP",
         "eget@metus.co.uk",
         "Levi Nolan"
        ],
        [
         "P.O. Box 985, 6324 Nec Avenue",
         "Amstelveen",
         "CA",
         "malesuada@temporaugue.ca",
         "August Perez"
        ],
        [
         "7217 Mauris Rd.",
         "Mardan",
         "LC",
         "in.dolor.Fusce@loremipsumsodales.ca",
         "Melvin Lambert"
        ],
        [
         "630-619 Ut Ave",
         "Onega",
         "GW",
         "euismod.mauris@Nuncsollicitudincommodo.com",
         "Griffith Avila"
        ],
        [
         "2770 Consectetuer Rd.",
         "Norfolk County",
         "UZ",
         "consectetuer@ultrices.co.uk",
         "Martin Weiss"
        ],
        [
         "408-8848 Metus Ave",
         "Bekasi",
         "MR",
         "eu@risus.edu",
         "Coby Shannon"
        ],
        [
         "212-8158 Orci Avenue",
         "Kelso",
         "BZ",
         "lobortis@quamPellentesque.org",
         "Solomon Benson"
        ],
        [
         "Ap #142-4287 Commodo St.",
         "San Vicente de Cañete",
         "KM",
         "pede.Praesent@Aliquam.edu",
         "Lev Morales"
        ],
        [
         "Ap #902-4533 Varius Ave",
         "Belgaum",
         "MP",
         "enim@Nuncmauris.ca",
         "Jameson Glover"
        ],
        [
         "208-4454 A, St.",
         "Sprimont",
         "PW",
         "libero.Integer@congueturpisIn.co.uk",
         "Eric Dillard"
        ],
        [
         "4280 Aliquam Av.",
         "Den Helder",
         "TC",
         "In.lorem@metusvitae.org",
         "Trevor Ewing"
        ],
        [
         "8222 Nunc Avenue",
         "Nieuwkapelle",
         "RS",
         "augue.ac@mi.edu",
         "Mark Lucas"
        ],
        [
         "675-8472 Lectus Av.",
         "Tolve",
         "MW",
         "elit.pharetra@luctusaliquet.co.uk",
         "Jerome Tyson"
        ],
        [
         "Ap #399-9248 Nascetur Rd.",
         "Heist-aan-Zee",
         "CA",
         "Phasellus@faucibusutnulla.co.uk",
         "Hayden Mccormick"
        ],
        [
         "955-8279 Lorem, Avenue",
         "Mocoa",
         "CL",
         "Donec.elementum.lorem@eutemporerat.co.uk",
         "Malik Wyatt"
        ],
        [
         "Ap #601-2620 Dui. Ave",
         "Bostaniçi",
         "BZ",
         "elit.Etiam.laoreet@aenimSuspendisse.org",
         "Nathan Richards"
        ],
        [
         "Ap #474-6202 Duis St.",
         "Aurora",
         "TG",
         "non.egestas@necleo.com",
         "Harper Fernandez"
        ],
        [
         "Ap #620-6887 Sodales Ave",
         "Casper",
         "ML",
         "Phasellus@auctornon.co.uk",
         "Vladimir Parks"
        ],
        [
         "Ap #187-7047 Nulla Avenue",
         "Schore",
         "BO",
         "eu.sem.Pellentesque@enimnonnisi.ca",
         "Peter Hubbard"
        ],
        [
         "5786 Nonummy. Street",
         "Akşehir",
         "SO",
         "cubilia.Curae@Suspendisse.org",
         "Kelly Lott"
        ],
        [
         "4824 Eget, Avenue",
         "Skövde",
         "TN",
         "ac.mattis.velit@nuncrisusvarius.edu",
         "Jelani Mccormick"
        ],
        [
         "4087 In Rd.",
         "Tomé",
         "RE",
         "non@molestiedapibus.com",
         "Adam Dixon"
        ],
        [
         "Ap #331-1530 Mollis Avenue",
         "Lestizza",
         "HK",
         "purus.in.molestie@nonarcuVivamus.net",
         "Michael Lang"
        ],
        [
         "Ap #460-7651 Donec St.",
         "San Rafael",
         "CA",
         "Phasellus.dolor@mipede.edu",
         "Jeremy Rowland"
        ],
        [
         "Ap #636-5529 Nec Avenue",
         "Mold",
         "HT",
         "augue.eu@ullamcorper.com",
         "Salvador Gregory"
        ],
        [
         "P.O. Box 288, 2196 Ac Road",
         "Berceto",
         "PA",
         "nec@elitAliquamauctor.ca",
         "Nero Ferguson"
        ],
        [
         "P.O. Box 644, 2791 Tellus. St.",
         "Peterborough",
         "EH",
         "euismod@Maecenasmalesuadafringilla.com",
         "Jesse Lindsey"
        ],
        [
         "P.O. Box 530, 5607 Orci Rd.",
         "Rochester",
         "SB",
         "et.tristique@ante.edu",
         "Myles Spence"
        ],
        [
         "P.O. Box 387, 9376 Aliquam Rd.",
         "Barra do Corda",
         "ET",
         "Donec.egestas@aliquamiaculis.edu",
         "Price Buchanan"
        ],
        [
         "Ap #923-2316 Euismod Street",
         "Landenne",
         "AT",
         "neque.vitae@consectetueripsum.com",
         "Otto Beck"
        ],
        [
         "Ap #285-2076 Sed, Ave",
         "Montefalcone nel Sannio",
         "CD",
         "iaculis.lacus.pede@acarcu.co.uk",
         "Ferris Stewart"
        ],
        [
         "Ap #143-6767 Urna Rd.",
         "Castres",
         "EE",
         "mi.tempor.lorem@nulla.co.uk",
         "Arthur Hinton"
        ],
        [
         "292-2737 Cras Av.",
         "Torquay",
         "DO",
         "mollis.dui.in@eulacusQuisque.co.uk",
         "Wing Dodson"
        ],
        [
         "P.O. Box 648, 8380 Euismod Ave",
         "Berbroek",
         "SK",
         "ultrices.iaculis@Mauris.co.uk",
         "Aristotle Gross"
        ],
        [
         "9302 Elit. Rd.",
         "Tournefeuille",
         "AU",
         "convallis@telluslorem.ca",
         "Kato Price"
        ],
        [
         "Ap #305-3212 Enim. Rd.",
         "Falkensee",
         "AS",
         "eu@acfermentumvel.com",
         "Lee Landry"
        ],
        [
         "483-6297 Mauris Road",
         "Lauro de Freitas",
         "TC",
         "eleifend.egestas.Sed@nuncsed.org",
         "Daniel Mays"
        ],
        [
         "Ap #795-7395 Odio St.",
         "Tübingen",
         "GP",
         "amet.dapibus@Duisac.com",
         "Preston Salazar"
        ],
        [
         "Ap #725-1664 Sit Rd.",
         "Drayton Valley",
         "IT",
         "purus@facilisis.edu",
         "Callum Leach"
        ],
        [
         "7769 Et, Ave",
         "West Vancouver",
         "AI",
         "natoque.penatibus@orcisemeget.ca",
         "Driscoll Mcgee"
        ],
        [
         "930-2451 Dui. Av.",
         "Austin",
         "GM",
         "Cum@tempus.edu",
         "Melvin Hurst"
        ],
        [
         "779-6935 Ipsum. Road",
         "Campinas",
         "GF",
         "magna.malesuada.vel@sem.edu",
         "Kasper Morse"
        ],
        [
         "P.O. Box 130, 3913 Enim. St.",
         "Marbella",
         "CZ",
         "elit@tortordictumeu.ca",
         "Phillip Charles"
        ],
        [
         "3412 A Av.",
         "Timaru",
         "TW",
         "amet.consectetuer@etultricesposuere.net",
         "Kieran Perez"
        ],
        [
         "8638 Condimentum. Street",
         "Zwettl-Niederösterreich",
         "PG",
         "dictum.mi@velitjustonec.edu",
         "Nicholas Craig"
        ],
        [
         "108-6743 Nonummy Rd.",
         "Sant'Egidio alla Vibrata",
         "NZ",
         "a.feugiat.tellus@justo.org",
         "Axel Carson"
        ],
        [
         "Ap #447-7880 Nam Rd.",
         "Quenast",
         "LY",
         "ligula@felisadipiscing.ca",
         "Samson Lawson"
        ],
        [
         "Ap #506-2439 Est. Rd.",
         "Lisieux",
         "TN",
         "porttitor@libero.edu",
         "Lance Luna"
        ],
        [
         "1234 Nec Avenue",
         "Worcester",
         "AU",
         "magnis@pede.com",
         "Quamar Richmond"
        ],
        [
         "178-9267 Tempus St.",
         "Sirsa",
         "UY",
         "lectus@metusAliquam.ca",
         "Hiram Cook"
        ],
        [
         "5418 Cras Street",
         "Serik",
         "ES",
         "malesuada@lectuspedeultrices.co.uk",
         "Hilel Dodson"
        ],
        [
         "7451 Consectetuer St.",
         "Gießen",
         "TG",
         "laoreet@rhoncusid.ca",
         "Jerry Gallegos"
        ],
        [
         "P.O. Box 760, 6203 Dolor Road",
         "Grangemouth",
         "US",
         "semper.dui.lectus@augueeu.ca",
         "Keefe York"
        ],
        [
         "4655 A, Av.",
         "Meerle",
         "SI",
         "Donec.vitae@sitamet.com",
         "Emmanuel Fernandez"
        ],
        [
         "911-7997 Molestie Rd.",
         "Vandoeuvre-lès-Nancy",
         "MY",
         "cursus@CrasinterdumNunc.ca",
         "Chancellor Bradford"
        ],
        [
         "Ap #407-3563 Ullamcorper, Road",
         "Roccasicura",
         "GA",
         "metus@Maurisnondui.ca",
         "Lars Rowe"
        ],
        [
         "P.O. Box 655, 6461 Ultrices Street",
         "Lago Ranco",
         "HN",
         "mollis@faucibusorciluctus.com",
         "Nathaniel Strong"
        ],
        [
         "211 Egestas Ave",
         "Cañete",
         "LK",
         "gravida@convallisantelectus.net",
         "Matthew Yates"
        ],
        [
         "P.O. Box 298, 1678 Eros. Rd.",
         "Kisi",
         "SD",
         "convallis.convallis@duilectusrutrum.edu",
         "Declan Blackburn"
        ],
        [
         "Ap #415-6689 Fames Road",
         "Castelvecchio Calvisio",
         "PT",
         "eu@libero.ca",
         "Hasad Pittman"
        ],
        [
         "937-3242 Vitae Av.",
         "Moxhe",
         "SA",
         "lacus@faucibusMorbivehicula.org",
         "Tate Dickson"
        ],
        [
         "596-276 Placerat, St.",
         "Jacobabad",
         "BB",
         "Maecenas.ornare.egestas@odio.net",
         "Beck Wiggins"
        ],
        [
         "597-4566 Nulla. Street",
         "Snellegem",
         "DJ",
         "lacus.Cras.interdum@ante.com",
         "Brendan Reed"
        ],
        [
         "P.O. Box 685, 1599 Phasellus Rd.",
         "Talca",
         "SZ",
         "nostra@Nullamnisl.ca",
         "Xanthus Brewer"
        ],
        [
         "3472 Dolor St.",
         "Meux",
         "LC",
         "ullamcorper.magna@loremDonecelementum.org",
         "Robert Lewis"
        ],
        [
         "P.O. Box 306, 2999 Nunc St.",
         "Bhavnagar",
         "SB",
         "adipiscing.elit@tempordiamdictum.co.uk",
         "Orson Tyson"
        ],
        [
         "6991 Mi St.",
         "Saint-Herblain",
         "AG",
         "augue.malesuada@magnis.edu",
         "Jin Henry"
        ],
        [
         "3724 Fringilla Rd.",
         "Gignod",
         "MD",
         "Nunc@molestieorcitincidunt.edu",
         "Theodore Rowland"
        ],
        [
         "162-6784 At Av.",
         "North Cowichan",
         "CH",
         "dui.Cras.pellentesque@arcuVestibulum.org",
         "Lance Mcpherson"
        ],
        [
         "P.O. Box 648, 4700 Ut Ave",
         "Norfolk",
         "DZ",
         "ut.molestie@lobortis.co.uk",
         "Nathaniel Goff"
        ],
        [
         "479-1881 Congue Street",
         "Oromocto",
         "BE",
         "Fusce.dolor@orcilacus.co.uk",
         "Caleb Rowland"
        ],
        [
         "P.O. Box 724, 719 Quis St.",
         "Gladstone",
         "SH",
         "Morbi.metus.Vivamus@fringillaDonec.com",
         "Chaim Burke"
        ],
        [
         "P.O. Box 736, 206 Odio. Rd.",
         "Butte",
         "LC",
         "lorem.vitae@nislNullaeu.com",
         "Andrew Mcgee"
        ],
        [
         "856 Metus Rd.",
         "Hattiesburg",
         "IM",
         "non.leo@magna.com",
         "Drew Keith"
        ],
        [
         "818-3086 Erat. Av.",
         "Fabro",
         "SL",
         "nunc.id@lobortisaugue.com",
         "Clinton Roberts"
        ],
        [
         "7024 Curabitur Rd.",
         "Mocoa",
         "AL",
         "Sed.molestie@utcursusluctus.edu",
         "Clinton Rivers"
        ],
        [
         "Ap #568-7555 Eu St.",
         "Neuss",
         "ES",
         "orci.Phasellus.dapibus@ligulaAeneaneuismod.com",
         "Malachi Phillips"
        ],
        [
         "Ap #824-9072 Facilisis Rd.",
         "Barnstaple",
         "AI",
         "fermentum@vel.com",
         "Lyle Valenzuela"
        ],
        [
         "896-5716 Quam Av.",
         "Bettiah",
         "FJ",
         "fermentum.convallis@diam.ca",
         "Garth Russell"
        ],
        [
         "P.O. Box 365, 6947 Facilisis Rd.",
         "Maasmechelen",
         "VC",
         "enim.consequat@eratnonummyultricies.edu",
         "Paul Kent"
        ],
        [
         "2129 Suspendisse Street",
         "Santa Mar�a",
         "CN",
         "ultrices@ridiculusmus.com",
         "Jerry Hester"
        ],
        [
         "P.O. Box 118, 9257 Sem Rd.",
         "Woodlands County",
         "PW",
         "lobortis.augue@euaccumsan.ca",
         "Donovan Figueroa"
        ],
        [
         "P.O. Box 376, 1004 Nec St.",
         "Iqaluit",
         "SE",
         "in.tempus.eu@estMauriseu.co.uk",
         "Slade Burton"
        ],
        [
         "Ap #516-2127 Et, Av.",
         "Nankana Sahib",
         "BA",
         "non@malesuadafringilla.ca",
         "Emerson English"
        ],
        [
         "1658 Egestas Ave",
         "Fresno",
         "LC",
         "non.massa@euismod.com",
         "Aladdin Vega"
        ],
        [
         "Ap #228-9223 Luctus Street",
         "Penrith",
         "US",
         "urna@diamProin.com",
         "Bruno Cardenas"
        ],
        [
         "P.O. Box 226, 9624 Vestibulum Street",
         "Kemzeke",
         "UA",
         "ac.arcu.Nunc@loremvitaeodio.ca",
         "Hu Simpson"
        ],
        [
         "P.O. Box 847, 2296 Dui. Ave",
         "Bekegem",
         "BG",
         "pede.ac.urna@pedesagittis.edu",
         "Luke Hardy"
        ],
        [
         "739-360 Facilisis St.",
         "Buggenhout",
         "BJ",
         "Donec.est@penatibuset.ca",
         "Colorado Lyons"
        ],
        [
         "247-5131 Lectus St.",
         "Pincher Creek",
         "GE",
         "in.magna.Phasellus@lobortismauris.ca",
         "Chandler Perkins"
        ],
        [
         "7560 Aliquet Road",
         "Pessac",
         "VC",
         "Etiam@dui.edu",
         "August Ramirez"
        ],
        [
         "1508 Risus. Ave",
         "Victoria",
         "DM",
         "in@eratvolutpatNulla.ca",
         "Cruz Valencia"
        ],
        [
         "Ap #197-8040 Arcu. Rd.",
         "Maria",
         "AZ",
         "eros.Nam.consequat@ornareliberoat.net",
         "Stewart Cain"
        ],
        [
         "1014 Sed Rd.",
         "Genappe",
         "MW",
         "scelerisque@erategettincidunt.edu",
         "Gil Frye"
        ],
        [
         "647-6031 Duis Ave",
         "Chennai",
         "MS",
         "Nullam.enim.Sed@leoVivamus.org",
         "Perry Ochoa"
        ],
        [
         "P.O. Box 120, 6896 Dolor. St.",
         "Norrk�ping",
         "AM",
         "cursus@nullaInteger.org",
         "Chancellor Barry"
        ],
        [
         "573-9715 Morbi Avenue",
         "Edmundston",
         "DJ",
         "In.at@Curabiturutodio.edu",
         "Michael Harrington"
        ],
        [
         "2995 Aliquam St.",
         "Gavorrano",
         "EH",
         "metus.In@gravidamolestie.ca",
         "Hilel Sparks"
        ],
        [
         "P.O. Box 302, 1541 Risus Av.",
         "Bursa",
         "TW",
         "ullamcorper@vel.co.uk",
         "Vladimir Hopper"
        ],
        [
         "P.O. Box 750, 4740 Pellentesque Ave",
         "R�ves",
         "AI",
         "sed.leo@lobortis.com",
         "Aidan Bowers"
        ],
        [
         "635-3929 Dignissim Ave",
         "Bonnert",
         "UA",
         "risus@anteiaculisnec.com",
         "Omar Munoz"
        ],
        [
         "780-4432 Dui. Rd.",
         "R�o Bueno",
         "AI",
         "laoreet.ipsum@Vivamusrhoncus.ca",
         "Warren Mcgee"
        ],
        [
         "805-395 Dui, Rd.",
         "Gistel",
         "GY",
         "natoque@semperdui.org",
         "Rooney Knowles"
        ],
        [
         "Ap #598-295 Tellus Road",
         "Fuenlabrada",
         "CN",
         "Mauris.quis@urnasuscipitnonummy.edu",
         "Armand Mcdowell"
        ],
        [
         "844-9510 Sem, Rd.",
         "Sibi",
         "WF",
         "aptent@Donec.com",
         "Neville Ferguson"
        ],
        [
         "P.O. Box 166, 4854 Conubia Av.",
         "Sloten",
         "AZ",
         "Etiam.gravida.molestie@enim.ca",
         "Reese Macdonald"
        ],
        [
         "Ap #379-7163 Egestas, Road",
         "San Francisco",
         "SY",
         "volutpat@molestietellus.org",
         "Orlando Pickett"
        ],
        [
         "Ap #804-9612 Feugiat. Street",
         "Kitchener",
         "KY",
         "enim.Nunc@etultricesposuere.org",
         "Rooney Anderson"
        ],
        [
         "P.O. Box 373, 9123 Consequat St.",
         "Khammam",
         "NO",
         "Pellentesque.tincidunt@sitamet.ca",
         "Flynn Blevins"
        ],
        [
         "Ap #561-9997 Magna. Ave",
         "La Matap�dia",
         "ST",
         "non.lobortis@necante.edu",
         "Baxter Bray"
        ],
        [
         "7428 Vitae St.",
         "Kasur",
         "JE",
         "interdum.Nunc@Curabitur.edu",
         "Reuben Alford"
        ],
        [
         "119-9495 Vitae Av.",
         "Karachi",
         "DJ",
         "gravida.sagittis.Duis@velarcuCurabitur.ca",
         "Dante Mcneil"
        ],
        [
         "466-9528 Malesuada Street",
         "Aosta",
         "BY",
         "tristique.ac.eleifend@ridiculusmusDonec.ca",
         "Josiah Mayer"
        ],
        [
         "718 Diam Rd.",
         "Trento",
         "PH",
         "Duis@enimdiam.ca",
         "Branden Mullen"
        ],
        [
         "Ap #192-2636 Nibh Rd.",
         "Allentown",
         "VI",
         "ullamcorper@quamPellentesquehabitant.edu",
         "Jesse Franks"
        ],
        [
         "Ap #453-9480 Nunc Road",
         "Banjar",
         "TD",
         "vestibulum.neque.sed@egetlaoreetposuere.edu",
         "Dante Pruitt"
        ],
        [
         "P.O. Box 285, 8041 Diam Avenue",
         "Phoenix",
         "GT",
         "Ut.nec@diam.com",
         "Galvin Hodges"
        ],
        [
         "P.O. Box 109, 771 Nulla St.",
         "Tarcento",
         "CV",
         "cursus.Nunc@velitSed.co.uk",
         "Brendan Herring"
        ],
        [
         "Ap #711-4534 Semper Street",
         "Cles",
         "AG",
         "non.enim.Mauris@arcuSedet.co.uk",
         "Camden House"
        ],
        [
         "Ap #280-2565 Adipiscing. Rd.",
         "Blackwood",
         "KH",
         "massa.rutrum.magna@nasceturridiculusmus.com",
         "Cameron Figueroa"
        ],
        [
         "979-7074 Ac Road",
         "Grezzana",
         "LT",
         "adipiscing.Mauris.molestie@interdum.edu",
         "Addison Mendoza"
        ],
        [
         "629-5825 Mollis Av.",
         "Oordegem",
         "KM",
         "nibh@arcuVestibulumante.co.uk",
         "Fuller Gilbert"
        ],
        [
         "8020 Eros Rd.",
         "Rajkot",
         "UZ",
         "Donec@neccursus.com",
         "Daniel Bridges"
        ],
        [
         "2331 Semper Road",
         "Stratford-upon-Avon",
         "BF",
         "ultricies@perconubia.edu",
         "Grant Burgess"
        ],
        [
         "P.O. Box 115, 5701 Orci Av.",
         "Subiaco",
         "UY",
         "Aenean.massa.Integer@pede.net",
         "Joel Moss"
        ],
        [
         "291-6984 Enim Street",
         "Pettoranello del Molise",
         "UA",
         "non@bibendumullamcorper.org",
         "Cooper Rowland"
        ],
        [
         "P.O. Box 230, 5724 Elementum Ave",
         "Ollag�e",
         "GQ",
         "urna.et@temporbibendum.net",
         "Peter Conley"
        ],
        [
         "4341 Faucibus Street",
         "Baasrode",
         "CL",
         "nec.mollis@euenim.org",
         "Nigel Case"
        ],
        [
         "P.O. Box 466, 3100 Purus Road",
         "Cama�ari",
         "GQ",
         "parturient@diam.co.uk",
         "Ivor Frost"
        ],
        [
         "315 Ipsum. St.",
         "Bourges",
         "DZ",
         "lectus.pede.et@liberomauris.ca",
         "Brandon Gomez"
        ],
        [
         "608-1671 Ultricies St.",
         "Pirmasens",
         "SN",
         "elit@perinceptoshymenaeos.org",
         "Ali Wilkerson"
        ],
        [
         "Ap #572-2894 Est. St.",
         "Seosan",
         "JO",
         "nonummy@Integer.org",
         "Marshall Hunt"
        ],
        [
         "494-5293 Phasellus Rd.",
         "Gravilias",
         "ST",
         "facilisis.lorem@orcilacus.edu",
         "Griffith Christian"
        ],
        [
         "247-8871 Habitant Ave",
         "Lansing",
         "NC",
         "magna@magna.ca",
         "Arden Watson"
        ],
        [
         "Ap #645-5301 Enim Av.",
         "Tsiigehtchic",
         "UG",
         "neque.Nullam.ut@nonleo.net",
         "Noble Hayes"
        ],
        [
         "9425 Massa. Av.",
         "Chestermere",
         "BE",
         "consequat.purus.Maecenas@duinec.org",
         "Allen Doyle"
        ],
        [
         "Ap #594-4359 Ullamcorper Avenue",
         "Putaendo",
         "ET",
         "tellus.Suspendisse@diamluctuslobortis.org",
         "Darius Bradshaw"
        ],
        [
         "373-7223 Integer Street",
         "Coimbatore",
         "LV",
         "Cum@eratVivamus.edu",
         "Dale Saunders"
        ],
        [
         "Ap #684-2283 Nibh Avenue",
         "Petr�polis",
         "MA",
         "libero.at.auctor@utpharetra.net",
         "Caleb Booker"
        ],
        [
         "8947 Pulvinar Avenue",
         "Pietraroja",
         "DE",
         "tristique.pellentesque.tellus@fringillapurusmauris.co.uk",
         "Ishmael Torres"
        ],
        [
         "801-8119 Egestas Avenue",
         "Soacha",
         "GQ",
         "In.tincidunt@primisinfaucibus.co.uk",
         "Gavin Davis"
        ],
        [
         "7531 Pede St.",
         "Salem",
         "TD",
         "auctor.vitae.aliquet@dapibus.edu",
         "Ulysses Mack"
        ],
        [
         "933-3179 Aliquet, Street",
         "Birmingham",
         "BG",
         "ut.nulla.Cras@Quisque.net",
         "Bert Delgado"
        ],
        [
         "860-9152 Fringilla Ave",
         "Paranagu�",
         "YE",
         "ut@at.com",
         "Leroy House"
        ],
        [
         "4949 Elementum, Rd.",
         "Kamyzyak",
         "UY",
         "suscipit.est@nibhDonec.ca",
         "Hunter Hebert"
        ],
        [
         "765-9113 Nec, Ave",
         "Sombreffe",
         "LY",
         "vestibulum@Donec.ca",
         "Rudyard Gay"
        ],
        [
         "P.O. Box 240, 890 Mus. Rd.",
         "Rijkevorsel",
         "GM",
         "dolor@porttitorinterdum.org",
         "Fitzgerald Vargas"
        ],
        [
         "P.O. Box 846, 9953 Arcu. St.",
         "Halkirk",
         "ZA",
         "risus.Donec@cursusnonegestas.net",
         "Vladimir Cain"
        ],
        [
         "799-9462 Adipiscing St.",
         "Patos",
         "DK",
         "Nunc@dui.co.uk",
         "Uriah Hartman"
        ],
        [
         "Ap #558-8874 Consequat Street",
         "Oldenburg",
         "GF",
         "Donec.vitae.erat@commodoipsumSuspendisse.org",
         "Flynn Briggs"
        ],
        [
         "4725 Ipsum St.",
         "Kelkheim",
         "MW",
         "sed.libero.Proin@auctorvelit.org",
         "Lyle Dunn"
        ],
        [
         "P.O. Box 266, 2594 Adipiscing Road",
         "Surendranagar",
         "KM",
         "lectus@Suspendissenon.net",
         "Gregory Vaughan"
        ],
        [
         "777-5951 Tellus Rd.",
         "Roselies",
         "LK",
         "penatibus.et@Mauriseu.edu",
         "Ryder Tyson"
        ],
        [
         "Ap #116-5724 Semper, Av.",
         "Omaha",
         "ES",
         "libero@magna.net",
         "Stewart Emerson"
        ],
        [
         "P.O. Box 106, 4777 Tincidunt Avenue",
         "Camrose",
         "MX",
         "diam.luctus@interdum.com",
         "Peter Diaz"
        ],
        [
         "590-1858 Nunc. St.",
         "Sluis",
         "TH",
         "Donec.nibh@aliquetodioEtiam.org",
         "Davis Blackburn"
        ],
        [
         "Ap #404-8260 Vel Street",
         "Columbus",
         "NE",
         "magna.Duis@Maecenasornareegestas.co.uk",
         "Neville Ortega"
        ],
        [
         "Ap #357-9261 Dolor, Rd.",
         "Montaldo Bormida",
         "BS",
         "mi.lacinia@ultrices.edu",
         "Sylvester Gonzalez"
        ],
        [
         "Ap #914-4829 Proin St.",
         "New Quay",
         "MV",
         "ac.arcu@eget.ca",
         "Sawyer Harrington"
        ],
        [
         "9166 Non, Av.",
         "C�rdoba",
         "MW",
         "amet@eteuismod.ca",
         "Elijah Jacobson"
        ],
        [
         "605-6619 Duis Rd.",
         "Skardu",
         "CN",
         "nisl@Pellentesquehabitant.com",
         "Emmanuel Sosa"
        ],
        [
         "213-5212 Nulla. Road",
         "Armungia",
         "FM",
         "Lorem.ipsum@Nuncullamcorper.net",
         "Gary Ruiz"
        ],
        [
         "P.O. Box 171, 8108 Consectetuer Road",
         "Pietragalla",
         "MO",
         "vitae.dolor@placerataugueSed.co.uk",
         "Harper Raymond"
        ],
        [
         "438-564 Dis St.",
         "Feira de Santana",
         "GH",
         "dapibus.quam@ut.net",
         "Scott Estrada"
        ],
        [
         "Ap #307-8891 Vivamus Rd.",
         "Barrie",
         "MC",
         "Morbi.vehicula.Pellentesque@dolor.com",
         "Lester Mccarthy"
        ],
        [
         "854-5205 Ut Road",
         "Arequipa",
         "IQ",
         "odio@nullaanteiaculis.edu",
         "Chandler Tyson"
        ],
        [
         "7927 Eu, St.",
         "Termeno sulla strada del vino/Tramin an der Weinstrasse",
         "ID",
         "justo.nec.ante@ornare.org",
         "Neil Pruitt"
        ],
        [
         "P.O. Box 628, 1777 Sed St.",
         "Swan Hills",
         "MY",
         "massa.Mauris@tempor.org",
         "Thor Munoz"
        ],
        [
         "8475 Sed Ave",
         "Sfruz",
         "SH",
         "a.scelerisque@liberoet.edu",
         "Geoffrey Conley"
        ],
        [
         "P.O. Box 672, 3707 Velit. Av.",
         "Uitbergen",
         "CF",
         "arcu@disparturient.edu",
         "Cade Preston"
        ],
        [
         "373-5053 Arcu. Rd.",
         "Spruce Grove",
         "CN",
         "Cras@sollicitudinadipiscingligula.com",
         "Chandler Randolph"
        ],
        [
         "P.O. Box 578, 6875 Ut Av.",
         "Adoni",
         "BA",
         "tortor.dictum.eu@Sedmalesuadaaugue.org",
         "Coby Mays"
        ],
        [
         "P.O. Box 174, 5423 Sem St.",
         "M�dling",
         "GH",
         "nibh.enim.gravida@utsem.org",
         "Kennan Graves"
        ],
        [
         "987-8351 Netus Avenue",
         "Sint-Denijs",
         "TD",
         "vestibulum@Vivamusnon.ca",
         "Declan Harmon"
        ],
        [
         "Ap #291-8523 Magna Rd.",
         "Vieste",
         "NO",
         "sit@Donectempus.edu",
         "Lucian Webster"
        ],
        [
         "622-419 Et Rd.",
         "Karachev",
         "VG",
         "in@Pellentesquehabitantmorbi.ca",
         "Cadman Weeks"
        ],
        [
         "509 At, St.",
         "Westmalle",
         "YE",
         "tortor@PhasellusornareFusce.co.uk",
         "Ferris Hardy"
        ],
        [
         "Ap #444-4944 Quis, Avenue",
         "Ruthin",
         "NA",
         "sed@perinceptoshymenaeos.edu",
         "Vernon Clayton"
        ],
        [
         "P.O. Box 153, 9427 Euismod St.",
         "College",
         "MQ",
         "penatibus@rutrum.org",
         "Melvin Harper"
        ],
        [
         "752-7301 Mauris. Road",
         "Friedrichsdorf",
         "FJ",
         "primis.in@Phasellusdapibus.org",
         "Joseph Clayton"
        ],
        [
         "P.O. Box 673, 5294 Aliquet, Rd.",
         "Oldenburg",
         "MA",
         "nisi@fringilla.com",
         "Caesar Gibson"
        ],
        [
         "P.O. Box 233, 3816 Erat Rd.",
         "Stene",
         "TH",
         "Proin.dolor.Nulla@dignissimlacusAliquam.co.uk",
         "Avram Hughes"
        ],
        [
         "Ap #484-4879 Sem. Rd.",
         "Moncrivello",
         "KW",
         "tincidunt@nulla.org",
         "Hiram Dunlap"
        ],
        [
         "255-7312 Tellus Street",
         "Sorbo Serpico",
         "JE",
         "est@maurisblandit.org",
         "Guy Compton"
        ],
        [
         "Ap #860-3633 Elit, Rd.",
         "Valkenburg aan de Geul",
         "HK",
         "a@quistristiqueac.com",
         "Ignatius Moses"
        ],
        [
         "P.O. Box 464, 5649 Non, Av.",
         "Balfour",
         "IE",
         "Integer.mollis@rhoncusProinnisl.org",
         "Leonard Lindsey"
        ],
        [
         "P.O. Box 635, 1640 Montes, Rd.",
         "Grand-Hallet",
         "MQ",
         "sit.amet.ornare@dictumsapien.org",
         "Evan Kline"
        ],
        [
         "581-4492 Arcu Rd.",
         "Oudergem",
         "PA",
         "euismod.mauris.eu@nostra.net",
         "Hector Shannon"
        ],
        [
         "8575 Eu Street",
         "Monte San Pietrangeli",
         "AT",
         "amet.consectetuer.adipiscing@laciniaorci.edu",
         "Asher Mooney"
        ],
        [
         "P.O. Box 621, 8321 Leo. Avenue",
         "Abergavenny",
         "UG",
         "et.risus.Quisque@arcuVivamus.ca",
         "Zane Berry"
        ],
        [
         "147-8580 Fringilla Av.",
         "Retford",
         "AL",
         "diam.Duis@auctorullamcorpernisl.net",
         "Ferdinand Hubbard"
        ],
        [
         "282-4083 In St.",
         "Dunkerque",
         "CY",
         "mattis@feugiatLoremipsum.co.uk",
         "Brady Cannon"
        ],
        [
         "943-2795 Vulputate, St.",
         "Fortaleza",
         "KG",
         "eget.mollis.lectus@mipede.ca",
         "Samuel Harding"
        ],
        [
         "243-1058 Et Street",
         "St. John's",
         "EG",
         "vitae.sodales@acsemut.com",
         "Tyrone Oneill"
        ],
        [
         "389 Feugiat Avenue",
         "Pointe-du-Lac",
         "SI",
         "vehicula.risus.Nulla@Etiamvestibulummassa.edu",
         "Plato Garcia"
        ],
        [
         "3941 Mi Rd.",
         "Franeker",
         "TW",
         "nisi@euultricessit.net",
         "Amos Herrera"
        ],
        [
         "3251 Volutpat Rd.",
         "Oostkerke",
         "ZW",
         "auctor.vitae@in.ca",
         "Lawrence Good"
        ],
        [
         "830 Arcu St.",
         "Vaux-lez-Rosieres",
         "AF",
         "Mauris.magna@commodo.edu",
         "Jeremy Obrien"
        ],
        [
         "7107 Pede. Ave",
         "Bad V�slau",
         "ZW",
         "ligula.eu.enim@magnaLoremipsum.ca",
         "Callum Payne"
        ],
        [
         "1078 Ut Avenue",
         "Martello/Martell",
         "CN",
         "tempus@egestas.com",
         "Randall Valentine"
        ],
        [
         "Ap #467-5472 Gravida. St.",
         "Ulyanovsk",
         "IQ",
         "at.augue.id@velmaurisInteger.co.uk",
         "Brett Page"
        ],
        [
         "Ap #282-1217 Nisi. Ave",
         "Lake Cowichan",
         "TG",
         "Vivamus.euismod@Sed.edu",
         "Kenneth Gross"
        ],
        [
         "Ap #914-1968 Arcu. Rd.",
         "Idaho Falls",
         "PF",
         "Sed.nunc.est@risusa.net",
         "Raymond Norton"
        ],
        [
         "P.O. Box 615, 2207 Urna. Street",
         "Brussegem",
         "TT",
         "amet.risus.Donec@fringillaeuismod.net",
         "Lucas Collins"
        ],
        [
         "Ap #401-9629 Risus. Avenue",
         "Daussoulx",
         "TT",
         "a@massaQuisqueporttitor.net",
         "Rafael Morrow"
        ],
        [
         "5776 Neque Rd.",
         "Coihaique",
         "MX",
         "aliquet.odio@risusIn.com",
         "Brady Pierce"
        ],
        [
         "7476 Aliquet Street",
         "Bonn",
         "KN",
         "ut@Aenean.net",
         "Rafael Wyatt"
        ],
        [
         "596-7121 Metus Ave",
         "Baili�vre",
         "NO",
         "ut.pharetra@mollisneccursus.edu",
         "Price Rutledge"
        ],
        [
         "699-6727 Orci Road",
         "Chennai",
         "KN",
         "at@utquamvel.com",
         "James Berger"
        ],
        [
         "5121 Dui. St.",
         "Marcq-en-Baroeul",
         "KE",
         "ultricies.adipiscing.enim@massaVestibulum.ca",
         "Allistair Warner"
        ],
        [
         "642-4881 Tincidunt, Rd.",
         "Preore",
         "LB",
         "ut.quam@dolor.com",
         "Linus Fisher"
        ],
        [
         "Ap #294-4152 Enim Road",
         "Strombeek-Bever",
         "UZ",
         "blandit.congue@condimentumDonec.ca",
         "Cain Shaffer"
        ],
        [
         "Ap #446-1569 Natoque Rd.",
         "Butte",
         "PG",
         "nisl.Quisque.fringilla@interdum.org",
         "Lucius Harvey"
        ],
        [
         "Ap #519-8655 Metus Av.",
         "Bargagli",
         "HU",
         "amet@egestasAliquamnec.net",
         "Kaseem Osborn"
        ],
        [
         "Ap #742-4994 Est, Avenue",
         "Russell",
         "TM",
         "odio@velitSedmalesuada.edu",
         "Tyrone Bird"
        ],
        [
         "182-4128 Turpis. Ave",
         "Gentbrugge",
         "GB",
         "pharetra.Nam.ac@nonleo.com",
         "Herrod Moore"
        ],
        [
         "1448 Fringilla St.",
         "Maip�",
         "CG",
         "a@orcisemeget.org",
         "Quentin Harvey"
        ],
        [
         "830-8010 Ac Road",
         "Zhukovka",
         "EC",
         "massa.Suspendisse@aptenttaciti.edu",
         "Amir Gould"
        ],
        [
         "729-2090 Malesuada. St.",
         "Hines Creek",
         "VU",
         "Cras.sed.leo@ametdiameu.org",
         "Wylie Boone"
        ],
        [
         "Ap #883-3499 Vitae St.",
         "Dolgellau",
         "MG",
         "sodales@Utsemper.ca",
         "Ciaran Oneill"
        ],
        [
         "857-8165 Curabitur Road",
         "Pak Pattan",
         "SR",
         "Fusce.mi@Nullam.net",
         "Josiah Head"
        ],
        [
         "245-5350 Feugiat St.",
         "Monte Vidon Corrado",
         "CI",
         "tellus.justo.sit@fermentum.ca",
         "Merritt Wiggins"
        ],
        [
         "Ap #984-9555 Scelerisque Road",
         "Jasper",
         "JE",
         "arcu.Vestibulum.ante@sodalesMauris.net",
         "Herrod Brennan"
        ],
        [
         "Ap #932-6427 Pharetra. St.",
         "Atlanta",
         "NL",
         "nulla.vulputate.dui@amet.com",
         "Brent Langley"
        ],
        [
         "2956 Vel, Rd.",
         "Monghidoro",
         "WS",
         "pede.ultrices@Vestibulumuteros.net",
         "Tyrone Thomas"
        ],
        [
         "1603 Ante Avenue",
         "Guarapuava",
         "UA",
         "Cum.sociis@Vivamusmolestie.co.uk",
         "Valentine Morrow"
        ],
        [
         "592-5812 Ornare St.",
         "Curarrehue",
         "HT",
         "egestas.a.scelerisque@ipsumporta.co.uk",
         "Brian Wiggins"
        ],
        [
         "371 Nibh. St.",
         "Cassaro",
         "CV",
         "ut@cursusa.com",
         "Aristotle Coffey"
        ],
        [
         "P.O. Box 423, 7790 Nibh. St.",
         "Gatchina",
         "IL",
         "Donec.est@purusNullamscelerisque.edu",
         "Blaze Shaw"
        ],
        [
         "Ap #153-9458 Convallis Av.",
         "Lillois-Witterz_e",
         "CN",
         "magna.Phasellus.dolor@pede.org",
         "Palmer David"
        ],
        [
         "1656 Nullam Rd.",
         "Chimbote",
         "LR",
         "Suspendisse@Cum.co.uk",
         "Valentine Bolton"
        ],
        [
         "1412 Adipiscing St.",
         "Pangnirtung",
         "PK",
         "tempor.diam@mieleifendegestas.co.uk",
         "Logan Farrell"
        ],
        [
         "P.O. Box 226, 384 Mauris Ave",
         "Camet�",
         "KN",
         "nisl@ornarefacilisis.ca",
         "Nathaniel Sampson"
        ],
        [
         "P.O. Box 106, 3346 Vestibulum St.",
         "Nizhny",
         "TO",
         "odio@sem.edu",
         "Erich Noble"
        ],
        [
         "P.O. Box 299, 2576 Ullamcorper. Street",
         "Rocca Santo Stefano",
         "JE",
         "nec@aliquam.ca",
         "Wang Keller"
        ],
        [
         "Ap #986-5004 Eu St.",
         "Santu Lussurgiu",
         "RE",
         "a@ornareInfaucibus.co.uk",
         "Rafael Beasley"
        ],
        [
         "503-565 Lobortis St.",
         "Trujillo",
         "TD",
         "sit.amet.risus@morbi.net",
         "Mohammad Mcintyre"
        ],
        [
         "4870 Nonummy. Road",
         "Villers-la-Bonne-Eau",
         "LT",
         "placerat.augue@Vivamusmolestie.net",
         "Judah Barlow"
        ],
        [
         "Ap #520-8585 Sociis Av.",
         "Sacramento",
         "RS",
         "sit.amet@accumsanconvallisante.net",
         "Emmanuel Bowers"
        ],
        [
         "P.O. Box 812, 1344 Aenean Ave",
         "Akola",
         "LK",
         "vitae@lobortisaugue.edu",
         "Yardley William"
        ],
        [
         "1058 Dolor. Road",
         "Masullas",
         "KR",
         "nec@liberolacus.org",
         "Aaron Barry"
        ],
        [
         "P.O. Box 687, 8748 Congue St.",
         "Uttarpara-Kotrung",
         "TN",
         "et@diam.edu",
         "Raja Maldonado"
        ],
        [
         "Ap #245-6316 A St.",
         "Santa Marina",
         "MV",
         "sapien.Nunc.pulvinar@dignissimlacus.net",
         "Ezra Savage"
        ],
        [
         "508-5982 Libero St.",
         "Maiolati Spontini",
         "AW",
         "egestas.Duis.ac@vitaesodales.net",
         "Rigel Conrad"
        ],
        [
         "P.O. Box 712, 8002 At, Avenue",
         "Seevetal",
         "NP",
         "ipsum.Suspendisse@malesuadaiderat.co.uk",
         "Devin Chen"
        ],
        [
         "Ap #538-9791 Erat Ave",
         "Cavallino",
         "FJ",
         "commodo.auctor.velit@nonummyacfeugiat.net",
         "Sylvester Valenzuela"
        ],
        [
         "Ap #136-4123 Ut St.",
         "Warren",
         "SH",
         "dapibus.gravida@Sed.edu",
         "Nathan Waller"
        ],
        [
         "P.O. Box 483, 8120 Tincidunt Av.",
         "Essex",
         "SH",
         "turpis@enimsitamet.ca",
         "Timothy Medina"
        ],
        [
         "499-7661 Amet, Avenue",
         "Oliver",
         "GH",
         "erat.vel.pede@pedeblandit.ca",
         "Rudyard Reynolds"
        ],
        [
         "1887 Nascetur St.",
         "Rotorua",
         "ZW",
         "quis.massa@mieleifend.org",
         "Nissim Casey"
        ],
        [
         "P.O. Box 828, 953 Molestie St.",
         "San Martino in Badia/St. Martin in Thurn",
         "CO",
         "nulla@nequesedsem.com",
         "Kirk Morton"
        ],
        [
         "Ap #784-7476 Eget Street",
         "Inuvik",
         "PG",
         "rhoncus@Cras.org",
         "Slade Bradley"
        ],
        [
         "Ap #180-361 Ut Avenue",
         "Ipswich",
         "KH",
         "Donec@cursus.com",
         "Tiger Barton"
        ],
        [
         "609-5313 Justo St.",
         "Schoonaarde",
         "IN",
         "tristique@maurisblandit.net",
         "Benedict Buck"
        ],
        [
         "792-5480 Ac Avenue",
         "Coquitlam",
         "FM",
         "purus@atfringilla.net",
         "Reese Drake"
        ],
        [
         "Ap #663-3343 Libero Av.",
         "Arviat",
         "MA",
         "libero.at.auctor@massarutrummagna.com",
         "Carter Goodman"
        ],
        [
         "656-8687 Hendrerit Road",
         "Dalkeith",
         "TJ",
         "pede@litoratorquentper.net",
         "Wesley Cook"
        ],
        [
         "483 Consectetuer Rd.",
         "Fontanellato",
         "LB",
         "fringilla.ornare.placerat@luctussit.co.uk",
         "Caldwell Castillo"
        ],
        [
         "362-2974 Massa. Avenue",
         "Naninne",
         "VE",
         "lorem.ac.risus@interdumNunc.org",
         "Hiram Acevedo"
        ],
        [
         "8567 Varius St.",
         "Marbaix",
         "TN",
         "vitae.aliquam.eros@felis.edu",
         "Reese Kidd"
        ],
        [
         "P.O. Box 869, 1210 Rhoncus. Avenue",
         "Valleyview",
         "GT",
         "ac.tellus.Suspendisse@Quisqueliberolacus.edu",
         "Kaseem Gibbs"
        ],
        [
         "906 Mattis Rd.",
         "Montalto Uffugo",
         "TD",
         "mus@fermentum.co.uk",
         "Prescott Faulkner"
        ],
        [
         "Ap #715-3278 Gravida Ave",
         "Castello di Godego",
         "GI",
         "Integer@sociis.net",
         "Clarke Hensley"
        ],
        [
         "P.O. Box 240, 9405 Conubia Av.",
         "Belfast",
         "LS",
         "ut@dapibus.edu",
         "Ray Mcgee"
        ],
        [
         "Ap #109-7958 Venenatis Avenue",
         "Trochu",
         "IT",
         "Donec@ornareliberoat.ca",
         "Demetrius Heath"
        ],
        [
         "391-5218 Arcu. Avenue",
         "Noisy-le-Grand",
         "KW",
         "ipsum@Nullamsuscipitest.ca",
         "Solomon Burks"
        ],
        [
         "Ap #379-8044 Nec St.",
         "Saint-L�",
         "AL",
         "Donec.porttitor@rhoncusidmollis.net",
         "Emery Farrell"
        ],
        [
         "570-8186 Diam Rd.",
         "Mont-Saint-Guibert",
         "MX",
         "Aliquam@utlacus.net",
         "Rudyard Bryan"
        ],
        [
         "616-4782 Nec, Av.",
         "Machelen",
         "MG",
         "Sed@arcuCurabiturut.edu",
         "Slade Myers"
        ],
        [
         "8532 Nam St.",
         "Midway",
         "ST",
         "penatibus.et@mollisPhaselluslibero.net",
         "Donovan Singleton"
        ],
        [
         "P.O. Box 506, 2195 Fringilla. Avenue",
         "Mascalucia",
         "PR",
         "ornare@aliquetProinvelit.com",
         "Edan Scott"
        ],
        [
         "363-9191 Maecenas Ave",
         "Mildura",
         "MT",
         "mauris.sapien@fringillaornare.edu",
         "Lucius Lawson"
        ],
        [
         "Ap #551-3258 Phasellus Av.",
         "Bon Accord",
         "HN",
         "tellus.Phasellus.elit@interdum.com",
         "Knox Vinson"
        ],
        [
         "4527 Nulla Ave",
         "Kerkhove",
         "CM",
         "In@tinciduntpede.edu",
         "Joseph Trujillo"
        ],
        [
         "P.O. Box 234, 4214 Pulvinar Road",
         "Pagazzano",
         "AU",
         "orci.lacus.vestibulum@morbitristique.org",
         "Keaton Hill"
        ],
        [
         "981-2829 Aliquam Road",
         "Ede",
         "PF",
         "erat.vitae@malesuadaut.net",
         "Salvador Pena"
        ],
        [
         "357-8681 Mollis Rd.",
         "Rueglio",
         "CD",
         "est.Mauris.eu@porttitorerosnec.co.uk",
         "Bradley Le"
        ],
        [
         "Ap #512-9491 Ultricies St.",
         "Didim",
         "CO",
         "natoque@egestasAliquam.edu",
         "Stone Giles"
        ],
        [
         "Ap #870-2877 Taciti Av.",
         "Birmingham",
         "NR",
         "dolor@tinciduntnuncac.ca",
         "Hu Pitts"
        ],
        [
         "4593 Adipiscing. Rd.",
         "Cannalonga",
         "GI",
         "felis.ullamcorper.viverra@Sedcongueelit.net",
         "Joseph Stanley"
        ],
        [
         "177-840 Magna Rd.",
         "Kircudbright",
         "ZM",
         "nostra.per@bibendum.net",
         "Aidan Orr"
        ],
        [
         "3227 Ultricies Ave",
         "Trollh�ttan",
         "NZ",
         "et.ultrices@commodoipsum.co.uk",
         "Tanek Higgins"
        ],
        [
         "366-5700 Sit Avenue",
         "San Cesario di Lecce",
         "KW",
         "aliquam.arcu.Aliquam@et.org",
         "George Montoya"
        ],
        [
         "Ap #255-3329 Velit. Ave",
         "Anseong",
         "GH",
         "ornare.elit@molestiesodales.co.uk",
         "Preston Nunez"
        ],
        [
         "5525 Cum Ave",
         "Llanwrtwd Wells",
         "HU",
         "quis.pede@lorem.com",
         "Elvis Bush"
        ],
        [
         "8496 Quisque Ave",
         "Bolshevo",
         "RE",
         "luctus.felis@at.net",
         "Ivor Rodgers"
        ],
        [
         "P.O. Box 254, 3711 Dictum Street",
         "Austin",
         "VE",
         "malesuada@elit.com",
         "Ali Jackson"
        ],
        [
         "P.O. Box 504, 7413 Non, Av.",
         "Schwedt",
         "AI",
         "fringilla.mi@dolor.edu",
         "Jelani Cooke"
        ],
        [
         "P.O. Box 900, 6595 Et Avenue",
         "Aizwal",
         "TC",
         "Quisque.ornare.tortor@elitAliquamauctor.co.uk",
         "Curran Holman"
        ],
        [
         "Ap #153-8544 Dui. Avenue",
         "Vegreville",
         "ZM",
         "sociis.natoque.penatibus@disparturient.com",
         "Reece Fuller"
        ],
        [
         "329-5898 Elementum St.",
         "Henderson",
         "TZ",
         "lorem@ornaretortorat.net",
         "Joel Stone"
        ],
        [
         "7955 Sed St.",
         "Nemi",
         "LY",
         "gravida.Praesent.eu@nibhPhasellusnulla.org",
         "Jameson Rowe"
        ],
        [
         "P.O. Box 632, 7682 Orci, Street",
         "Taldom",
         "GE",
         "magnis@actellusSuspendisse.ca",
         "Reese Richards"
        ],
        [
         "P.O. Box 986, 7843 Porttitor Street",
         "Sint-Pieters-Leeuw",
         "FJ",
         "sed@montesnascetur.net",
         "Barclay Dyer"
        ],
        [
         "P.O. Box 828, 9305 Nisi Av.",
         "Zaria",
         "NI",
         "Duis.sit.amet@Phasellus.net",
         "Oren Zamora"
        ],
        [
         "8001 Eu Avenue",
         "Geraldton-Greenough",
         "PT",
         "lobortis.risus.In@justoeuarcu.co.uk",
         "Dorian Thompson"
        ],
        [
         "2420 Eu Street",
         "Wieze",
         "BF",
         "molestie@Nulla.net",
         "Tyler Odonnell"
        ],
        [
         "Ap #330-3463 Mauris, Rd.",
         "Sars-la-Buissi�re",
         "BG",
         "a@dolorsitamet.org",
         "Adrian Kerr"
        ],
        [
         "Ap #557-8903 Hendrerit. Ave",
         "Miramichi",
         "OM",
         "nunc.id@nullaIntegervulputate.net",
         "Arthur Benjamin"
        ],
        [
         "8347 Montes, Road",
         "Castelluccio Inferiore",
         "KR",
         "metus@quis.org",
         "Chaim Wooten"
        ],
        [
         "Ap #449-1784 Interdum Street",
         "Kolhapur",
         "RU",
         "malesuada.id@in.edu",
         "Valentine Livingston"
        ],
        [
         "4053 A St.",
         "Neerglabbeek",
         "MS",
         "elit@euismodmauris.co.uk",
         "Prescott Mccall"
        ],
        [
         "490-1228 Est. Rd.",
         "Solapur",
         "CZ",
         "enim@ornare.ca",
         "Charles Clark"
        ],
        [
         "P.O. Box 481, 6702 Hendrerit St.",
         "Yorkton",
         "GQ",
         "magna@neceuismodin.edu",
         "Seth Petty"
        ],
        [
         "Ap #480-5099 Habitant Road",
         "Salisbury",
         "SD",
         "tellus.Suspendisse@consequat.net",
         "Xander Joyner"
        ],
        [
         "Ap #529-155 Facilisis St.",
         "Meerdonk",
         "KY",
         "mauris@a.ca",
         "Kamal Blevins"
        ],
        [
         "183-1221 Dictum. St.",
         "Piovene Rocchette",
         "BG",
         "vitae.dolor.Donec@dictumeleifendnunc.co.uk",
         "Walker Ballard"
        ],
        [
         "Ap #590-3265 Est Rd.",
         "Poggio Berni",
         "YE",
         "Nunc.quis@Duisatlacus.com",
         "Joshua Kinney"
        ],
        [
         "P.O. Box 654, 3191 Volutpat Ave",
         "Mardan",
         "MH",
         "cubilia.Curae@egestasnunc.org",
         "Brody Kent"
        ],
        [
         "P.O. Box 452, 9561 Pede. Road",
         "Rixensart",
         "BR",
         "mattis.ornare.lectus@porttitorscelerisqueneque.co.uk",
         "Silas Reeves"
        ],
        [
         "Ap #857-6308 In St.",
         "Herenthout",
         "QA",
         "Cras@luctussit.co.uk",
         "Hedley Harmon"
        ],
        [
         "784-6613 Ut Road",
         "Jeju",
         "AZ",
         "tellus@placeratvelit.co.uk",
         "Wyatt Dyer"
        ],
        [
         "Ap #418-9787 Lacus. Street",
         "Bientina",
         "SN",
         "Fusce@enim.net",
         "Ignatius Hanson"
        ],
        [
         "676-3399 Magna Ave",
         "Owerri",
         "DM",
         "conubia.nostra@odio.ca",
         "Leo Moran"
        ],
        [
         "457-3195 Montes, Street",
         "San Donato di Ninea",
         "CF",
         "ac.feugiat@consequatdolorvitae.edu",
         "Donovan Salazar"
        ],
        [
         "P.O. Box 931, 552 Eget Rd.",
         "Cambridge",
         "NO",
         "ornare@pede.edu",
         "Ryan Davenport"
        ],
        [
         "192-3132 Rutrum. St.",
         "Queenstown",
         "SR",
         "Cum.sociis@metus.edu",
         "Merrill Wooten"
        ],
        [
         "2780 Egestas Ave",
         "Vergnies",
         "AM",
         "imperdiet.dictum.magna@semNulla.co.uk",
         "Ulysses England"
        ],
        [
         "Ap #494-167 Elementum, St.",
         "Oelegem",
         "ZM",
         "metus@neceleifendnon.com",
         "Victor Zamora"
        ],
        [
         "473 Pede, Road",
         "Minto",
         "SC",
         "nunc@pellentesqueSed.edu",
         "Nasim Collins"
        ],
        [
         "P.O. Box 703, 9396 Auctor. Avenue",
         "Girifalco",
         "LS",
         "Nunc.mauris.sapien@nisisem.co.uk",
         "Brody Dunlap"
        ],
        [
         "9985 Ante Rd.",
         "New Radnor",
         "MN",
         "et.euismod@rhoncus.edu",
         "Deacon Haney"
        ],
        [
         "Ap #566-9306 At Ave",
         "Cuccaro Vetere",
         "SC",
         "vel.pede@primis.net",
         "Basil Poole"
        ],
        [
         "Ap #221-8179 Ultricies St.",
         "Sherbrooke",
         "FR",
         "at.velit@cursus.net",
         "Tad Pace"
        ],
        [
         "360 Donec Rd.",
         "Aubagne",
         "PG",
         "ac.mattis.ornare@vitaepurus.edu",
         "Burton Key"
        ],
        [
         "1052 Amet Road",
         "Troitsk",
         "AS",
         "senectus.et.netus@ametnullaDonec.edu",
         "Alan Chang"
        ],
        [
         "6129 Id, Rd.",
         "Neunkirchen",
         "MT",
         "pellentesque@odio.net",
         "Ashton Boyle"
        ],
        [
         "P.O. Box 641, 7995 Nunc St.",
         "Deline",
         "AF",
         "ante.ipsum.primis@volutpat.ca",
         "Timothy Black"
        ],
        [
         "547-7737 Sed St.",
         "Smolensk",
         "US",
         "Quisque.ac@liberoDonec.org",
         "Wade Romero"
        ],
        [
         "P.O. Box 481, 2937 Faucibus St.",
         "Meridian",
         "SM",
         "penatibus@euturpis.com",
         "Axel Lowe"
        ],
        [
         "3199 Nec, Road",
         "Bedford",
         "AF",
         "mauris@massaInteger.edu",
         "Quentin Kidd"
        ],
        [
         "P.O. Box 864, 3035 Facilisis St.",
         "Attert",
         "KE",
         "ante@adipiscingMauris.com",
         "Amery Hanson"
        ],
        [
         "Ap #787-6501 In Road",
         "Saint-Mard",
         "BE",
         "convallis@et.com",
         "Hedley Dodson"
        ],
        [
         "203-7694 Mauris Rd.",
         "San Fratello",
         "TM",
         "Nulla.facilisi.Sed@Quisqueporttitor.edu",
         "Declan Orr"
        ],
        [
         "111-5320 Adipiscing St.",
         "Grand Island",
         "FO",
         "enim.Etiam.gravida@temporeratneque.ca",
         "Tyrone Caldwell"
        ],
        [
         "746 Magna Rd.",
         "Ambresin",
         "SM",
         "quam.dignissim@facilisis.co.uk",
         "Cadman Whitley"
        ],
        [
         "573-882 Nec, St.",
         "Siddi",
         "CR",
         "neque@Sedmalesuadaaugue.net",
         "Fritz Ray"
        ],
        [
         "P.O. Box 673, 3175 Dolor. Av.",
         "Priero",
         "KW",
         "mauris.sit@quisdiam.edu",
         "Wayne Riley"
        ],
        [
         "8324 Vel Rd.",
         "Camrose",
         "PY",
         "auctor.non@dictumsapienAenean.ca",
         "Curran Vaughan"
        ],
        [
         "833 Commodo Rd.",
         "Redlands",
         "ZA",
         "sapien@quis.edu",
         "Reece Molina"
        ],
        [
         "129-7454 Venenatis Road",
         "Riosucio",
         "LI",
         "velit.justo.nec@Aliquamvulputate.edu",
         "Caleb Tate"
        ],
        [
         "Ap #559-9163 Egestas. Rd.",
         "Pocheon",
         "NL",
         "et@tincidunt.co.uk",
         "Fuller Ball"
        ],
        [
         "7060 Urna. Road",
         "Barra do Corda",
         "MY",
         "Nam.consequat@magnaatortor.edu",
         "Davis Hartman"
        ],
        [
         "P.O. Box 493, 3140 Dolor, Av.",
         "Barrie",
         "KG",
         "Pellentesque.habitant.morbi@malesuadaaugue.com",
         "Keane Rich"
        ],
        [
         "1096 Integer Rd.",
         "Blue Mountains",
         "SM",
         "Nunc@erat.ca",
         "Clinton Parks"
        ],
        [
         "P.O. Box 146, 5407 A, Road",
         "Louisville",
         "TV",
         "feugiat@diam.ca",
         "Leroy Welch"
        ],
        [
         "4269 Elementum, Street",
         "Mianwali",
         "SE",
         "tincidunt.nunc.ac@aliquetodio.com",
         "Hasad Burris"
        ],
        [
         "Ap #132-5885 Justo. Rd.",
         "Wimmertingen",
         "MR",
         "imperdiet.ullamcorper.Duis@atauctorullamcorper.co.uk",
         "Arden Noble"
        ],
        [
         "Ap #779-759 Mauris Rd.",
         "Lisciano Niccone",
         "SH",
         "nisi@sit.org",
         "Bernard Petty"
        ],
        [
         "P.O. Box 816, 9182 Dictum. Av.",
         "Loreto",
         "AW",
         "primis.in.faucibus@ultricesDuisvolutpat.edu",
         "Palmer Pope"
        ],
        [
         "Ap #285-1562 Tincidunt Street",
         "Nasirabad",
         "GW",
         "placerat@ultricies.net",
         "Jermaine Townsend"
        ],
        [
         "823-3049 Placerat. Av.",
         "Nives",
         "BY",
         "Quisque@ut.ca",
         "Grant Lott"
        ],
        [
         "3615 Eget Rd.",
         "Lambayeque",
         "GG",
         "malesuada.ut@sapien.org",
         "Chester Foster"
        ],
        [
         "626-3495 Tortor. Road",
         "Braives",
         "BE",
         "lacus.Quisque@consectetuer.co.uk",
         "Omar Maldonado"
        ],
        [
         "4976 Egestas. Av.",
         "Valley East",
         "ER",
         "Integer.aliquam.adipiscing@mauris.ca",
         "Zachery Bender"
        ],
        [
         "276-3396 Facilisis Street",
         "B�ziers",
         "PA",
         "at.pretium@magnisdisparturient.com",
         "Salvador Greene"
        ],
        [
         "Ap #362-9289 Magna. Avenue",
         "Houston",
         "BY",
         "imperdiet.ullamcorper@euismodmauris.org",
         "Harrison Rosales"
        ],
        [
         "P.O. Box 407, 8160 Nec Street",
         "Barranca",
         "GI",
         "Quisque.ac@egestasadui.net",
         "Abbot Hayes"
        ],
        [
         "558-690 Elementum, Avenue",
         "Castel San Niccol�",
         "GR",
         "justo.faucibus@Nunc.com",
         "Ulric Abbott"
        ],
        [
         "6032 Non, Avenue",
         "Velsk",
         "KZ",
         "nec.ante.Maecenas@nequeInornare.com",
         "Ferdinand Campbell"
        ],
        [
         "P.O. Box 511, 5486 Elementum, Avenue",
         "LaSalle",
         "FI",
         "pede.malesuada.vel@enim.org",
         "Nero Mitchell"
        ],
        [
         "454-7193 Tincidunt Rd.",
         "Branchon",
         "CA",
         "ullamcorper.nisl@sitametorci.net",
         "Victor Albert"
        ],
        [
         "382-2911 Nunc St.",
         "Palakkad",
         "SA",
         "non.luctus@Duismi.ca",
         "Eagan Carey"
        ],
        [
         "9248 Elit. Av.",
         "Dresden",
         "BS",
         "non@nunc.edu",
         "Travis Manning"
        ],
        [
         "Ap #725-3835 Ultrices St.",
         "Yurzhnouralsk",
         "NP",
         "urna.justo@nullavulputate.org",
         "Kyle Gillespie"
        ],
        [
         "626-1714 Lacus Street",
         "Salamanca",
         "PA",
         "egestas.urna@nonummyut.edu",
         "Wade Waters"
        ],
        [
         "915-6048 Nunc Rd.",
         "Campbelltown",
         "GE",
         "lacus.Cras@est.edu",
         "Evan Leach"
        ],
        [
         "448-8457 Dapibus Road",
         "Carunchio",
         "IQ",
         "sed.pede@sociisnatoquepenatibus.com",
         "Lucian Watkins"
        ],
        [
         "P.O. Box 468, 8990 Semper St.",
         "Pangkalpinang",
         "BS",
         "velit.egestas@dui.ca",
         "Howard Vargas"
        ],
        [
         "893-8895 Lacinia St.",
         "Labico",
         "BI",
         "justo@eusem.ca",
         "Gabriel Cabrera"
        ],
        [
         "277-2012 Aliquet Ave",
         "Fort Laird",
         "SB",
         "accumsan.convallis.ante@vestibulum.com",
         "Upton Avila"
        ],
        [
         "918-2741 Semper Avenue",
         "H_villers",
         "PK",
         "mauris@metusAliquam.org",
         "Dorian Farmer"
        ],
        [
         "P.O. Box 159, 4292 Turpis Street",
         "Cessnock",
         "SC",
         "gravida@semperNam.org",
         "Philip Nolan"
        ],
        [
         "342-2129 Nam Ave",
         "Banjarmasin",
         "NA",
         "Mauris@Duismi.ca",
         "Carter Burke"
        ]
       ],
       "datasetInfos": [],
       "dbfsResultPath": null,
       "isJsonSchema": true,
       "metadata": {},
       "overflow": false,
       "plotOptions": {
        "customPlotOptions": {},
        "displayType": "table",
        "pivotAggregation": null,
        "pivotColumns": null,
        "xColumns": null,
        "yColumns": null
       },
       "removedWidgets": [],
       "schema": [
        {
         "metadata": "{}",
         "name": "Address",
         "type": "\"string\""
        },
        {
         "metadata": "{}",
         "name": "City",
         "type": "\"string\""
        },
        {
         "metadata": "{}",
         "name": "Country",
         "type": "\"string\""
        },
        {
         "metadata": "{}",
         "name": "Email",
         "type": "\"string\""
        },
        {
         "metadata": "{}",
         "name": "Name",
         "type": "\"string\""
        }
       ],
       "type": "table"
      }
     },
     "output_type": "display_data"
    }
   ],
   "source": [
    "%sql\n",
    "-- Just in case we need\n",
    "SELECT *\n",
    "FROM Customers;"
   ]
  },
  {
   "cell_type": "code",
   "execution_count": 0,
   "metadata": {
    "application/vnd.databricks.v1+cell": {
     "cellMetadata": {
      "byteLimit": 2048000,
      "implicitDf": true,
      "rowLimit": 10000
     },
     "inputWidgets": {},
     "nuid": "61965938-efe7-4acb-b395-b6e0951ea64f",
     "showTitle": false,
     "title": ""
    }
   },
   "outputs": [
    {
     "output_type": "display_data",
     "data": {
      "text/html": [
       "<style scoped>\n",
       "  .table-result-container {\n",
       "    max-height: 300px;\n",
       "    overflow: auto;\n",
       "  }\n",
       "  table, th, td {\n",
       "    border: 1px solid black;\n",
       "    border-collapse: collapse;\n",
       "  }\n",
       "  th, td {\n",
       "    padding: 5px;\n",
       "  }\n",
       "  th {\n",
       "    text-align: left;\n",
       "  }\n",
       "</style><div class='table-result-container'><table class='table-result'><thead style='background-color: white'><tr><th>Agriculture</th><th>Arable (%)</th><th>Area (sq. mi.)</th><th>Birthrate</th><th>Climate</th><th>Coastline (coast per area ratio)</th><th>Country</th><th>Crops (%)</th><th>Deathrate</th><th>GDP ($ per capita)</th><th>Industry</th><th>Infant mortality (per 1000 births)</th><th>Literacy (%)</th><th>Name</th><th>Net migration</th><th>Other (%)</th><th>Phones (per 1000)</th><th>Pop. Density (per sq. mi.)</th><th>Population</th><th>Region</th><th>Service</th></tr></thead><tbody><tr><td>null</td><td>2.22</td><td>468</td><td>8.71</td><td>3.0</td><td>0.0</td><td>AD</td><td>0.0</td><td>6.25</td><td>19000</td><td>null</td><td>4.05</td><td>100.0</td><td>Andorra</td><td>6.6</td><td>97.78</td><td>497.2</td><td>152.1</td><td>71201</td><td>WESTERN EUROPE</td><td>null</td></tr><tr><td>0.04</td><td>0.6</td><td>82880</td><td>18.96</td><td>1.0</td><td>1.59</td><td>AE</td><td>2.25</td><td>4.4</td><td>23200</td><td>0.585</td><td>14.51</td><td>77.9</td><td>United Arab Emirates</td><td>1.03</td><td>97.15</td><td>475.3</td><td>31.4</td><td>2602713</td><td>NEAR EAST</td><td>0.375</td></tr><tr><td>0.38</td><td>12.13</td><td>647500</td><td>46.6</td><td>1.0</td><td>0.0</td><td>AF</td><td>0.22</td><td>20.34</td><td>700</td><td>0.24</td><td>163.07</td><td>36.0</td><td>Afghanistan</td><td>23.06</td><td>87.65</td><td>3.2</td><td>48.0</td><td>31056997</td><td>ASIA (EX. NEAR EAST)</td><td>0.38</td></tr><tr><td>0.038</td><td>18.18</td><td>443</td><td>16.93</td><td>2.0</td><td>34.54</td><td>AG</td><td>4.55</td><td>5.37</td><td>11000</td><td>0.22</td><td>19.46</td><td>89.0</td><td>Antigua & Barbuda</td><td>-6.15</td><td>77.27</td><td>549.9</td><td>156.0</td><td>69108</td><td>LATIN AMER. & CARIB</td><td>0.743</td></tr><tr><td>0.04</td><td>0.0</td><td>102</td><td>14.17</td><td>2.0</td><td>59.8</td><td>AI</td><td>0.0</td><td>5.34</td><td>8600</td><td>0.18</td><td>21.03</td><td>95.0</td><td>Anguilla</td><td>10.76</td><td>100.0</td><td>460.0</td><td>132.1</td><td>13477</td><td>LATIN AMER. & CARIB</td><td>0.78</td></tr><tr><td>0.232</td><td>21.09</td><td>28748</td><td>15.11</td><td>3.0</td><td>1.26</td><td>AL</td><td>4.42</td><td>5.22</td><td>4500</td><td>0.188</td><td>21.52</td><td>86.5</td><td>Albania</td><td>-4.93</td><td>74.49</td><td>71.2</td><td>124.6</td><td>3581655</td><td>EASTERN EUROPE</td><td>0.579</td></tr><tr><td>0.239</td><td>17.55</td><td>29800</td><td>12.07</td><td>4.0</td><td>0.0</td><td>AM</td><td>2.3</td><td>8.23</td><td>3500</td><td>0.343</td><td>23.28</td><td>98.6</td><td>Armenia</td><td>-6.47</td><td>80.15</td><td>195.7</td><td>99.9</td><td>2976372</td><td>C.W. OF IND. STATES</td><td>0.418</td></tr><tr><td>0.01</td><td>10.0</td><td>960</td><td>14.78</td><td>2.0</td><td>37.92</td><td>AN</td><td>0.0</td><td>6.45</td><td>11400</td><td>0.15</td><td>10.03</td><td>96.7</td><td>Netherlands Antilles</td><td>-0.41</td><td>90.0</td><td>365.3</td><td>231.0</td><td>221736</td><td>LATIN AMER. & CARIB</td><td>0.84</td></tr><tr><td>0.096</td><td>2.41</td><td>1246700</td><td>45.11</td><td>null</td><td>0.13</td><td>AO</td><td>0.24</td><td>24.2</td><td>1900</td><td>0.658</td><td>191.19</td><td>42.0</td><td>Angola</td><td>0.0</td><td>97.35</td><td>7.8</td><td>9.7</td><td>12127071</td><td>SUB-SAHARAN AFRICA</td><td>0.246</td></tr><tr><td>0.095</td><td>12.31</td><td>2766890</td><td>16.73</td><td>3.0</td><td>0.18</td><td>AR</td><td>0.48</td><td>7.55</td><td>11200</td><td>0.358</td><td>15.18</td><td>97.1</td><td>Argentina</td><td>0.61</td><td>87.21</td><td>220.4</td><td>14.4</td><td>39921833</td><td>LATIN AMER. & CARIB</td><td>0.547</td></tr><tr><td>null</td><td>10.0</td><td>199</td><td>22.46</td><td>2.0</td><td>58.29</td><td>AS</td><td>15.0</td><td>3.27</td><td>8000</td><td>null</td><td>9.27</td><td>97.0</td><td>American Samoa</td><td>-20.71</td><td>75.0</td><td>259.5</td><td>290.4</td><td>57794</td><td>OCEANIA</td><td>null</td></tr><tr><td>0.018</td><td>16.91</td><td>83870</td><td>8.74</td><td>3.0</td><td>0.0</td><td>AT</td><td>0.86</td><td>9.76</td><td>30000</td><td>0.304</td><td>4.66</td><td>98.0</td><td>Austria</td><td>2.0</td><td>82.23</td><td>452.2</td><td>97.7</td><td>8192880</td><td>WESTERN EUROPE</td><td>0.678</td></tr><tr><td>0.038</td><td>6.55</td><td>7686850</td><td>12.14</td><td>1.0</td><td>0.34</td><td>AU</td><td>0.04</td><td>7.51</td><td>29000</td><td>0.262</td><td>4.69</td><td>100.0</td><td>Australia</td><td>3.98</td><td>93.41</td><td>565.5</td><td>2.6</td><td>20264082</td><td>OCEANIA</td><td>0.7</td></tr><tr><td>0.004</td><td>10.53</td><td>193</td><td>11.03</td><td>2.0</td><td>35.49</td><td>AW</td><td>0.0</td><td>6.68</td><td>28000</td><td>0.333</td><td>5.89</td><td>97.0</td><td>Aruba</td><td>0.0</td><td>89.47</td><td>516.1</td><td>372.5</td><td>71891</td><td>LATIN AMER. & CARIB</td><td>0.663</td></tr><tr><td>0.141</td><td>19.63</td><td>86600</td><td>20.74</td><td>1.0</td><td>0.0</td><td>AZ</td><td>2.71</td><td>9.75</td><td>3400</td><td>0.457</td><td>81.74</td><td>97.0</td><td>Azerbaijan</td><td>-4.9</td><td>77.66</td><td>137.1</td><td>91.9</td><td>7961619</td><td>C.W. OF IND. STATES</td><td>0.402</td></tr><tr><td>0.142</td><td>13.6</td><td>51129</td><td>8.77</td><td>4.0</td><td>0.04</td><td>BA</td><td>2.96</td><td>8.27</td><td>6100</td><td>0.308</td><td>21.05</td><td>null</td><td>Bosnia & Herzegovina</td><td>0.31</td><td>83.44</td><td>215.4</td><td>88.0</td><td>4498976</td><td>EASTERN EUROPE</td><td>0.55</td></tr><tr><td>0.06</td><td>37.21</td><td>431</td><td>12.71</td><td>2.0</td><td>22.51</td><td>BB</td><td>2.33</td><td>8.67</td><td>15700</td><td>0.16</td><td>12.5</td><td>97.4</td><td>Barbados</td><td>-0.31</td><td>60.46</td><td>481.9</td><td>649.5</td><td>279912</td><td>LATIN AMER. & CARIB</td><td>0.78</td></tr><tr><td>0.199</td><td>62.11</td><td>144000</td><td>29.8</td><td>2.0</td><td>0.4</td><td>BD</td><td>3.07</td><td>8.27</td><td>1900</td><td>0.198</td><td>62.6</td><td>43.1</td><td>Bangladesh</td><td>-0.71</td><td>34.82</td><td>7.3</td><td>1023.4</td><td>147365352</td><td>ASIA (EX. NEAR EAST)</td><td>0.603</td></tr><tr><td>0.01</td><td>23.28</td><td>30528</td><td>10.38</td><td>3.0</td><td>0.22</td><td>BE</td><td>0.4</td><td>10.27</td><td>29100</td><td>0.24</td><td>4.68</td><td>98.0</td><td>Belgium</td><td>1.23</td><td>76.32</td><td>462.6</td><td>340.0</td><td>10379067</td><td>WESTERN EUROPE</td><td>0.749</td></tr><tr><td>0.322</td><td>14.43</td><td>274200</td><td>45.62</td><td>2.0</td><td>0.0</td><td>BF</td><td>0.19</td><td>15.6</td><td>1100</td><td>0.196</td><td>97.57</td><td>26.6</td><td>Burkina Faso</td><td>0.0</td><td>85.38</td><td>7.0</td><td>50.7</td><td>13902972</td><td>SUB-SAHARAN AFRICA</td><td>0.482</td></tr><tr><td>0.093</td><td>40.02</td><td>110910</td><td>9.65</td><td>3.0</td><td>0.32</td><td>BG</td><td>1.92</td><td>14.27</td><td>7600</td><td>0.304</td><td>20.55</td><td>98.6</td><td>Bulgaria</td><td>-4.58</td><td>58.06</td><td>336.3</td><td>66.6</td><td>7385367</td><td>EASTERN EUROPE</td><td>0.603</td></tr><tr><td>0.005</td><td>2.82</td><td>665</td><td>17.8</td><td>1.0</td><td>24.21</td><td>BH</td><td>5.63</td><td>4.14</td><td>16900</td><td>0.387</td><td>17.27</td><td>89.1</td><td>Bahrain</td><td>1.05</td><td>91.55</td><td>281.3</td><td>1050.5</td><td>698585</td><td>NEAR EAST</td><td>0.608</td></tr><tr><td>0.463</td><td>35.05</td><td>27830</td><td>42.22</td><td>2.0</td><td>0.0</td><td>BI</td><td>14.02</td><td>13.46</td><td>600</td><td>0.203</td><td>69.29</td><td>51.6</td><td>Burundi</td><td>-0.06</td><td>50.93</td><td>3.4</td><td>290.7</td><td>8090068</td><td>SUB-SAHARAN AFRICA</td><td>0.334</td></tr><tr><td>0.316</td><td>18.08</td><td>112620</td><td>38.85</td><td>2.0</td><td>0.11</td><td>BJ</td><td>2.4</td><td>12.22</td><td>1100</td><td>0.138</td><td>85.0</td><td>40.9</td><td>Benin</td><td>0.0</td><td>79.52</td><td>9.7</td><td>69.8</td><td>7862944</td><td>SUB-SAHARAN AFRICA</td><td>0.546</td></tr><tr><td>0.01</td><td>20.0</td><td>53</td><td>11.4</td><td>2.0</td><td>194.34</td><td>BM</td><td>0.0</td><td>7.74</td><td>36000</td><td>0.1</td><td>8.53</td><td>98.0</td><td>Bermuda</td><td>2.49</td><td>80.0</td><td>851.4</td><td>1241.0</td><td>65773</td><td>NORTHERN AMERICA</td><td>0.89</td></tr><tr><td>0.036</td><td>0.57</td><td>5770</td><td>18.79</td><td>2.0</td><td>2.79</td><td>BN</td><td>0.76</td><td>3.45</td><td>18600</td><td>0.561</td><td>12.61</td><td>93.9</td><td>Brunei</td><td>3.59</td><td>98.67</td><td>237.2</td><td>65.8</td><td>379444</td><td>ASIA (EX. NEAR EAST)</td><td>0.403</td></tr><tr><td>0.128</td><td>2.67</td><td>1098580</td><td>23.3</td><td>1.5</td><td>0.0</td><td>BO</td><td>0.19</td><td>7.53</td><td>2400</td><td>0.352</td><td>53.11</td><td>87.2</td><td>Bolivia</td><td>-1.32</td><td>97.14</td><td>71.9</td><td>8.2</td><td>8989046</td><td>LATIN AMER. & CARIB</td><td>0.52</td></tr><tr><td>0.084</td><td>6.96</td><td>8511965</td><td>16.56</td><td>2.0</td><td>0.09</td><td>BR</td><td>0.9</td><td>6.17</td><td>7600</td><td>0.4</td><td>29.61</td><td>86.4</td><td>Brazil</td><td>-0.03</td><td>92.15</td><td>225.3</td><td>22.1</td><td>188078227</td><td>LATIN AMER. & CARIB</td><td>0.516</td></tr><tr><td>0.03</td><td>0.8</td><td>13940</td><td>17.57</td><td>2.0</td><td>25.41</td><td>BS</td><td>0.4</td><td>9.05</td><td>16700</td><td>0.07</td><td>25.21</td><td>95.6</td><td>Bahamas, The</td><td>-2.2</td><td>98.8</td><td>460.6</td><td>21.8</td><td>303770</td><td>LATIN AMER. & CARIB</td><td>0.9</td></tr><tr><td>0.258</td><td>3.09</td><td>47000</td><td>33.65</td><td>2.0</td><td>0.0</td><td>BT</td><td>0.43</td><td>12.7</td><td>1300</td><td>0.379</td><td>100.44</td><td>42.2</td><td>Bhutan</td><td>0.0</td><td>96.48</td><td>14.3</td><td>48.5</td><td>2279723</td><td>ASIA (EX. NEAR EAST)</td><td>0.363</td></tr><tr><td>0.024</td><td>0.65</td><td>600370</td><td>23.08</td><td>1.0</td><td>0.0</td><td>BW</td><td>0.01</td><td>29.5</td><td>9000</td><td>0.469</td><td>54.58</td><td>79.8</td><td>Botswana</td><td>0.0</td><td>99.34</td><td>80.5</td><td>2.7</td><td>1639833</td><td>SUB-SAHARAN AFRICA</td><td>0.507</td></tr><tr><td>0.093</td><td>29.55</td><td>207600</td><td>11.16</td><td>4.0</td><td>0.0</td><td>BY</td><td>0.6</td><td>14.02</td><td>6100</td><td>0.316</td><td>13.37</td><td>99.6</td><td>Belarus</td><td>2.54</td><td>69.85</td><td>319.1</td><td>49.6</td><td>10293011</td><td>C.W. OF IND. STATES</td><td>0.591</td></tr><tr><td>0.142</td><td>2.85</td><td>22966</td><td>28.84</td><td>2.0</td><td>1.68</td><td>BZ</td><td>1.71</td><td>5.72</td><td>4900</td><td>0.152</td><td>25.69</td><td>94.1</td><td>Belize</td><td>0.0</td><td>95.44</td><td>115.7</td><td>12.5</td><td>287730</td><td>LATIN AMER. & CARIB</td><td>0.612</td></tr><tr><td>0.022</td><td>4.96</td><td>9984670</td><td>10.78</td><td>null</td><td>2.02</td><td>CA</td><td>0.02</td><td>7.8</td><td>29800</td><td>0.294</td><td>4.75</td><td>97.0</td><td>Canada</td><td>5.96</td><td>95.02</td><td>552.2</td><td>3.3</td><td>33098932</td><td>NORTHERN AMERICA</td><td>0.684</td></tr><tr><td>0.55</td><td>2.96</td><td>2345410</td><td>43.69</td><td>2.0</td><td>0.0</td><td>CD</td><td>0.52</td><td>13.27</td><td>700</td><td>0.11</td><td>94.69</td><td>65.5</td><td>Congo, Dem. Rep.</td><td>0.0</td><td>96.52</td><td>0.2</td><td>26.7</td><td>62660551</td><td>SUB-SAHARAN AFRICA</td><td>0.34</td></tr><tr><td>0.55</td><td>3.1</td><td>622984</td><td>33.91</td><td>2.0</td><td>0.0</td><td>CF</td><td>0.14</td><td>18.65</td><td>1100</td><td>0.2</td><td>91.0</td><td>51.0</td><td>Central African Rep.</td><td>0.0</td><td>96.76</td><td>2.3</td><td>6.9</td><td>4303356</td><td>SUB-SAHARAN AFRICA</td><td>0.25</td></tr><tr><td>0.062</td><td>0.51</td><td>342000</td><td>42.57</td><td>2.0</td><td>0.05</td><td>CG</td><td>0.13</td><td>12.93</td><td>700</td><td>0.57</td><td>93.86</td><td>83.8</td><td>Congo, Repub. of the</td><td>-0.17</td><td>99.36</td><td>3.7</td><td>10.8</td><td>3702314</td><td>SUB-SAHARAN AFRICA</td><td>0.369</td></tr><tr><td>0.015</td><td>10.42</td><td>41290</td><td>9.71</td><td>3.0</td><td>0.0</td><td>CH</td><td>0.61</td><td>8.49</td><td>32700</td><td>0.34</td><td>4.39</td><td>99.0</td><td>Switzerland</td><td>4.05</td><td>88.97</td><td>680.9</td><td>182.2</td><td>7523934</td><td>WESTERN EUROPE</td><td>0.645</td></tr><tr><td>0.279</td><td>9.75</td><td>322460</td><td>35.11</td><td>2.0</td><td>0.16</td><td>CI</td><td>13.84</td><td>14.84</td><td>1400</td><td>0.171</td><td>90.83</td><td>50.9</td><td>Cote d'Ivoire</td><td>-0.07</td><td>76.41</td><td>14.6</td><td>54.8</td><td>17654843</td><td>SUB-SAHARAN AFRICA</td><td>0.55</td></tr><tr><td>0.151</td><td>17.39</td><td>240</td><td>21.0</td><td>2.0</td><td>50.0</td><td>CK</td><td>13.04</td><td>null</td><td>5000</td><td>0.096</td><td>null</td><td>95.0</td><td>Cook Islands</td><td>null</td><td>69.57</td><td>289.9</td><td>89.1</td><td>21388</td><td>OCEANIA</td><td>0.753</td></tr><tr><td>0.06</td><td>2.65</td><td>756950</td><td>15.23</td><td>3.0</td><td>0.85</td><td>CL</td><td>0.42</td><td>5.81</td><td>9900</td><td>0.493</td><td>8.8</td><td>96.2</td><td>Chile</td><td>0.0</td><td>96.93</td><td>213.0</td><td>21.3</td><td>16134219</td><td>LATIN AMER. & CARIB</td><td>0.447</td></tr><tr><td>0.448</td><td>12.81</td><td>475440</td><td>33.89</td><td>1.5</td><td>0.08</td><td>CM</td><td>2.58</td><td>13.47</td><td>1800</td><td>0.17</td><td>68.26</td><td>79.0</td><td>Cameroon</td><td>0.0</td><td>84.61</td><td>5.7</td><td>36.5</td><td>17340702</td><td>SUB-SAHARAN AFRICA</td><td>0.382</td></tr><tr><td>0.125</td><td>15.4</td><td>9596960</td><td>13.25</td><td>1.5</td><td>0.15</td><td>CN</td><td>1.25</td><td>6.97</td><td>5000</td><td>0.473</td><td>24.18</td><td>90.9</td><td>China</td><td>-0.4</td><td>83.35</td><td>266.7</td><td>136.9</td><td>1313973713</td><td>ASIA (EX. NEAR EAST)</td><td>0.403</td></tr><tr><td>0.125</td><td>2.42</td><td>1138910</td><td>20.48</td><td>2.0</td><td>0.28</td><td>CO</td><td>1.67</td><td>5.58</td><td>6300</td><td>0.342</td><td>20.97</td><td>92.5</td><td>Colombia</td><td>-0.31</td><td>95.91</td><td>176.2</td><td>38.3</td><td>43593035</td><td>LATIN AMER. & CARIB</td><td>0.533</td></tr><tr><td>0.088</td><td>4.41</td><td>51100</td><td>18.32</td><td>2.0</td><td>2.52</td><td>CR</td><td>5.88</td><td>4.36</td><td>9100</td><td>0.299</td><td>9.95</td><td>96.0</td><td>Costa Rica</td><td>0.51</td><td>89.71</td><td>340.7</td><td>79.8</td><td>4075261</td><td>LATIN AMER. & CARIB</td><td>0.614</td></tr><tr><td>0.055</td><td>33.05</td><td>110860</td><td>11.89</td><td>2.0</td><td>3.37</td><td>CU</td><td>7.6</td><td>7.22</td><td>2900</td><td>0.261</td><td>6.33</td><td>97.0</td><td>Cuba</td><td>-1.58</td><td>59.35</td><td>74.7</td><td>102.7</td><td>11382820</td><td>LATIN AMER. & CARIB</td><td>0.684</td></tr><tr><td>0.121</td><td>9.68</td><td>4033</td><td>24.87</td><td>3.0</td><td>23.93</td><td>CV</td><td>0.5</td><td>6.55</td><td>1400</td><td>0.219</td><td>47.77</td><td>76.6</td><td>Cape Verde</td><td>-12.07</td><td>89.82</td><td>169.6</td><td>104.4</td><td>420979</td><td>SUB-SAHARAN AFRICA</td><td>0.66</td></tr><tr><td>0.037</td><td>7.79</td><td>9250</td><td>12.56</td><td>3.0</td><td>7.01</td><td>CY</td><td>4.44</td><td>7.68</td><td>19200</td><td>0.198</td><td>7.18</td><td>97.6</td><td>Cyprus</td><td>0.43</td><td>87.77</td><td>null</td><td>84.8</td><td>784301</td><td>NEAR EAST</td><td>0.765</td></tr><tr><td>0.034</td><td>39.8</td><td>78866</td><td>9.02</td><td>3.0</td><td>0.0</td><td>CZ</td><td>3.05</td><td>10.59</td><td>15700</td><td>0.393</td><td>3.93</td><td>99.9</td><td>Czech Republic</td><td>0.97</td><td>57.15</td><td>314.3</td><td>129.8</td><td>10235455</td><td>EASTERN EUROPE</td><td>0.573</td></tr><tr><td>0.009</td><td>33.85</td><td>357021</td><td>8.25</td><td>3.0</td><td>0.67</td><td>DE</td><td>0.59</td><td>10.62</td><td>27600</td><td>0.296</td><td>4.16</td><td>99.0</td><td>Germany</td><td>2.18</td><td>65.56</td><td>667.9</td><td>230.9</td><td>82422299</td><td>WESTERN EUROPE</td><td>0.695</td></tr><tr><td>0.179</td><td>0.04</td><td>23000</td><td>39.53</td><td>1.0</td><td>1.37</td><td>DJ</td><td>0.0</td><td>19.31</td><td>1300</td><td>0.225</td><td>104.13</td><td>67.9</td><td>Djibouti</td><td>0.0</td><td>99.96</td><td>22.8</td><td>21.2</td><td>486530</td><td>SUB-SAHARAN AFRICA</td><td>0.596</td></tr><tr><td>0.018</td><td>54.02</td><td>43094</td><td>11.13</td><td>3.0</td><td>16.97</td><td>DK</td><td>0.19</td><td>10.36</td><td>31100</td><td>0.246</td><td>4.56</td><td>100.0</td><td>Denmark</td><td>2.48</td><td>45.79</td><td>614.6</td><td>126.5</td><td>5450661</td><td>WESTERN EUROPE</td><td>0.735</td></tr><tr><td>0.177</td><td>6.67</td><td>754</td><td>15.27</td><td>2.0</td><td>19.63</td><td>DM</td><td>20.0</td><td>6.73</td><td>5400</td><td>0.328</td><td>14.15</td><td>94.0</td><td>Dominica</td><td>-13.87</td><td>73.33</td><td>304.8</td><td>91.4</td><td>68910</td><td>LATIN AMER. & CARIB</td><td>0.495</td></tr><tr><td>0.112</td><td>22.65</td><td>48730</td><td>23.22</td><td>2.0</td><td>2.64</td><td>DO</td><td>10.33</td><td>5.73</td><td>6000</td><td>0.306</td><td>32.38</td><td>84.7</td><td>Dominican Republic</td><td>-3.22</td><td>67.02</td><td>97.4</td><td>188.5</td><td>9183984</td><td>LATIN AMER. & CARIB</td><td>0.582</td></tr><tr><td>0.101</td><td>3.22</td><td>2381740</td><td>17.14</td><td>1.0</td><td>0.04</td><td>DZ</td><td>0.25</td><td>4.61</td><td>6000</td><td>0.6</td><td>31.0</td><td>70.0</td><td>Algeria</td><td>-0.39</td><td>96.53</td><td>78.1</td><td>13.8</td><td>32930091</td><td>NORTHERN AFRICA</td><td>0.298</td></tr><tr><td>0.07</td><td>5.85</td><td>283560</td><td>22.29</td><td>2.0</td><td>0.79</td><td>EC</td><td>4.93</td><td>4.23</td><td>3300</td><td>0.312</td><td>23.66</td><td>92.5</td><td>Ecuador</td><td>-8.58</td><td>89.22</td><td>125.6</td><td>47.8</td><td>13547510</td><td>LATIN AMER. & CARIB</td><td>0.618</td></tr><tr><td>0.04</td><td>16.04</td><td>45226</td><td>10.04</td><td>3.0</td><td>8.39</td><td>EE</td><td>0.45</td><td>13.25</td><td>12300</td><td>0.294</td><td>7.87</td><td>99.8</td><td>Estonia</td><td>-3.16</td><td>83.51</td><td>333.8</td><td>29.3</td><td>1324333</td><td>BALTICS</td><td>0.666</td></tr><tr><td>0.149</td><td>2.87</td><td>1001450</td><td>22.94</td><td>1.0</td><td>0.24</td><td>EG</td><td>0.48</td><td>5.23</td><td>4000</td><td>0.357</td><td>32.59</td><td>57.7</td><td>Egypt</td><td>-0.22</td><td>96.65</td><td>131.8</td><td>78.8</td><td>78887007</td><td>NORTHERN AFRICA</td><td>0.493</td></tr><tr><td>null</td><td>0.02</td><td>266000</td><td>null</td><td>1.0</td><td>0.42</td><td>EH</td><td>0.0</td><td>null</td><td>null</td><td>null</td><td>null</td><td>null</td><td>Western Sahara</td><td>null</td><td>99.98</td><td>null</td><td>1.0</td><td>273008</td><td>NORTHERN AFRICA</td><td>0.4</td></tr><tr><td>0.102</td><td>4.95</td><td>121320</td><td>34.33</td><td>1.5</td><td>1.84</td><td>ER</td><td>0.03</td><td>9.6</td><td>700</td><td>0.254</td><td>74.87</td><td>58.6</td><td>Eritrea</td><td>0.0</td><td>95.02</td><td>7.9</td><td>39.5</td><td>4786994</td><td>SUB-SAHARAN AFRICA</td><td>0.643</td></tr><tr><td>0.04</td><td>26.07</td><td>504782</td><td>10.06</td><td>3.0</td><td>0.98</td><td>ES</td><td>9.87</td><td>9.72</td><td>22000</td><td>0.295</td><td>4.42</td><td>97.9</td><td>Spain</td><td>0.99</td><td>64.06</td><td>453.5</td><td>80.0</td><td>40397842</td><td>WESTERN EUROPE</td><td>0.665</td></tr><tr><td>0.475</td><td>10.71</td><td>1127127</td><td>37.98</td><td>2.0</td><td>0.0</td><td>ET</td><td>0.75</td><td>14.86</td><td>700</td><td>0.099</td><td>95.32</td><td>42.7</td><td>Ethiopia</td><td>0.0</td><td>88.54</td><td>8.2</td><td>66.3</td><td>74777981</td><td>SUB-SAHARAN AFRICA</td><td>0.426</td></tr><tr><td>0.028</td><td>7.19</td><td>338145</td><td>10.45</td><td>3.0</td><td>0.37</td><td>FI</td><td>0.03</td><td>9.86</td><td>27400</td><td>0.295</td><td>3.57</td><td>100.0</td><td>Finland</td><td>0.95</td><td>92.78</td><td>405.3</td><td>15.5</td><td>5231372</td><td>WESTERN EUROPE</td><td>0.676</td></tr><tr><td>0.089</td><td>10.95</td><td>18270</td><td>22.55</td><td>2.0</td><td>6.18</td><td>FJ</td><td>4.65</td><td>5.65</td><td>5800</td><td>0.135</td><td>12.62</td><td>93.7</td><td>Fiji</td><td>-3.14</td><td>84.4</td><td>112.6</td><td>49.6</td><td>905949</td><td>OCEANIA</td><td>0.776</td></tr><tr><td>0.289</td><td>5.71</td><td>702</td><td>24.68</td><td>2.0</td><td>870.66</td><td>FM</td><td>45.71</td><td>4.75</td><td>2000</td><td>0.152</td><td>30.21</td><td>89.0</td><td>Micronesia, Fed. St.</td><td>-20.99</td><td>48.58</td><td>114.8</td><td>153.9</td><td>108004</td><td>OCEANIA</td><td>0.559</td></tr><tr><td>0.27</td><td>2.14</td><td>1399</td><td>14.05</td><td>null</td><td>79.84</td><td>FO</td><td>0.0</td><td>8.7</td><td>22000</td><td>0.11</td><td>6.24</td><td>null</td><td>Faroe Islands</td><td>1.41</td><td>97.86</td><td>503.8</td><td>33.8</td><td>47246</td><td>WESTERN EUROPE</td><td>0.62</td></tr><tr><td>0.022</td><td>33.53</td><td>547030</td><td>11.99</td><td>4.0</td><td>0.63</td><td>FR</td><td>2.07</td><td>9.14</td><td>27600</td><td>0.214</td><td>4.26</td><td>99.0</td><td>France</td><td>0.66</td><td>64.4</td><td>586.4</td><td>111.3</td><td>60876136</td><td>WESTERN EUROPE</td><td>0.764</td></tr><tr><td>0.061</td><td>1.26</td><td>267667</td><td>36.16</td><td>2.0</td><td>0.33</td><td>GA</td><td>0.66</td><td>12.25</td><td>5500</td><td>0.592</td><td>53.64</td><td>63.2</td><td>Gabon</td><td>0.0</td><td>98.08</td><td>27.4</td><td>5.3</td><td>1424906</td><td>SUB-SAHARAN AFRICA</td><td>0.348</td></tr><tr><td>0.005</td><td>23.46</td><td>244820</td><td>10.71</td><td>3.0</td><td>5.08</td><td>GB</td><td>0.21</td><td>10.13</td><td>27700</td><td>0.237</td><td>5.16</td><td>99.0</td><td>United Kingdom</td><td>2.19</td><td>76.33</td><td>543.5</td><td>247.6</td><td>60609153</td><td>WESTERN EUROPE</td><td>0.758</td></tr><tr><td>0.054</td><td>5.88</td><td>344</td><td>22.08</td><td>2.0</td><td>35.17</td><td>GD</td><td>29.41</td><td>6.88</td><td>5000</td><td>0.18</td><td>14.62</td><td>98.0</td><td>Grenada</td><td>-13.92</td><td>64.71</td><td>364.5</td><td>260.8</td><td>89703</td><td>LATIN AMER. & CARIB</td><td>0.766</td></tr><tr><td>0.172</td><td>11.44</td><td>69700</td><td>10.41</td><td>3.0</td><td>0.44</td><td>GE</td><td>3.86</td><td>9.23</td><td>2500</td><td>0.275</td><td>18.59</td><td>99.0</td><td>Georgia</td><td>-4.7</td><td>84.7</td><td>146.6</td><td>66.9</td><td>4661473</td><td>C.W. OF IND. STATES</td><td>0.553</td></tr><tr><td>0.066</td><td>0.14</td><td>91000</td><td>20.46</td><td>2.0</td><td>0.42</td><td>GF</td><td>0.05</td><td>4.88</td><td>8300</td><td>0.156</td><td>12.07</td><td>83.0</td><td>French Guiana</td><td>6.27</td><td>99.81</td><td>255.6</td><td>2.2</td><td>199509</td><td>LATIN AMER. & CARIB</td><td>0.778</td></tr><tr><td>0.03</td><td>null</td><td>78</td><td>8.81</td><td>3.0</td><td>64.1</td><td>GG</td><td>null</td><td>10.01</td><td>20000</td><td>0.1</td><td>4.71</td><td>null</td><td>Guernsey</td><td>3.84</td><td>null</td><td>842.4</td><td>838.6</td><td>65409</td><td>WESTERN EUROPE</td><td>0.87</td></tr><tr><td>0.366</td><td>16.26</td><td>239460</td><td>30.52</td><td>2.0</td><td>0.23</td><td>GH</td><td>9.67</td><td>9.72</td><td>2200</td><td>0.246</td><td>51.43</td><td>74.8</td><td>Ghana</td><td>-0.64</td><td>74.07</td><td>14.4</td><td>93.6</td><td>22409572</td><td>SUB-SAHARAN AFRICA</td><td>0.387</td></tr><tr><td>null</td><td>0.0</td><td>7</td><td>10.74</td><td>null</td><td>171.43</td><td>GI</td><td>0.0</td><td>9.31</td><td>17500</td><td>null</td><td>5.13</td><td>null</td><td>Gibraltar</td><td>0.0</td><td>100.0</td><td>877.7</td><td>3989.7</td><td>27928</td><td>WESTERN EUROPE</td><td>null</td></tr><tr><td>null</td><td>0.0</td><td>2166086</td><td>15.93</td><td>1.0</td><td>2.04</td><td>GL</td><td>0.0</td><td>7.84</td><td>20000</td><td>null</td><td>15.82</td><td>null</td><td>Greenland</td><td>-8.37</td><td>100.0</td><td>448.9</td><td>0.0</td><td>56361</td><td>NORTHERN AMERICA</td><td>null</td></tr><tr><td>0.308</td><td>25.0</td><td>11300</td><td>39.37</td><td>2.0</td><td>0.71</td><td>GM</td><td>0.5</td><td>12.25</td><td>1700</td><td>0.142</td><td>72.02</td><td>40.1</td><td>Gambia, The</td><td>1.57</td><td>74.5</td><td>26.8</td><td>145.3</td><td>1641564</td><td>SUB-SAHARAN AFRICA</td><td>0.549</td></tr><tr><td>0.237</td><td>3.63</td><td>245857</td><td>41.76</td><td>2.0</td><td>0.13</td><td>GN</td><td>2.58</td><td>15.48</td><td>2100</td><td>0.362</td><td>90.37</td><td>35.9</td><td>Guinea</td><td>-3.06</td><td>93.79</td><td>2.7</td><td>39.4</td><td>9690222</td><td>SUB-SAHARAN AFRICA</td><td>0.401</td></tr><tr><td>0.15</td><td>11.24</td><td>1780</td><td>15.05</td><td>2.0</td><td>17.19</td><td>GP</td><td>3.55</td><td>6.09</td><td>8000</td><td>0.17</td><td>8.6</td><td>90.0</td><td>Guadeloupe</td><td>-0.15</td><td>85.21</td><td>463.8</td><td>254.4</td><td>452776</td><td>LATIN AMER. & CARIB</td><td>0.68</td></tr><tr><td>0.03</td><td>4.63</td><td>28051</td><td>35.59</td><td>2.0</td><td>1.06</td><td>GQ</td><td>3.57</td><td>15.06</td><td>2700</td><td>0.906</td><td>85.13</td><td>85.7</td><td>Equatorial Guinea</td><td>0.0</td><td>91.8</td><td>18.5</td><td>19.3</td><td>540109</td><td>SUB-SAHARAN AFRICA</td><td>0.062</td></tr><tr><td>0.054</td><td>21.1</td><td>131940</td><td>9.68</td><td>3.0</td><td>10.37</td><td>GR</td><td>8.78</td><td>10.24</td><td>20000</td><td>0.213</td><td>5.53</td><td>97.5</td><td>Greece</td><td>2.35</td><td>70.12</td><td>589.7</td><td>81.0</td><td>10688058</td><td>WESTERN EUROPE</td><td>0.733</td></tr><tr><td>0.227</td><td>12.54</td><td>108890</td><td>29.88</td><td>2.0</td><td>0.37</td><td>GT</td><td>5.03</td><td>5.2</td><td>4100</td><td>0.188</td><td>35.93</td><td>70.6</td><td>Guatemala</td><td>-1.67</td><td>82.43</td><td>92.1</td><td>112.9</td><td>12293545</td><td>LATIN AMER. & CARIB</td><td>0.585</td></tr><tr><td>null</td><td>9.09</td><td>541</td><td>18.79</td><td>2.0</td><td>23.2</td><td>GU</td><td>16.36</td><td>4.48</td><td>21000</td><td>null</td><td>6.94</td><td>99.0</td><td>Guam</td><td>0.0</td><td>74.55</td><td>492.0</td><td>316.1</td><td>171019</td><td>OCEANIA</td><td>null</td></tr><tr><td>0.62</td><td>10.67</td><td>36120</td><td>37.22</td><td>2.0</td><td>0.97</td><td>GW</td><td>8.82</td><td>16.53</td><td>800</td><td>0.12</td><td>107.17</td><td>42.4</td><td>Guinea-Bissau</td><td>-1.57</td><td>80.51</td><td>7.4</td><td>39.9</td><td>1442029</td><td>SUB-SAHARAN AFRICA</td><td>0.26</td></tr><tr><td>0.37</td><td>2.44</td><td>214970</td><td>18.28</td><td>2.0</td><td>0.21</td><td>GY</td><td>0.15</td><td>8.28</td><td>4000</td><td>0.203</td><td>33.26</td><td>98.8</td><td>Guyana</td><td>-2.07</td><td>97.41</td><td>143.5</td><td>3.6</td><td>767245</td><td>LATIN AMER. & CARIB</td><td>0.427</td></tr><tr><td>0.03</td><td>28.95</td><td>360</td><td>39.45</td><td>3.0</td><td>11.11</td><td>GZ</td><td>21.05</td><td>3.8</td><td>600</td><td>0.283</td><td>22.93</td><td>null</td><td>Gaza Strip</td><td>1.6</td><td>50.0</td><td>244.3</td><td>3968.8</td><td>1428757</td><td>NEAR EAST</td><td>0.687</td></tr><tr><td>0.001</td><td>5.05</td><td>1092</td><td>7.29</td><td>2.0</td><td>67.12</td><td>HK</td><td>1.01</td><td>6.29</td><td>28800</td><td>0.092</td><td>2.97</td><td>93.5</td><td>Hong Kong</td><td>5.24</td><td>93.94</td><td>546.7</td><td>6355.7</td><td>6940432</td><td>ASIA (EX. NEAR EAST)</td><td>0.906</td></tr><tr><td>0.139</td><td>9.55</td><td>112090</td><td>28.24</td><td>2.0</td><td>0.73</td><td>HN</td><td>3.22</td><td>5.28</td><td>2600</td><td>0.312</td><td>29.32</td><td>76.2</td><td>Honduras</td><td>-1.99</td><td>87.23</td><td>67.5</td><td>65.4</td><td>7326496</td><td>LATIN AMER. & CARIB</td><td>0.549</td></tr><tr><td>0.07</td><td>26.09</td><td>56542</td><td>9.61</td><td>null</td><td>10.32</td><td>HR</td><td>2.27</td><td>11.48</td><td>10600</td><td>0.308</td><td>6.84</td><td>98.5</td><td>Croatia</td><td>1.58</td><td>71.65</td><td>420.4</td><td>79.5</td><td>4494749</td><td>EASTERN EUROPE</td><td>0.622</td></tr><tr><td>0.28</td><td>28.3</td><td>27750</td><td>36.44</td><td>2.0</td><td>6.38</td><td>HT</td><td>11.61</td><td>12.17</td><td>1600</td><td>0.2</td><td>73.45</td><td>52.9</td><td>Haiti</td><td>-3.4</td><td>60.09</td><td>16.9</td><td>299.4</td><td>8308504</td><td>LATIN AMER. & CARIB</td><td>0.52</td></tr><tr><td>0.037</td><td>50.09</td><td>93030</td><td>9.72</td><td>3.0</td><td>0.0</td><td>HU</td><td>2.06</td><td>13.11</td><td>13900</td><td>0.312</td><td>8.57</td><td>99.4</td><td>Hungary</td><td>0.86</td><td>47.85</td><td>336.2</td><td>107.3</td><td>9981334</td><td>EASTERN EUROPE</td><td>0.651</td></tr><tr><td>0.134</td><td>11.32</td><td>1919440</td><td>20.34</td><td>2.0</td><td>2.85</td><td>ID</td><td>7.23</td><td>6.25</td><td>3200</td><td>0.458</td><td>35.6</td><td>87.9</td><td>Indonesia</td><td>0.0</td><td>81.45</td><td>52.0</td><td>127.9</td><td>245452739</td><td>ASIA (EX. NEAR EAST)</td><td>0.408</td></tr><tr><td>0.05</td><td>15.2</td><td>70280</td><td>14.45</td><td>3.0</td><td>2.06</td><td>IE</td><td>0.03</td><td>7.82</td><td>29600</td><td>0.46</td><td>5.39</td><td>98.0</td><td>Ireland</td><td>4.99</td><td>84.77</td><td>500.5</td><td>57.8</td><td>4062235</td><td>WESTERN EUROPE</td><td>0.49</td></tr><tr><td>0.026</td><td>16.39</td><td>20770</td><td>17.97</td><td>3.0</td><td>1.31</td><td>IL</td><td>4.17</td><td>6.18</td><td>19800</td><td>0.317</td><td>7.03</td><td>95.4</td><td>Israel</td><td>0.68</td><td>79.44</td><td>462.3</td><td>305.8</td><td>6352117</td><td>NEAR EAST</td><td>0.657</td></tr><tr><td>0.01</td><td>9.0</td><td>572</td><td>11.05</td><td>3.0</td><td>27.97</td><td>IM</td><td>0.0</td><td>11.19</td><td>21000</td><td>0.13</td><td>5.93</td><td>null</td><td>Isle of Man</td><td>5.36</td><td>91.0</td><td>676.0</td><td>131.9</td><td>75441</td><td>WESTERN EUROPE</td><td>0.86</td></tr><tr><td>0.186</td><td>54.4</td><td>3287590</td><td>22.01</td><td>2.5</td><td>0.21</td><td>IN</td><td>2.74</td><td>8.18</td><td>2900</td><td>0.276</td><td>56.29</td><td>59.5</td><td>India</td><td>-0.07</td><td>42.86</td><td>45.4</td><td>333.2</td><td>1095351995</td><td>ASIA (EX. NEAR EAST)</td><td>0.538</td></tr><tr><td>0.073</td><td>13.15</td><td>437072</td><td>31.98</td><td>1.0</td><td>0.01</td><td>IQ</td><td>0.78</td><td>5.37</td><td>1500</td><td>0.666</td><td>50.25</td><td>40.4</td><td>Iraq</td><td>0.0</td><td>86.07</td><td>38.6</td><td>61.3</td><td>26783383</td><td>NEAR EAST</td><td>0.261</td></tr><tr><td>0.116</td><td>8.72</td><td>1648000</td><td>17.0</td><td>1.0</td><td>0.15</td><td>IR</td><td>1.39</td><td>5.55</td><td>7000</td><td>0.424</td><td>41.58</td><td>79.4</td><td>Iran</td><td>-0.84</td><td>89.89</td><td>276.4</td><td>41.7</td><td>68688433</td><td>ASIA (EX. NEAR EAST)</td><td>0.46</td></tr><tr><td>0.086</td><td>0.07</td><td>103000</td><td>13.64</td><td>3.0</td><td>4.83</td><td>IS</td><td>0.0</td><td>6.72</td><td>30900</td><td>0.15</td><td>3.31</td><td>99.9</td><td>Iceland</td><td>2.38</td><td>99.93</td><td>647.7</td><td>2.9</td><td>299388</td><td>WESTERN EUROPE</td><td>0.765</td></tr><tr><td>0.021</td><td>27.79</td><td>301230</td><td>8.72</td><td>null</td><td>2.52</td><td>IT</td><td>9.53</td><td>10.4</td><td>26700</td><td>0.291</td><td>5.94</td><td>98.6</td><td>Italy</td><td>2.07</td><td>62.68</td><td>430.9</td><td>193.0</td><td>58133509</td><td>WESTERN EUROPE</td><td>0.688</td></tr><tr><td>0.05</td><td>0.0</td><td>116</td><td>9.3</td><td>3.0</td><td>60.34</td><td>JE</td><td>0.0</td><td>9.28</td><td>24800</td><td>0.02</td><td>5.24</td><td>null</td><td>Jersey</td><td>2.76</td><td>100.0</td><td>811.3</td><td>785.2</td><td>91084</td><td>WESTERN EUROPE</td><td>0.93</td></tr><tr><td>0.049</td><td>16.07</td><td>10991</td><td>20.82</td><td>2.0</td><td>9.3</td><td>JM</td><td>10.16</td><td>6.52</td><td>3900</td><td>0.337</td><td>12.36</td><td>87.9</td><td>Jamaica</td><td>-4.92</td><td>73.77</td><td>124.0</td><td>250.9</td><td>2758124</td><td>LATIN AMER. & CARIB</td><td>0.615</td></tr><tr><td>0.033</td><td>2.67</td><td>92300</td><td>21.25</td><td>1.0</td><td>0.03</td><td>JO</td><td>1.83</td><td>2.65</td><td>4300</td><td>0.287</td><td>17.35</td><td>91.3</td><td>Jordan</td><td>6.59</td><td>95.5</td><td>104.5</td><td>64.0</td><td>5906760</td><td>NEAR EAST</td><td>0.68</td></tr><tr><td>0.017</td><td>12.19</td><td>377835</td><td>9.37</td><td>3.0</td><td>7.87</td><td>JP</td><td>0.96</td><td>9.16</td><td>28200</td><td>0.258</td><td>3.26</td><td>99.0</td><td>Japan</td><td>0.0</td><td>86.85</td><td>461.2</td><td>337.4</td><td>127463611</td><td>ASIA (EX. NEAR EAST)</td><td>0.725</td></tr><tr><td>0.163</td><td>8.08</td><td>582650</td><td>39.72</td><td>1.5</td><td>0.09</td><td>KE</td><td>0.98</td><td>14.02</td><td>1000</td><td>0.188</td><td>61.47</td><td>85.1</td><td>Kenya</td><td>-0.1</td><td>90.94</td><td>8.1</td><td>59.6</td><td>34707817</td><td>SUB-SAHARAN AFRICA</td><td>0.651</td></tr><tr><td>0.353</td><td>7.3</td><td>198500</td><td>22.8</td><td>2.5</td><td>0.0</td><td>KG</td><td>0.35</td><td>7.08</td><td>1600</td><td>0.208</td><td>35.64</td><td>97.0</td><td>Kyrgyzstan</td><td>-2.45</td><td>92.35</td><td>84.0</td><td>26.3</td><td>5213898</td><td>C.W. OF IND. STATES</td><td>0.439</td></tr><tr><td>0.35</td><td>20.96</td><td>181040</td><td>26.9</td><td>2.0</td><td>0.24</td><td>KH</td><td>0.61</td><td>9.06</td><td>1900</td><td>0.3</td><td>71.48</td><td>69.4</td><td>Cambodia</td><td>0.0</td><td>78.43</td><td>2.6</td><td>76.7</td><td>13881427</td><td>ASIA (EX. NEAR EAST)</td><td>0.35</td></tr><tr><td>0.089</td><td>2.74</td><td>811</td><td>30.65</td><td>2.0</td><td>140.94</td><td>KI</td><td>50.68</td><td>8.26</td><td>800</td><td>0.242</td><td>48.52</td><td>null</td><td>Kiribati</td><td>0.0</td><td>46.58</td><td>42.7</td><td>130.0</td><td>105432</td><td>OCEANIA</td><td>0.668</td></tr><tr><td>0.4</td><td>35.87</td><td>2170</td><td>36.93</td><td>2.0</td><td>15.67</td><td>KM</td><td>23.32</td><td>8.2</td><td>700</td><td>0.04</td><td>74.93</td><td>56.5</td><td>Comoros</td><td>0.0</td><td>40.81</td><td>24.5</td><td>318.4</td><td>690948</td><td>SUB-SAHARAN AFRICA</td><td>0.56</td></tr><tr><td>0.035</td><td>19.44</td><td>261</td><td>18.02</td><td>2.0</td><td>51.72</td><td>KN</td><td>2.78</td><td>8.33</td><td>8800</td><td>0.258</td><td>14.49</td><td>97.0</td><td>Saint Kitts & Nevis</td><td>-7.11</td><td>77.78</td><td>638.9</td><td>149.9</td><td>39129</td><td>LATIN AMER. & CARIB</td><td>0.707</td></tr><tr><td>0.3</td><td>20.76</td><td>120540</td><td>15.54</td><td>3.0</td><td>2.07</td><td>KP</td><td>2.49</td><td>7.13</td><td>1300</td><td>0.34</td><td>24.04</td><td>99.0</td><td>Korea, North</td><td>0.0</td><td>76.75</td><td>42.4</td><td>191.8</td><td>23113019</td><td>ASIA (EX. NEAR EAST)</td><td>0.36</td></tr><tr><td>0.033</td><td>17.18</td><td>98480</td><td>10.0</td><td>3.0</td><td>2.45</td><td>KR</td><td>1.95</td><td>5.85</td><td>17800</td><td>0.403</td><td>7.05</td><td>97.9</td><td>Korea, South</td><td>0.0</td><td>80.87</td><td>486.1</td><td>496.0</td><td>48846823</td><td>ASIA (EX. NEAR EAST)</td><td>0.563</td></tr><tr><td>0.004</td><td>0.73</td><td>17820</td><td>21.94</td><td>1.0</td><td>2.8</td><td>KW</td><td>0.11</td><td>2.41</td><td>19000</td><td>0.479</td><td>9.95</td><td>83.5</td><td>Kuwait</td><td>14.18</td><td>99.16</td><td>211.0</td><td>135.7</td><td>2418393</td><td>NEAR EAST</td><td>0.516</td></tr><tr><td>0.014</td><td>3.85</td><td>262</td><td>12.74</td><td>2.0</td><td>61.07</td><td>KY</td><td>0.0</td><td>4.89</td><td>35000</td><td>0.032</td><td>8.19</td><td>98.0</td><td>Cayman Islands</td><td>18.75</td><td>96.15</td><td>836.3</td><td>173.4</td><td>45436</td><td>LATIN AMER. & CARIB</td><td>0.954</td></tr><tr><td>0.067</td><td>7.98</td><td>2717300</td><td>16.0</td><td>4.0</td><td>0.0</td><td>KZ</td><td>0.05</td><td>9.42</td><td>6300</td><td>0.386</td><td>29.21</td><td>98.4</td><td>Kazakhstan</td><td>-3.35</td><td>91.97</td><td>164.1</td><td>5.6</td><td>15233244</td><td>C.W. OF IND. STATES</td><td>0.547</td></tr><tr><td>0.455</td><td>3.8</td><td>236800</td><td>35.49</td><td>2.0</td><td>0.0</td><td>LA</td><td>0.35</td><td>11.55</td><td>1700</td><td>0.287</td><td>85.22</td><td>66.4</td><td>Laos</td><td>0.0</td><td>95.85</td><td>14.1</td><td>26.9</td><td>6368481</td><td>ASIA (EX. NEAR EAST)</td><td>0.258</td></tr><tr><td>0.12</td><td>16.62</td><td>10400</td><td>18.52</td><td>null</td><td>2.16</td><td>LB</td><td>13.98</td><td>6.21</td><td>4800</td><td>0.21</td><td>24.52</td><td>87.4</td><td>Lebanon</td><td>0.0</td><td>69.4</td><td>255.6</td><td>372.5</td><td>3874050</td><td>NEAR EAST</td><td>0.67</td></tr><tr><td>0.07</td><td>6.56</td><td>616</td><td>19.68</td><td>2.0</td><td>25.65</td><td>LC</td><td>22.95</td><td>5.08</td><td>5400</td><td>0.2</td><td>13.53</td><td>67.0</td><td>Saint Lucia</td><td>-2.67</td><td>70.49</td><td>303.3</td><td>273.5</td><td>168458</td><td>LATIN AMER. & CARIB</td><td>0.73</td></tr><tr><td>0.06</td><td>25.0</td><td>160</td><td>10.21</td><td>4.0</td><td>0.0</td><td>LI</td><td>0.0</td><td>7.18</td><td>25000</td><td>0.39</td><td>4.7</td><td>100.0</td><td>Liechtenstein</td><td>4.85</td><td>75.0</td><td>585.5</td><td>212.4</td><td>33987</td><td>WESTERN EUROPE</td><td>0.55</td></tr><tr><td>0.178</td><td>13.86</td><td>65610</td><td>15.51</td><td>2.0</td><td>2.04</td><td>LK</td><td>15.7</td><td>6.52</td><td>3700</td><td>0.276</td><td>14.35</td><td>92.3</td><td>Sri Lanka</td><td>-1.31</td><td>70.44</td><td>61.5</td><td>308.2</td><td>20222240</td><td>ASIA (EX. NEAR EAST)</td><td>0.545</td></tr><tr><td>0.769</td><td>3.95</td><td>111370</td><td>44.77</td><td>2.0</td><td>0.52</td><td>LR</td><td>2.28</td><td>23.1</td><td>1000</td><td>0.054</td><td>128.87</td><td>57.5</td><td>Liberia</td><td>0.0</td><td>93.77</td><td>2.3</td><td>27.3</td><td>3042004</td><td>SUB-SAHARAN AFRICA</td><td>0.177</td></tr><tr><td>0.163</td><td>10.87</td><td>30355</td><td>24.75</td><td>3.0</td><td>0.0</td><td>LS</td><td>0.13</td><td>28.71</td><td>3000</td><td>0.443</td><td>84.23</td><td>84.8</td><td>Lesotho</td><td>-0.74</td><td>89.0</td><td>23.7</td><td>66.6</td><td>2022331</td><td>SUB-SAHARAN AFRICA</td><td>0.394</td></tr><tr><td>0.055</td><td>45.22</td><td>65200</td><td>8.75</td><td>null</td><td>0.14</td><td>LT</td><td>0.91</td><td>10.98</td><td>11400</td><td>0.325</td><td>6.89</td><td>99.6</td><td>Lithuania</td><td>-0.71</td><td>53.87</td><td>223.4</td><td>55.0</td><td>3585906</td><td>BALTICS</td><td>0.62</td></tr><tr><td>0.01</td><td>23.28</td><td>2586</td><td>11.94</td><td>null</td><td>0.0</td><td>LU</td><td>0.4</td><td>8.41</td><td>55100</td><td>0.13</td><td>4.81</td><td>100.0</td><td>Luxembourg</td><td>8.97</td><td>76.32</td><td>515.4</td><td>183.5</td><td>474413</td><td>WESTERN EUROPE</td><td>0.86</td></tr><tr><td>0.04</td><td>29.67</td><td>64589</td><td>9.24</td><td>3.0</td><td>0.82</td><td>LV</td><td>0.47</td><td>13.66</td><td>10200</td><td>0.261</td><td>9.55</td><td>99.8</td><td>Latvia</td><td>-2.23</td><td>69.86</td><td>321.4</td><td>35.2</td><td>2274735</td><td>BALTICS</td><td>0.699</td></tr><tr><td>0.076</td><td>1.03</td><td>1759540</td><td>26.49</td><td>null</td><td>0.1</td><td>LY</td><td>0.19</td><td>3.48</td><td>6400</td><td>0.499</td><td>24.6</td><td>82.6</td><td>Libya</td><td>0.0</td><td>98.78</td><td>127.1</td><td>3.4</td><td>5900754</td><td>NORTHERN AFRICA</td><td>0.425</td></tr><tr><td>0.217</td><td>19.61</td><td>446550</td><td>21.98</td><td>null</td><td>0.41</td><td>MA</td><td>2.17</td><td>5.58</td><td>4000</td><td>0.357</td><td>41.62</td><td>51.7</td><td>Morocco</td><td>-0.98</td><td>78.22</td><td>40.4</td><td>74.4</td><td>33241259</td><td>NORTHERN AFRICA</td><td>0.426</td></tr><tr><td>0.17</td><td>0.0</td><td>2</td><td>9.19</td><td>null</td><td>205.0</td><td>MC</td><td>0.0</td><td>12.91</td><td>27000</td><td>null</td><td>5.43</td><td>99.0</td><td>Monaco</td><td>7.75</td><td>100.0</td><td>1035.6</td><td>16271.5</td><td>32543</td><td>WESTERN EUROPE</td><td>null</td></tr><tr><td>0.213</td><td>55.3</td><td>33843</td><td>15.7</td><td>null</td><td>0.0</td><td>MD</td><td>10.79</td><td>12.64</td><td>1800</td><td>0.233</td><td>40.42</td><td>99.1</td><td>Moldova</td><td>-0.26</td><td>33.91</td><td>208.1</td><td>132.0</td><td>4466706</td><td>C.W. OF IND. STATES</td><td>0.555</td></tr><tr><td>0.276</td><td>5.07</td><td>587040</td><td>41.41</td><td>2.0</td><td>0.82</td><td>MG</td><td>1.03</td><td>11.11</td><td>800</td><td>0.165</td><td>76.83</td><td>68.9</td><td>Madagascar</td><td>0.0</td><td>93.91</td><td>3.6</td><td>31.7</td><td>18595469</td><td>SUB-SAHARAN AFRICA</td><td>0.559</td></tr><tr><td>0.317</td><td>16.67</td><td>11854</td><td>33.05</td><td>2.0</td><td>3.12</td><td>MH</td><td>38.89</td><td>4.78</td><td>1600</td><td>0.149</td><td>29.45</td><td>93.7</td><td>Marshall Islands</td><td>-6.04</td><td>44.44</td><td>91.2</td><td>5.1</td><td>60422</td><td>OCEANIA</td><td>0.534</td></tr><tr><td>0.118</td><td>22.26</td><td>25333</td><td>12.02</td><td>3.0</td><td>0.0</td><td>MK</td><td>1.81</td><td>8.77</td><td>6700</td><td>0.319</td><td>10.09</td><td>null</td><td>Macedonia</td><td>-1.45</td><td>75.93</td><td>260.0</td><td>80.9</td><td>2050554</td><td>EASTERN EUROPE</td><td>0.563</td></tr><tr><td>0.45</td><td>3.82</td><td>1240000</td><td>49.82</td><td>2.0</td><td>0.0</td><td>ML</td><td>0.03</td><td>16.89</td><td>900</td><td>0.17</td><td>116.79</td><td>46.4</td><td>Mali</td><td>-0.33</td><td>96.15</td><td>6.4</td><td>9.5</td><td>11716829</td><td>SUB-SAHARAN AFRICA</td><td>0.38</td></tr><tr><td>0.206</td><td>0.77</td><td>1564116</td><td>21.59</td><td>1.0</td><td>0.0</td><td>MN</td><td>0.0</td><td>6.95</td><td>1800</td><td>0.214</td><td>53.79</td><td>97.8</td><td>Mongolia</td><td>0.0</td><td>99.23</td><td>55.1</td><td>1.8</td><td>2832224</td><td>ASIA (EX. NEAR EAST)</td><td>0.58</td></tr><tr><td>0.001</td><td>0.0</td><td>28</td><td>8.48</td><td>2.0</td><td>146.43</td><td>MO</td><td>0.0</td><td>4.47</td><td>19400</td><td>0.072</td><td>4.39</td><td>94.5</td><td>Macau</td><td>4.86</td><td>100.0</td><td>384.9</td><td>16183.0</td><td>453125</td><td>ASIA (EX. NEAR EAST)</td><td>0.927</td></tr><tr><td>null</td><td>13.04</td><td>477</td><td>19.43</td><td>2.0</td><td>310.69</td><td>MP</td><td>4.35</td><td>2.29</td><td>12500</td><td>null</td><td>7.11</td><td>97.0</td><td>N. Mariana Islands</td><td>9.61</td><td>82.61</td><td>254.7</td><td>172.9</td><td>82459</td><td>OCEANIA</td><td>null</td></tr><tr><td>0.06</td><td>10.38</td><td>1100</td><td>13.74</td><td>2.0</td><td>31.82</td><td>MQ</td><td>9.43</td><td>6.48</td><td>14400</td><td>0.11</td><td>7.09</td><td>97.7</td><td>Martinique</td><td>-0.05</td><td>80.19</td><td>394.4</td><td>396.5</td><td>436131</td><td>LATIN AMER. & CARIB</td><td>0.83</td></tr><tr><td>0.25</td><td>0.48</td><td>1030700</td><td>40.99</td><td>1.0</td><td>0.07</td><td>MR</td><td>0.01</td><td>12.16</td><td>1800</td><td>0.29</td><td>70.89</td><td>41.7</td><td>Mauritania</td><td>0.0</td><td>99.51</td><td>12.9</td><td>3.1</td><td>3177388</td><td>SUB-SAHARAN AFRICA</td><td>0.46</td></tr><tr><td>null</td><td>20.0</td><td>102</td><td>17.59</td><td>2.0</td><td>39.22</td><td>MS</td><td>0.0</td><td>7.1</td><td>3400</td><td>null</td><td>7.35</td><td>97.0</td><td>Montserrat</td><td>0.0</td><td>80.0</td><td>null</td><td>92.5</td><td>9439</td><td>LATIN AMER. & CARIB</td><td>null</td></tr><tr><td>0.03</td><td>28.13</td><td>316</td><td>10.22</td><td>null</td><td>62.28</td><td>MT</td><td>3.13</td><td>8.1</td><td>17700</td><td>0.23</td><td>3.89</td><td>92.8</td><td>Malta</td><td>2.07</td><td>68.74</td><td>505.0</td><td>1266.5</td><td>400214</td><td>WESTERN EUROPE</td><td>0.74</td></tr><tr><td>0.059</td><td>49.26</td><td>2040</td><td>15.43</td><td>2.0</td><td>8.68</td><td>MU</td><td>2.96</td><td>6.86</td><td>11400</td><td>0.298</td><td>15.03</td><td>85.6</td><td>Mauritius</td><td>-0.9</td><td>47.78</td><td>289.3</td><td>608.3</td><td>1240827</td><td>SUB-SAHARAN AFRICA</td><td>0.643</td></tr><tr><td>0.2</td><td>13.33</td><td>300</td><td>34.81</td><td>2.0</td><td>214.67</td><td>MV</td><td>16.67</td><td>7.06</td><td>3900</td><td>0.18</td><td>56.52</td><td>97.2</td><td>Maldives</td><td>0.0</td><td>70.0</td><td>90.0</td><td>1196.7</td><td>359008</td><td>ASIA (EX. NEAR EAST)</td><td>0.62</td></tr><tr><td>0.342</td><td>23.38</td><td>118480</td><td>43.13</td><td>2.0</td><td>0.0</td><td>MW</td><td>1.49</td><td>19.33</td><td>600</td><td>0.158</td><td>103.32</td><td>62.7</td><td>Malawi</td><td>0.0</td><td>75.13</td><td>7.9</td><td>109.8</td><td>13013926</td><td>SUB-SAHARAN AFRICA</td><td>0.499</td></tr><tr><td>0.038</td><td>12.99</td><td>1972550</td><td>20.69</td><td>1.5</td><td>0.47</td><td>MX</td><td>1.31</td><td>4.74</td><td>9000</td><td>0.259</td><td>20.91</td><td>92.2</td><td>Mexico</td><td>-4.87</td><td>85.7</td><td>181.6</td><td>54.5</td><td>107449525</td><td>LATIN AMER. & CARIB</td><td>0.702</td></tr><tr><td>0.084</td><td>5.48</td><td>329750</td><td>22.86</td><td>2.0</td><td>1.42</td><td>MY</td><td>17.61</td><td>5.05</td><td>9000</td><td>0.48</td><td>17.7</td><td>88.7</td><td>Malaysia</td><td>0.0</td><td>76.91</td><td>179.0</td><td>74.0</td><td>24385858</td><td>ASIA (EX. NEAR EAST)</td><td>0.436</td></tr><tr><td>0.262</td><td>5.1</td><td>801590</td><td>35.18</td><td>2.0</td><td>0.31</td><td>MZ</td><td>0.3</td><td>21.35</td><td>1200</td><td>0.348</td><td>130.79</td><td>47.8</td><td>Mozambique</td><td>0.0</td><td>94.6</td><td>3.5</td><td>24.6</td><td>19686505</td><td>SUB-SAHARAN AFRICA</td><td>0.39</td></tr><tr><td>0.097</td><td>0.99</td><td>825418</td><td>24.32</td><td>1.0</td><td>0.19</td><td>NA</td><td>0.0</td><td>18.86</td><td>7200</td><td>0.315</td><td>48.98</td><td>84.0</td><td>Namibia</td><td>0.0</td><td>99.01</td><td>62.6</td><td>2.5</td><td>2044147</td><td>SUB-SAHARAN AFRICA</td><td>0.588</td></tr><tr><td>0.15</td><td>0.38</td><td>19060</td><td>18.11</td><td>2.0</td><td>11.83</td><td>NC</td><td>0.33</td><td>5.69</td><td>15000</td><td>0.088</td><td>7.72</td><td>91.0</td><td>New Caledonia</td><td>0.0</td><td>99.29</td><td>252.2</td><td>11.5</td><td>219246</td><td>OCEANIA</td><td>0.762</td></tr><tr><td>0.39</td><td>3.54</td><td>1267000</td><td>50.73</td><td>1.0</td><td>0.0</td><td>NE</td><td>0.01</td><td>20.91</td><td>800</td><td>0.17</td><td>121.69</td><td>17.6</td><td>Niger</td><td>-0.67</td><td>96.45</td><td>1.9</td><td>9.9</td><td>12525094</td><td>SUB-SAHARAN AFRICA</td><td>0.44</td></tr><tr><td>0.269</td><td>31.29</td><td>923768</td><td>40.43</td><td>1.5</td><td>0.09</td><td>NG</td><td>2.96</td><td>16.94</td><td>900</td><td>0.487</td><td>98.8</td><td>68.0</td><td>Nigeria</td><td>0.26</td><td>65.75</td><td>9.3</td><td>142.7</td><td>131859731</td><td>SUB-SAHARAN AFRICA</td><td>0.244</td></tr><tr><td>0.165</td><td>15.94</td><td>129494</td><td>24.51</td><td>2.0</td><td>0.7</td><td>NI</td><td>1.94</td><td>4.45</td><td>2300</td><td>0.275</td><td>29.11</td><td>67.5</td><td>Nicaragua</td><td>-1.22</td><td>82.12</td><td>39.7</td><td>43.0</td><td>5570129</td><td>LATIN AMER. & CARIB</td><td>0.56</td></tr><tr><td>0.021</td><td>26.71</td><td>41526</td><td>10.9</td><td>3.0</td><td>1.09</td><td>NL</td><td>0.97</td><td>8.68</td><td>28600</td><td>0.244</td><td>5.04</td><td>99.0</td><td>Netherlands</td><td>2.91</td><td>72.32</td><td>460.8</td><td>397.1</td><td>16491461</td><td>WESTERN EUROPE</td><td>0.736</td></tr><tr><td>0.021</td><td>2.87</td><td>323802</td><td>11.46</td><td>3.0</td><td>7.77</td><td>NO</td><td>0.0</td><td>9.4</td><td>37800</td><td>0.415</td><td>3.7</td><td>100.0</td><td>Norway</td><td>1.74</td><td>97.13</td><td>461.7</td><td>14.2</td><td>4610820</td><td>WESTERN EUROPE</td><td>0.564</td></tr><tr><td>0.38</td><td>21.68</td><td>147181</td><td>30.98</td><td>null</td><td>0.0</td><td>NP</td><td>0.64</td><td>9.31</td><td>1400</td><td>0.21</td><td>66.98</td><td>45.2</td><td>Nepal</td><td>0.0</td><td>77.68</td><td>15.9</td><td>192.2</td><td>28287147</td><td>ASIA (EX. NEAR EAST)</td><td>0.41</td></tr><tr><td>null</td><td>0.0</td><td>21</td><td>24.76</td><td>2.0</td><td>142.86</td><td>NR</td><td>0.0</td><td>6.7</td><td>5000</td><td>null</td><td>9.95</td><td>null</td><td>Nauru</td><td>0.0</td><td>100.0</td><td>143.0</td><td>632.7</td><td>13287</td><td>OCEANIA</td><td>null</td></tr><tr><td>0.043</td><td>5.6</td><td>268680</td><td>13.76</td><td>3.0</td><td>5.63</td><td>NZ</td><td>6.99</td><td>7.53</td><td>21600</td><td>0.273</td><td>5.85</td><td>99.0</td><td>New Zealand</td><td>4.05</td><td>87.41</td><td>441.7</td><td>15.2</td><td>4076140</td><td>OCEANIA</td><td>0.684</td></tr><tr><td>0.027</td><td>0.0</td><td>212460</td><td>36.24</td><td>1.0</td><td>0.98</td><td>OM</td><td>0.14</td><td>3.81</td><td>13100</td><td>0.39</td><td>19.51</td><td>75.8</td><td>Oman</td><td>0.28</td><td>99.74</td><td>85.5</td><td>14.6</td><td>3102229</td><td>NEAR EAST</td><td>0.583</td></tr><tr><td>0.068</td><td>7.36</td><td>78200</td><td>21.74</td><td>2.0</td><td>3.18</td><td>PA</td><td>1.98</td><td>5.36</td><td>6300</td><td>0.156</td><td>20.47</td><td>92.6</td><td>Panama</td><td>-0.91</td><td>90.66</td><td>137.9</td><td>40.8</td><td>3191319</td><td>LATIN AMER. & CARIB</td><td>0.776</td></tr><tr><td>0.08</td><td>2.89</td><td>1285220</td><td>20.48</td><td>1.5</td><td>0.19</td><td>PE</td><td>0.4</td><td>6.23</td><td>5100</td><td>0.27</td><td>31.94</td><td>90.9</td><td>Peru</td><td>-1.05</td><td>96.71</td><td>79.5</td><td>22.0</td><td>28302603</td><td>LATIN AMER. & CARIB</td><td>0.65</td></tr><tr><td>0.031</td><td>0.82</td><td>4167</td><td>16.68</td><td>2.0</td><td>60.6</td><td>PF</td><td>5.46</td><td>4.69</td><td>17500</td><td>0.19</td><td>8.44</td><td>98.0</td><td>French Polynesia</td><td>2.94</td><td>93.72</td><td>194.5</td><td>65.9</td><td>274578</td><td>OCEANIA</td><td>0.769</td></tr><tr><td>0.353</td><td>0.46</td><td>462840</td><td>29.36</td><td>2.0</td><td>1.11</td><td>PG</td><td>1.44</td><td>7.25</td><td>2200</td><td>0.381</td><td>51.45</td><td>64.6</td><td>Papua New Guinea</td><td>0.0</td><td>98.1</td><td>10.9</td><td>12.3</td><td>5670544</td><td>OCEANIA</td><td>0.266</td></tr><tr><td>0.144</td><td>18.95</td><td>300000</td><td>24.89</td><td>2.0</td><td>12.1</td><td>PH</td><td>16.77</td><td>5.41</td><td>4600</td><td>0.326</td><td>23.51</td><td>92.6</td><td>Philippines</td><td>-1.5</td><td>64.28</td><td>38.4</td><td>298.2</td><td>89468677</td><td>ASIA (EX. NEAR EAST)</td><td>0.53</td></tr><tr><td>0.216</td><td>27.87</td><td>803940</td><td>29.74</td><td>1.0</td><td>0.13</td><td>PK</td><td>0.87</td><td>8.23</td><td>2100</td><td>0.251</td><td>72.44</td><td>45.7</td><td>Pakistan</td><td>-2.77</td><td>71.26</td><td>31.8</td><td>206.2</td><td>165803560</td><td>ASIA (EX. NEAR EAST)</td><td>0.533</td></tr><tr><td>0.05</td><td>45.91</td><td>312685</td><td>9.85</td><td>3.0</td><td>0.16</td><td>PL</td><td>1.12</td><td>9.89</td><td>11100</td><td>0.311</td><td>8.51</td><td>99.8</td><td>Poland</td><td>-0.49</td><td>52.97</td><td>306.3</td><td>123.3</td><td>38536869</td><td>EASTERN EUROPE</td><td>0.64</td></tr><tr><td>null</td><td>13.04</td><td>242</td><td>13.52</td><td>null</td><td>49.59</td><td>PM</td><td>0.0</td><td>6.83</td><td>6900</td><td>null</td><td>7.54</td><td>99.0</td><td>St Pierre & Miquelon</td><td>-4.86</td><td>86.96</td><td>683.2</td><td>29.0</td><td>7026</td><td>NORTHERN AMERICA</td><td>null</td></tr><tr><td>0.01</td><td>3.95</td><td>13790</td><td>12.77</td><td>2.0</td><td>3.63</td><td>PR</td><td>5.52</td><td>7.65</td><td>16800</td><td>0.45</td><td>8.24</td><td>94.1</td><td>Puerto Rico</td><td>-1.46</td><td>90.53</td><td>283.1</td><td>284.8</td><td>3927188</td><td>LATIN AMER. & CARIB</td><td>0.54</td></tr><tr><td>0.053</td><td>21.75</td><td>92391</td><td>10.72</td><td>3.0</td><td>1.94</td><td>PT</td><td>7.81</td><td>10.5</td><td>18000</td><td>0.274</td><td>5.05</td><td>93.3</td><td>Portugal</td><td>3.57</td><td>70.44</td><td>399.2</td><td>114.8</td><td>10605870</td><td>WESTERN EUROPE</td><td>0.673</td></tr><tr><td>0.062</td><td>8.7</td><td>458</td><td>18.03</td><td>2.0</td><td>331.66</td><td>PW</td><td>4.35</td><td>6.8</td><td>9000</td><td>0.12</td><td>14.84</td><td>92.0</td><td>Palau</td><td>2.85</td><td>86.95</td><td>325.6</td><td>44.9</td><td>20579</td><td>OCEANIA</td><td>0.818</td></tr><tr><td>0.224</td><td>7.6</td><td>406750</td><td>29.1</td><td>2.0</td><td>0.0</td><td>PY</td><td>0.23</td><td>4.49</td><td>4700</td><td>0.207</td><td>25.63</td><td>94.0</td><td>Paraguay</td><td>-0.08</td><td>92.17</td><td>49.2</td><td>16.0</td><td>6506464</td><td>LATIN AMER. & CARIB</td><td>0.569</td></tr><tr><td>0.002</td><td>1.64</td><td>11437</td><td>15.56</td><td>1.0</td><td>4.92</td><td>QA</td><td>0.27</td><td>4.72</td><td>21500</td><td>0.801</td><td>18.61</td><td>82.5</td><td>Qatar</td><td>16.29</td><td>98.09</td><td>232.0</td><td>77.4</td><td>885359</td><td>NEAR EAST</td><td>0.197</td></tr><tr><td>0.08</td><td>13.6</td><td>2517</td><td>18.9</td><td>2.0</td><td>8.22</td><td>RE</td><td>1.2</td><td>5.49</td><td>5800</td><td>0.19</td><td>7.78</td><td>88.9</td><td>Reunion</td><td>0.0</td><td>85.2</td><td>380.9</td><td>312.9</td><td>787584</td><td>SUB-SAHARAN AFRICA</td><td>0.73</td></tr><tr><td>0.101</td><td>40.82</td><td>237500</td><td>10.7</td><td>3.0</td><td>0.09</td><td>RO</td><td>2.25</td><td>11.77</td><td>7000</td><td>0.35</td><td>26.43</td><td>98.4</td><td>Romania</td><td>-0.13</td><td>56.93</td><td>196.9</td><td>93.9</td><td>22303552</td><td>EASTERN EUROPE</td><td>0.549</td></tr><tr><td>0.166</td><td>33.35</td><td>88361</td><td>null</td><td>null</td><td>0.0</td><td>RS</td><td>3.2</td><td>null</td><td>2200</td><td>0.255</td><td>12.89</td><td>93.0</td><td>Serbia</td><td>-1.33</td><td>63.45</td><td>285.8</td><td>106.3</td><td>9396411</td><td>EASTERN EUROPE</td><td>0.579</td></tr><tr><td>0.054</td><td>7.33</td><td>17075200</td><td>9.95</td><td>null</td><td>0.22</td><td>RU</td><td>0.11</td><td>14.65</td><td>8900</td><td>0.371</td><td>15.39</td><td>99.6</td><td>Russia</td><td>1.02</td><td>92.56</td><td>280.6</td><td>8.4</td><td>142893540</td><td>C.W. OF IND. STATES</td><td>0.575</td></tr><tr><td>0.401</td><td>40.54</td><td>26338</td><td>40.37</td><td>3.0</td><td>0.0</td><td>RW</td><td>12.16</td><td>16.09</td><td>1300</td><td>0.229</td><td>91.23</td><td>70.4</td><td>Rwanda</td><td>0.0</td><td>47.3</td><td>2.7</td><td>328.4</td><td>8648248</td><td>SUB-SAHARAN AFRICA</td><td>0.37</td></tr><tr><td>0.033</td><td>1.67</td><td>1960582</td><td>29.34</td><td>1.0</td><td>0.13</td><td>SA</td><td>0.09</td><td>2.58</td><td>11800</td><td>0.613</td><td>13.24</td><td>78.8</td><td>Saudi Arabia</td><td>-2.71</td><td>98.24</td><td>140.6</td><td>13.8</td><td>27019731</td><td>NEAR EAST</td><td>0.354</td></tr><tr><td>0.42</td><td>0.64</td><td>28450</td><td>30.01</td><td>2.0</td><td>18.67</td><td>SB</td><td>2.0</td><td>3.92</td><td>1700</td><td>0.11</td><td>21.29</td><td>null</td><td>Solomon Islands</td><td>0.0</td><td>97.36</td><td>13.4</td><td>19.4</td><td>552438</td><td>OCEANIA</td><td>0.47</td></tr><tr><td>0.032</td><td>2.22</td><td>455</td><td>16.03</td><td>2.0</td><td>107.91</td><td>SC</td><td>13.33</td><td>6.29</td><td>7800</td><td>0.304</td><td>15.53</td><td>58.0</td><td>Seychelles</td><td>-5.69</td><td>84.45</td><td>262.4</td><td>179.2</td><td>81541</td><td>SUB-SAHARAN AFRICA</td><td>0.665</td></tr><tr><td>0.387</td><td>6.83</td><td>2505810</td><td>34.53</td><td>2.0</td><td>0.03</td><td>SD</td><td>0.18</td><td>8.97</td><td>1900</td><td>0.203</td><td>62.5</td><td>61.1</td><td>Sudan</td><td>-0.02</td><td>92.99</td><td>16.3</td><td>16.5</td><td>41236378</td><td>SUB-SAHARAN AFRICA</td><td>0.41</td></tr><tr><td>0.011</td><td>6.54</td><td>449964</td><td>10.27</td><td>3.0</td><td>0.72</td><td>SE</td><td>0.01</td><td>10.31</td><td>26800</td><td>0.282</td><td>2.77</td><td>99.0</td><td>Sweden</td><td>1.67</td><td>93.45</td><td>715.0</td><td>20.0</td><td>9016596</td><td>WESTERN EUROPE</td><td>0.707</td></tr><tr><td>0.0</td><td>1.64</td><td>693</td><td>9.34</td><td>2.0</td><td>27.85</td><td>SG</td><td>0.0</td><td>4.28</td><td>23700</td><td>0.339</td><td>2.29</td><td>92.5</td><td>Singapore</td><td>11.53</td><td>98.36</td><td>411.4</td><td>6482.2</td><td>4492150</td><td>ASIA (EX. NEAR EAST)</td><td>0.661</td></tr><tr><td>null</td><td>12.9</td><td>413</td><td>12.13</td><td>null</td><td>14.53</td><td>SH</td><td>0.0</td><td>6.53</td><td>2500</td><td>null</td><td>19.0</td><td>97.0</td><td>Saint Helena</td><td>0.0</td><td>87.1</td><td>293.3</td><td>18.2</td><td>7502</td><td>SUB-SAHARAN AFRICA</td><td>null</td></tr><tr><td>0.028</td><td>8.6</td><td>20273</td><td>8.98</td><td>null</td><td>0.23</td><td>SI</td><td>1.49</td><td>10.31</td><td>19000</td><td>0.369</td><td>4.45</td><td>99.7</td><td>Slovenia</td><td>1.12</td><td>89.91</td><td>406.1</td><td>99.2</td><td>2010347</td><td>EASTERN EUROPE</td><td>0.603</td></tr><tr><td>0.035</td><td>30.16</td><td>48845</td><td>10.65</td><td>3.0</td><td>0.0</td><td>SK</td><td>2.62</td><td>9.45</td><td>13300</td><td>0.294</td><td>7.41</td><td>null</td><td>Slovakia</td><td>0.3</td><td>67.22</td><td>220.1</td><td>111.4</td><td>5439448</td><td>EASTERN EUROPE</td><td>0.672</td></tr><tr><td>0.49</td><td>6.98</td><td>71740</td><td>45.76</td><td>2.0</td><td>0.56</td><td>SL</td><td>0.89</td><td>23.03</td><td>500</td><td>0.31</td><td>143.64</td><td>31.4</td><td>Sierra Leone</td><td>0.0</td><td>92.13</td><td>4.0</td><td>83.7</td><td>6005250</td><td>SUB-SAHARAN AFRICA</td><td>0.21</td></tr><tr><td>null</td><td>16.67</td><td>61</td><td>10.02</td><td>null</td><td>0.0</td><td>SM</td><td>0.0</td><td>8.17</td><td>34600</td><td>null</td><td>5.73</td><td>96.0</td><td>San Marino</td><td>10.98</td><td>83.33</td><td>704.3</td><td>479.5</td><td>29251</td><td>WESTERN EUROPE</td><td>null</td></tr><tr><td>0.172</td><td>12.78</td><td>196190</td><td>32.78</td><td>2.0</td><td>0.27</td><td>SN</td><td>0.21</td><td>9.42</td><td>1600</td><td>0.209</td><td>55.51</td><td>40.2</td><td>Senegal</td><td>0.2</td><td>87.01</td><td>22.2</td><td>61.1</td><td>11987121</td><td>SUB-SAHARAN AFRICA</td><td>0.619</td></tr><tr><td>0.65</td><td>1.67</td><td>637657</td><td>45.13</td><td>1.0</td><td>0.47</td><td>SO</td><td>0.04</td><td>16.63</td><td>500</td><td>0.1</td><td>116.7</td><td>37.8</td><td>Somalia</td><td>5.37</td><td>98.29</td><td>11.3</td><td>13.9</td><td>8863338</td><td>SUB-SAHARAN AFRICA</td><td>0.25</td></tr><tr><td>0.13</td><td>0.37</td><td>163270</td><td>18.02</td><td>2.0</td><td>0.24</td><td>SR</td><td>0.06</td><td>7.27</td><td>4000</td><td>0.22</td><td>23.57</td><td>93.0</td><td>Suriname</td><td>-8.81</td><td>99.57</td><td>184.7</td><td>2.7</td><td>439117</td><td>LATIN AMER. & CARIB</td><td>0.65</td></tr><tr><td>0.167</td><td>6.25</td><td>1001</td><td>40.25</td><td>2.0</td><td>20.88</td><td>ST</td><td>48.96</td><td>6.47</td><td>1200</td><td>0.148</td><td>43.11</td><td>79.3</td><td>Sao Tome & Principe</td><td>-2.72</td><td>44.79</td><td>36.2</td><td>193.2</td><td>193413</td><td>SUB-SAHARAN AFRICA</td><td>0.684</td></tr><tr><td>0.099</td><td>31.85</td><td>21040</td><td>26.61</td><td>2.0</td><td>1.46</td><td>SV</td><td>12.07</td><td>5.78</td><td>4800</td><td>0.302</td><td>25.1</td><td>80.2</td><td>El Salvador</td><td>-3.74</td><td>56.08</td><td>142.4</td><td>324.3</td><td>6822378</td><td>LATIN AMER. & CARIB</td><td>0.599</td></tr><tr><td>0.249</td><td>25.22</td><td>185180</td><td>27.76</td><td>1.0</td><td>0.1</td><td>SY</td><td>4.43</td><td>4.81</td><td>3300</td><td>0.23</td><td>29.53</td><td>76.9</td><td>Syria</td><td>0.0</td><td>70.35</td><td>153.8</td><td>102.0</td><td>18881361</td><td>NEAR EAST</td><td>0.519</td></tr><tr><td>0.119</td><td>10.35</td><td>17363</td><td>27.41</td><td>2.5</td><td>0.0</td><td>SZ</td><td>0.7</td><td>29.74</td><td>4900</td><td>0.515</td><td>69.27</td><td>81.6</td><td>Swaziland</td><td>0.0</td><td>88.95</td><td>30.8</td><td>65.5</td><td>1136334</td><td>SUB-SAHARAN AFRICA</td><td>0.366</td></tr><tr><td>null</td><td>2.33</td><td>430</td><td>21.84</td><td>2.0</td><td>90.47</td><td>TC</td><td>0.0</td><td>4.21</td><td>9600</td><td>null</td><td>15.67</td><td>98.0</td><td>Turks & Caicos Is</td><td>11.68</td><td>97.67</td><td>269.5</td><td>49.2</td><td>21152</td><td>LATIN AMER. & CARIB</td><td>null</td></tr><tr><td>0.335</td><td>2.86</td><td>1284000</td><td>45.73</td><td>2.0</td><td>0.0</td><td>TD</td><td>0.02</td><td>16.38</td><td>1200</td><td>0.259</td><td>93.82</td><td>47.5</td><td>Chad</td><td>-0.11</td><td>97.12</td><td>1.3</td><td>7.7</td><td>9944201</td><td>SUB-SAHARAN AFRICA</td><td>0.406</td></tr><tr><td>0.395</td><td>46.15</td><td>56785</td><td>37.01</td><td>2.0</td><td>0.1</td><td>TG</td><td>2.21</td><td>9.83</td><td>1500</td><td>0.204</td><td>66.61</td><td>60.9</td><td>Togo</td><td>0.0</td><td>51.64</td><td>10.6</td><td>97.7</td><td>5548702</td><td>SUB-SAHARAN AFRICA</td><td>0.401</td></tr><tr><td>0.099</td><td>29.36</td><td>514000</td><td>13.87</td><td>2.0</td><td>0.63</td><td>TH</td><td>6.46</td><td>7.04</td><td>7400</td><td>0.441</td><td>20.48</td><td>92.6</td><td>Thailand</td><td>0.0</td><td>64.18</td><td>108.9</td><td>125.7</td><td>64631595</td><td>ASIA (EX. NEAR EAST)</td><td>0.46</td></tr><tr><td>0.234</td><td>6.61</td><td>143100</td><td>32.65</td><td>2.0</td><td>0.0</td><td>TJ</td><td>0.92</td><td>8.25</td><td>1000</td><td>0.286</td><td>110.76</td><td>99.4</td><td>Tajikistan</td><td>-2.86</td><td>92.47</td><td>33.5</td><td>51.2</td><td>7320815</td><td>C.W. OF IND. STATES</td><td>0.48</td></tr><tr><td>0.209</td><td>3.72</td><td>488100</td><td>27.61</td><td>1.0</td><td>0.0</td><td>TM</td><td>0.14</td><td>8.6</td><td>5800</td><td>0.38</td><td>73.08</td><td>98.0</td><td>Turkmenistan</td><td>-0.86</td><td>96.14</td><td>74.6</td><td>10.3</td><td>5042920</td><td>C.W. OF IND. STATES</td><td>0.411</td></tr><tr><td>0.132</td><td>17.86</td><td>163610</td><td>15.52</td><td>3.0</td><td>0.7</td><td>TN</td><td>13.74</td><td>5.13</td><td>6900</td><td>0.318</td><td>24.77</td><td>74.2</td><td>Tunisia</td><td>-0.57</td><td>68.4</td><td>123.6</td><td>62.2</td><td>10175014</td><td>NORTHERN AFRICA</td><td>0.55</td></tr><tr><td>0.23</td><td>23.61</td><td>748</td><td>25.37</td><td>2.0</td><td>56.02</td><td>TO</td><td>43.06</td><td>5.28</td><td>2200</td><td>0.27</td><td>12.62</td><td>98.5</td><td>Tonga</td><td>0.0</td><td>33.33</td><td>97.7</td><td>153.3</td><td>114689</td><td>OCEANIA</td><td>0.5</td></tr><tr><td>0.117</td><td>30.93</td><td>780580</td><td>16.62</td><td>3.0</td><td>0.92</td><td>TR</td><td>3.31</td><td>5.97</td><td>6700</td><td>0.298</td><td>41.04</td><td>86.5</td><td>Turkey</td><td>0.0</td><td>65.76</td><td>269.5</td><td>90.2</td><td>70413958</td><td>NEAR EAST</td><td>0.585</td></tr><tr><td>0.007</td><td>14.62</td><td>5128</td><td>12.9</td><td>2.0</td><td>7.06</td><td>TT</td><td>9.16</td><td>10.57</td><td>9500</td><td>0.57</td><td>24.31</td><td>98.6</td><td>Trinidad & Tobago</td><td>-10.83</td><td>76.22</td><td>303.5</td><td>207.9</td><td>1065842</td><td>LATIN AMER. & CARIB</td><td>0.423</td></tr><tr><td>0.166</td><td>0.0</td><td>26</td><td>22.18</td><td>2.0</td><td>92.31</td><td>TV</td><td>0.0</td><td>7.11</td><td>1100</td><td>0.272</td><td>20.03</td><td>null</td><td>Tuvalu</td><td>0.0</td><td>100.0</td><td>59.3</td><td>454.2</td><td>11810</td><td>OCEANIA</td><td>0.562</td></tr><tr><td>0.018</td><td>24.0</td><td>35980</td><td>12.56</td><td>2.0</td><td>4.35</td><td>TW</td><td>1.0</td><td>6.48</td><td>23400</td><td>0.259</td><td>6.4</td><td>96.1</td><td>Taiwan</td><td>0.0</td><td>75.0</td><td>591.0</td><td>640.3</td><td>23036087</td><td>ASIA (EX. NEAR EAST)</td><td>0.723</td></tr><tr><td>0.432</td><td>4.52</td><td>945087</td><td>37.71</td><td>null</td><td>0.15</td><td>TZ</td><td>1.08</td><td>16.39</td><td>600</td><td>0.172</td><td>98.54</td><td>78.2</td><td>Tanzania</td><td>-2.06</td><td>94.4</td><td>4.0</td><td>39.6</td><td>37445392</td><td>SUB-SAHARAN AFRICA</td><td>0.396</td></tr><tr><td>0.187</td><td>56.21</td><td>603700</td><td>8.82</td><td>3.0</td><td>0.46</td><td>UA</td><td>1.61</td><td>14.39</td><td>5400</td><td>0.452</td><td>20.34</td><td>99.7</td><td>Ukraine</td><td>-0.39</td><td>42.18</td><td>259.9</td><td>77.4</td><td>46710816</td><td>C.W. OF IND. STATES</td><td>0.361</td></tr><tr><td>0.311</td><td>25.88</td><td>236040</td><td>47.35</td><td>2.0</td><td>0.0</td><td>UG</td><td>10.65</td><td>12.24</td><td>1400</td><td>0.222</td><td>67.83</td><td>69.9</td><td>Uganda</td><td>0.0</td><td>63.47</td><td>3.6</td><td>119.5</td><td>28195754</td><td>SUB-SAHARAN AFRICA</td><td>0.469</td></tr><tr><td>0.01</td><td>19.13</td><td>9631420</td><td>14.14</td><td>3.0</td><td>0.21</td><td>US</td><td>0.22</td><td>8.26</td><td>37800</td><td>0.204</td><td>6.5</td><td>97.0</td><td>United States</td><td>3.41</td><td>80.65</td><td>898.0</td><td>31.0</td><td>298444215</td><td>NORTHERN AMERICA</td><td>0.787</td></tr><tr><td>0.093</td><td>7.43</td><td>176220</td><td>13.91</td><td>3.0</td><td>0.37</td><td>UY</td><td>0.23</td><td>9.05</td><td>12800</td><td>0.311</td><td>11.95</td><td>98.0</td><td>Uruguay</td><td>-0.32</td><td>92.34</td><td>291.4</td><td>19.5</td><td>3431932</td><td>LATIN AMER. & CARIB</td><td>0.596</td></tr><tr><td>0.342</td><td>10.83</td><td>447400</td><td>26.36</td><td>1.0</td><td>0.0</td><td>UZ</td><td>0.83</td><td>7.84</td><td>1700</td><td>0.229</td><td>71.1</td><td>99.3</td><td>Uzbekistan</td><td>-1.72</td><td>88.34</td><td>62.9</td><td>61.0</td><td>27307134</td><td>C.W. OF IND. STATES</td><td>0.43</td></tr><tr><td>0.1</td><td>17.95</td><td>389</td><td>16.18</td><td>2.0</td><td>21.59</td><td>VC</td><td>17.95</td><td>5.98</td><td>2900</td><td>0.26</td><td>14.78</td><td>96.0</td><td>Saint Vincent and the Grenadines</td><td>-7.64</td><td>64.1</td><td>190.9</td><td>303.0</td><td>117848</td><td>LATIN AMER. & CARIB</td><td>0.64</td></tr><tr><td>0.04</td><td>2.95</td><td>912050</td><td>18.71</td><td>2.0</td><td>0.31</td><td>VE</td><td>0.92</td><td>4.92</td><td>4800</td><td>0.419</td><td>22.2</td><td>93.4</td><td>Venezuela</td><td>-0.04</td><td>96.13</td><td>140.1</td><td>28.2</td><td>25730435</td><td>LATIN AMER. & CARIB</td><td>0.541</td></tr><tr><td>0.018</td><td>20.0</td><td>153</td><td>14.89</td><td>2.0</td><td>52.29</td><td>VG</td><td>6.67</td><td>4.42</td><td>16000</td><td>0.062</td><td>18.05</td><td>97.8</td><td>British Virgin Is.</td><td>10.01</td><td>73.33</td><td>506.5</td><td>151.0</td><td>23098</td><td>LATIN AMER. & CARIB</td><td>0.92</td></tr><tr><td>0.01</td><td>11.76</td><td>1910</td><td>13.96</td><td>2.0</td><td>9.84</td><td>VI</td><td>2.94</td><td>6.43</td><td>17200</td><td>0.19</td><td>8.03</td><td>null</td><td>Virgin Islands</td><td>-8.94</td><td>85.3</td><td>652.8</td><td>56.9</td><td>108605</td><td>LATIN AMER. & CARIB</td><td>0.8</td></tr><tr><td>0.209</td><td>19.97</td><td>329560</td><td>16.86</td><td>2.0</td><td>1.05</td><td>VN</td><td>5.95</td><td>6.22</td><td>2500</td><td>0.41</td><td>25.95</td><td>90.3</td><td>Vietnam</td><td>-0.45</td><td>74.08</td><td>187.7</td><td>256.1</td><td>84402966</td><td>ASIA (EX. NEAR EAST)</td><td>0.381</td></tr><tr><td>0.26</td><td>2.46</td><td>12200</td><td>22.72</td><td>2.0</td><td>20.72</td><td>VU</td><td>7.38</td><td>7.82</td><td>2900</td><td>0.12</td><td>55.16</td><td>53.0</td><td>Vanuatu</td><td>0.0</td><td>90.16</td><td>32.6</td><td>17.1</td><td>208869</td><td>OCEANIA</td><td>0.62</td></tr><tr><td>null</td><td>5.0</td><td>274</td><td>null</td><td>2.0</td><td>47.08</td><td>WF</td><td>25.0</td><td>null</td><td>3700</td><td>null</td><td>null</td><td>50.0</td><td>Wallis and Futuna</td><td>null</td><td>70.0</td><td>118.6</td><td>58.5</td><td>16025</td><td>OCEANIA</td><td>null</td></tr><tr><td>0.114</td><td>21.2</td><td>2944</td><td>16.43</td><td>2.0</td><td>13.69</td><td>WS</td><td>24.38</td><td>6.62</td><td>5600</td><td>0.584</td><td>27.71</td><td>99.7</td><td>Samoa</td><td>-11.7</td><td>54.42</td><td>75.2</td><td>60.1</td><td>176908</td><td>OCEANIA</td><td>0.302</td></tr><tr><td>0.135</td><td>2.78</td><td>527970</td><td>42.89</td><td>1.0</td><td>0.36</td><td>YE</td><td>0.24</td><td>8.3</td><td>800</td><td>0.472</td><td>61.5</td><td>50.2</td><td>Yemen</td><td>0.0</td><td>96.98</td><td>37.2</td><td>40.6</td><td>21456188</td><td>NEAR EAST</td><td>0.393</td></tr><tr><td>null</td><td>null</td><td>374</td><td>40.95</td><td>2.0</td><td>49.52</td><td>YT</td><td>null</td><td>7.7</td><td>2600</td><td>null</td><td>62.4</td><td>null</td><td>Mayotte</td><td>6.78</td><td>null</td><td>49.7</td><td>538.1</td><td>201234</td><td>SUB-SAHARAN AFRICA</td><td>null</td></tr><tr><td>0.025</td><td>12.08</td><td>1219912</td><td>18.2</td><td>1.0</td><td>0.23</td><td>ZA</td><td>0.79</td><td>22.0</td><td>10700</td><td>0.303</td><td>61.81</td><td>86.4</td><td>South Africa</td><td>-0.29</td><td>87.13</td><td>107.0</td><td>36.2</td><td>44187637</td><td>SUB-SAHARAN AFRICA</td><td>0.671</td></tr><tr><td>0.22</td><td>7.08</td><td>752614</td><td>41.0</td><td>2.0</td><td>0.0</td><td>ZM</td><td>0.03</td><td>19.93</td><td>800</td><td>0.29</td><td>88.29</td><td>80.6</td><td>Zambia</td><td>0.0</td><td>92.9</td><td>8.2</td><td>15.3</td><td>11502010</td><td>SUB-SAHARAN AFRICA</td><td>0.489</td></tr><tr><td>0.179</td><td>8.32</td><td>390580</td><td>28.01</td><td>2.0</td><td>0.0</td><td>ZW</td><td>0.34</td><td>21.84</td><td>1900</td><td>0.243</td><td>67.69</td><td>90.7</td><td>Zimbabwe</td><td>0.0</td><td>91.34</td><td>26.8</td><td>31.3</td><td>12236805</td><td>SUB-SAHARAN AFRICA</td><td>0.579</td></tr></tbody></table></div>"
      ]
     },
     "metadata": {
      "application/vnd.databricks.v1+output": {
       "addedWidgets": {},
       "aggData": [],
       "aggError": "",
       "aggOverflow": false,
       "aggSchema": [],
       "aggSeriesLimitReached": false,
       "aggType": "",
       "arguments": {},
       "columnCustomDisplayInfos": {},
       "data": [
        [
         null,
         2.22,
         468,
         8.71,
         3.0,
         0.0,
         "AD",
         0.0,
         6.25,
         19000,
         null,
         4.05,
         100.0,
         "Andorra",
         6.6,
         97.78,
         497.2,
         152.1,
         71201,
         "WESTERN EUROPE",
         null
        ],
        [
         0.04,
         0.6,
         82880,
         18.96,
         1.0,
         1.59,
         "AE",
         2.25,
         4.4,
         23200,
         0.585,
         14.51,
         77.9,
         "United Arab Emirates",
         1.03,
         97.15,
         475.3,
         31.4,
         2602713,
         "NEAR EAST",
         0.375
        ],
        [
         0.38,
         12.13,
         647500,
         46.6,
         1.0,
         0.0,
         "AF",
         0.22,
         20.34,
         700,
         0.24,
         163.07,
         36.0,
         "Afghanistan",
         23.06,
         87.65,
         3.2,
         48.0,
         31056997,
         "ASIA (EX. NEAR EAST)",
         0.38
        ],
        [
         0.038,
         18.18,
         443,
         16.93,
         2.0,
         34.54,
         "AG",
         4.55,
         5.37,
         11000,
         0.22,
         19.46,
         89.0,
         "Antigua & Barbuda",
         -6.15,
         77.27,
         549.9,
         156.0,
         69108,
         "LATIN AMER. & CARIB",
         0.743
        ],
        [
         0.04,
         0.0,
         102,
         14.17,
         2.0,
         59.8,
         "AI",
         0.0,
         5.34,
         8600,
         0.18,
         21.03,
         95.0,
         "Anguilla",
         10.76,
         100.0,
         460.0,
         132.1,
         13477,
         "LATIN AMER. & CARIB",
         0.78
        ],
        [
         0.232,
         21.09,
         28748,
         15.11,
         3.0,
         1.26,
         "AL",
         4.42,
         5.22,
         4500,
         0.188,
         21.52,
         86.5,
         "Albania",
         -4.93,
         74.49,
         71.2,
         124.6,
         3581655,
         "EASTERN EUROPE",
         0.579
        ],
        [
         0.239,
         17.55,
         29800,
         12.07,
         4.0,
         0.0,
         "AM",
         2.3,
         8.23,
         3500,
         0.343,
         23.28,
         98.6,
         "Armenia",
         -6.47,
         80.15,
         195.7,
         99.9,
         2976372,
         "C.W. OF IND. STATES",
         0.418
        ],
        [
         0.01,
         10.0,
         960,
         14.78,
         2.0,
         37.92,
         "AN",
         0.0,
         6.45,
         11400,
         0.15,
         10.03,
         96.7,
         "Netherlands Antilles",
         -0.41,
         90.0,
         365.3,
         231.0,
         221736,
         "LATIN AMER. & CARIB",
         0.84
        ],
        [
         0.096,
         2.41,
         1246700,
         45.11,
         null,
         0.13,
         "AO",
         0.24,
         24.2,
         1900,
         0.658,
         191.19,
         42.0,
         "Angola",
         0.0,
         97.35,
         7.8,
         9.7,
         12127071,
         "SUB-SAHARAN AFRICA",
         0.246
        ],
        [
         0.095,
         12.31,
         2766890,
         16.73,
         3.0,
         0.18,
         "AR",
         0.48,
         7.55,
         11200,
         0.358,
         15.18,
         97.1,
         "Argentina",
         0.61,
         87.21,
         220.4,
         14.4,
         39921833,
         "LATIN AMER. & CARIB",
         0.547
        ],
        [
         null,
         10.0,
         199,
         22.46,
         2.0,
         58.29,
         "AS",
         15.0,
         3.27,
         8000,
         null,
         9.27,
         97.0,
         "American Samoa",
         -20.71,
         75.0,
         259.5,
         290.4,
         57794,
         "OCEANIA",
         null
        ],
        [
         0.018,
         16.91,
         83870,
         8.74,
         3.0,
         0.0,
         "AT",
         0.86,
         9.76,
         30000,
         0.304,
         4.66,
         98.0,
         "Austria",
         2.0,
         82.23,
         452.2,
         97.7,
         8192880,
         "WESTERN EUROPE",
         0.678
        ],
        [
         0.038,
         6.55,
         7686850,
         12.14,
         1.0,
         0.34,
         "AU",
         0.04,
         7.51,
         29000,
         0.262,
         4.69,
         100.0,
         "Australia",
         3.98,
         93.41,
         565.5,
         2.6,
         20264082,
         "OCEANIA",
         0.7
        ],
        [
         0.004,
         10.53,
         193,
         11.03,
         2.0,
         35.49,
         "AW",
         0.0,
         6.68,
         28000,
         0.333,
         5.89,
         97.0,
         "Aruba",
         0.0,
         89.47,
         516.1,
         372.5,
         71891,
         "LATIN AMER. & CARIB",
         0.663
        ],
        [
         0.141,
         19.63,
         86600,
         20.74,
         1.0,
         0.0,
         "AZ",
         2.71,
         9.75,
         3400,
         0.457,
         81.74,
         97.0,
         "Azerbaijan",
         -4.9,
         77.66,
         137.1,
         91.9,
         7961619,
         "C.W. OF IND. STATES",
         0.402
        ],
        [
         0.142,
         13.6,
         51129,
         8.77,
         4.0,
         0.04,
         "BA",
         2.96,
         8.27,
         6100,
         0.308,
         21.05,
         null,
         "Bosnia & Herzegovina",
         0.31,
         83.44,
         215.4,
         88.0,
         4498976,
         "EASTERN EUROPE",
         0.55
        ],
        [
         0.06,
         37.21,
         431,
         12.71,
         2.0,
         22.51,
         "BB",
         2.33,
         8.67,
         15700,
         0.16,
         12.5,
         97.4,
         "Barbados",
         -0.31,
         60.46,
         481.9,
         649.5,
         279912,
         "LATIN AMER. & CARIB",
         0.78
        ],
        [
         0.199,
         62.11,
         144000,
         29.8,
         2.0,
         0.4,
         "BD",
         3.07,
         8.27,
         1900,
         0.198,
         62.6,
         43.1,
         "Bangladesh",
         -0.71,
         34.82,
         7.3,
         1023.4,
         147365352,
         "ASIA (EX. NEAR EAST)",
         0.603
        ],
        [
         0.01,
         23.28,
         30528,
         10.38,
         3.0,
         0.22,
         "BE",
         0.4,
         10.27,
         29100,
         0.24,
         4.68,
         98.0,
         "Belgium",
         1.23,
         76.32,
         462.6,
         340.0,
         10379067,
         "WESTERN EUROPE",
         0.749
        ],
        [
         0.322,
         14.43,
         274200,
         45.62,
         2.0,
         0.0,
         "BF",
         0.19,
         15.6,
         1100,
         0.196,
         97.57,
         26.6,
         "Burkina Faso",
         0.0,
         85.38,
         7.0,
         50.7,
         13902972,
         "SUB-SAHARAN AFRICA",
         0.482
        ],
        [
         0.093,
         40.02,
         110910,
         9.65,
         3.0,
         0.32,
         "BG",
         1.92,
         14.27,
         7600,
         0.304,
         20.55,
         98.6,
         "Bulgaria",
         -4.58,
         58.06,
         336.3,
         66.6,
         7385367,
         "EASTERN EUROPE",
         0.603
        ],
        [
         0.005,
         2.82,
         665,
         17.8,
         1.0,
         24.21,
         "BH",
         5.63,
         4.14,
         16900,
         0.387,
         17.27,
         89.1,
         "Bahrain",
         1.05,
         91.55,
         281.3,
         1050.5,
         698585,
         "NEAR EAST",
         0.608
        ],
        [
         0.463,
         35.05,
         27830,
         42.22,
         2.0,
         0.0,
         "BI",
         14.02,
         13.46,
         600,
         0.203,
         69.29,
         51.6,
         "Burundi",
         -0.06,
         50.93,
         3.4,
         290.7,
         8090068,
         "SUB-SAHARAN AFRICA",
         0.334
        ],
        [
         0.316,
         18.08,
         112620,
         38.85,
         2.0,
         0.11,
         "BJ",
         2.4,
         12.22,
         1100,
         0.138,
         85.0,
         40.9,
         "Benin",
         0.0,
         79.52,
         9.7,
         69.8,
         7862944,
         "SUB-SAHARAN AFRICA",
         0.546
        ],
        [
         0.01,
         20.0,
         53,
         11.4,
         2.0,
         194.34,
         "BM",
         0.0,
         7.74,
         36000,
         0.1,
         8.53,
         98.0,
         "Bermuda",
         2.49,
         80.0,
         851.4,
         1241.0,
         65773,
         "NORTHERN AMERICA",
         0.89
        ],
        [
         0.036,
         0.57,
         5770,
         18.79,
         2.0,
         2.79,
         "BN",
         0.76,
         3.45,
         18600,
         0.561,
         12.61,
         93.9,
         "Brunei",
         3.59,
         98.67,
         237.2,
         65.8,
         379444,
         "ASIA (EX. NEAR EAST)",
         0.403
        ],
        [
         0.128,
         2.67,
         1098580,
         23.3,
         1.5,
         0.0,
         "BO",
         0.19,
         7.53,
         2400,
         0.352,
         53.11,
         87.2,
         "Bolivia",
         -1.32,
         97.14,
         71.9,
         8.2,
         8989046,
         "LATIN AMER. & CARIB",
         0.52
        ],
        [
         0.084,
         6.96,
         8511965,
         16.56,
         2.0,
         0.09,
         "BR",
         0.9,
         6.17,
         7600,
         0.4,
         29.61,
         86.4,
         "Brazil",
         -0.03,
         92.15,
         225.3,
         22.1,
         188078227,
         "LATIN AMER. & CARIB",
         0.516
        ],
        [
         0.03,
         0.8,
         13940,
         17.57,
         2.0,
         25.41,
         "BS",
         0.4,
         9.05,
         16700,
         0.07,
         25.21,
         95.6,
         "Bahamas, The",
         -2.2,
         98.8,
         460.6,
         21.8,
         303770,
         "LATIN AMER. & CARIB",
         0.9
        ],
        [
         0.258,
         3.09,
         47000,
         33.65,
         2.0,
         0.0,
         "BT",
         0.43,
         12.7,
         1300,
         0.379,
         100.44,
         42.2,
         "Bhutan",
         0.0,
         96.48,
         14.3,
         48.5,
         2279723,
         "ASIA (EX. NEAR EAST)",
         0.363
        ],
        [
         0.024,
         0.65,
         600370,
         23.08,
         1.0,
         0.0,
         "BW",
         0.01,
         29.5,
         9000,
         0.469,
         54.58,
         79.8,
         "Botswana",
         0.0,
         99.34,
         80.5,
         2.7,
         1639833,
         "SUB-SAHARAN AFRICA",
         0.507
        ],
        [
         0.093,
         29.55,
         207600,
         11.16,
         4.0,
         0.0,
         "BY",
         0.6,
         14.02,
         6100,
         0.316,
         13.37,
         99.6,
         "Belarus",
         2.54,
         69.85,
         319.1,
         49.6,
         10293011,
         "C.W. OF IND. STATES",
         0.591
        ],
        [
         0.142,
         2.85,
         22966,
         28.84,
         2.0,
         1.68,
         "BZ",
         1.71,
         5.72,
         4900,
         0.152,
         25.69,
         94.1,
         "Belize",
         0.0,
         95.44,
         115.7,
         12.5,
         287730,
         "LATIN AMER. & CARIB",
         0.612
        ],
        [
         0.022,
         4.96,
         9984670,
         10.78,
         null,
         2.02,
         "CA",
         0.02,
         7.8,
         29800,
         0.294,
         4.75,
         97.0,
         "Canada",
         5.96,
         95.02,
         552.2,
         3.3,
         33098932,
         "NORTHERN AMERICA",
         0.684
        ],
        [
         0.55,
         2.96,
         2345410,
         43.69,
         2.0,
         0.0,
         "CD",
         0.52,
         13.27,
         700,
         0.11,
         94.69,
         65.5,
         "Congo, Dem. Rep.",
         0.0,
         96.52,
         0.2,
         26.7,
         62660551,
         "SUB-SAHARAN AFRICA",
         0.34
        ],
        [
         0.55,
         3.1,
         622984,
         33.91,
         2.0,
         0.0,
         "CF",
         0.14,
         18.65,
         1100,
         0.2,
         91.0,
         51.0,
         "Central African Rep.",
         0.0,
         96.76,
         2.3,
         6.9,
         4303356,
         "SUB-SAHARAN AFRICA",
         0.25
        ],
        [
         0.062,
         0.51,
         342000,
         42.57,
         2.0,
         0.05,
         "CG",
         0.13,
         12.93,
         700,
         0.57,
         93.86,
         83.8,
         "Congo, Repub. of the",
         -0.17,
         99.36,
         3.7,
         10.8,
         3702314,
         "SUB-SAHARAN AFRICA",
         0.369
        ],
        [
         0.015,
         10.42,
         41290,
         9.71,
         3.0,
         0.0,
         "CH",
         0.61,
         8.49,
         32700,
         0.34,
         4.39,
         99.0,
         "Switzerland",
         4.05,
         88.97,
         680.9,
         182.2,
         7523934,
         "WESTERN EUROPE",
         0.645
        ],
        [
         0.279,
         9.75,
         322460,
         35.11,
         2.0,
         0.16,
         "CI",
         13.84,
         14.84,
         1400,
         0.171,
         90.83,
         50.9,
         "Cote d'Ivoire",
         -0.07,
         76.41,
         14.6,
         54.8,
         17654843,
         "SUB-SAHARAN AFRICA",
         0.55
        ],
        [
         0.151,
         17.39,
         240,
         21.0,
         2.0,
         50.0,
         "CK",
         13.04,
         null,
         5000,
         0.096,
         null,
         95.0,
         "Cook Islands",
         null,
         69.57,
         289.9,
         89.1,
         21388,
         "OCEANIA",
         0.753
        ],
        [
         0.06,
         2.65,
         756950,
         15.23,
         3.0,
         0.85,
         "CL",
         0.42,
         5.81,
         9900,
         0.493,
         8.8,
         96.2,
         "Chile",
         0.0,
         96.93,
         213.0,
         21.3,
         16134219,
         "LATIN AMER. & CARIB",
         0.447
        ],
        [
         0.448,
         12.81,
         475440,
         33.89,
         1.5,
         0.08,
         "CM",
         2.58,
         13.47,
         1800,
         0.17,
         68.26,
         79.0,
         "Cameroon",
         0.0,
         84.61,
         5.7,
         36.5,
         17340702,
         "SUB-SAHARAN AFRICA",
         0.382
        ],
        [
         0.125,
         15.4,
         9596960,
         13.25,
         1.5,
         0.15,
         "CN",
         1.25,
         6.97,
         5000,
         0.473,
         24.18,
         90.9,
         "China",
         -0.4,
         83.35,
         266.7,
         136.9,
         1313973713,
         "ASIA (EX. NEAR EAST)",
         0.403
        ],
        [
         0.125,
         2.42,
         1138910,
         20.48,
         2.0,
         0.28,
         "CO",
         1.67,
         5.58,
         6300,
         0.342,
         20.97,
         92.5,
         "Colombia",
         -0.31,
         95.91,
         176.2,
         38.3,
         43593035,
         "LATIN AMER. & CARIB",
         0.533
        ],
        [
         0.088,
         4.41,
         51100,
         18.32,
         2.0,
         2.52,
         "CR",
         5.88,
         4.36,
         9100,
         0.299,
         9.95,
         96.0,
         "Costa Rica",
         0.51,
         89.71,
         340.7,
         79.8,
         4075261,
         "LATIN AMER. & CARIB",
         0.614
        ],
        [
         0.055,
         33.05,
         110860,
         11.89,
         2.0,
         3.37,
         "CU",
         7.6,
         7.22,
         2900,
         0.261,
         6.33,
         97.0,
         "Cuba",
         -1.58,
         59.35,
         74.7,
         102.7,
         11382820,
         "LATIN AMER. & CARIB",
         0.684
        ],
        [
         0.121,
         9.68,
         4033,
         24.87,
         3.0,
         23.93,
         "CV",
         0.5,
         6.55,
         1400,
         0.219,
         47.77,
         76.6,
         "Cape Verde",
         -12.07,
         89.82,
         169.6,
         104.4,
         420979,
         "SUB-SAHARAN AFRICA",
         0.66
        ],
        [
         0.037,
         7.79,
         9250,
         12.56,
         3.0,
         7.01,
         "CY",
         4.44,
         7.68,
         19200,
         0.198,
         7.18,
         97.6,
         "Cyprus",
         0.43,
         87.77,
         null,
         84.8,
         784301,
         "NEAR EAST",
         0.765
        ],
        [
         0.034,
         39.8,
         78866,
         9.02,
         3.0,
         0.0,
         "CZ",
         3.05,
         10.59,
         15700,
         0.393,
         3.93,
         99.9,
         "Czech Republic",
         0.97,
         57.15,
         314.3,
         129.8,
         10235455,
         "EASTERN EUROPE",
         0.573
        ],
        [
         0.009,
         33.85,
         357021,
         8.25,
         3.0,
         0.67,
         "DE",
         0.59,
         10.62,
         27600,
         0.296,
         4.16,
         99.0,
         "Germany",
         2.18,
         65.56,
         667.9,
         230.9,
         82422299,
         "WESTERN EUROPE",
         0.695
        ],
        [
         0.179,
         0.04,
         23000,
         39.53,
         1.0,
         1.37,
         "DJ",
         0.0,
         19.31,
         1300,
         0.225,
         104.13,
         67.9,
         "Djibouti",
         0.0,
         99.96,
         22.8,
         21.2,
         486530,
         "SUB-SAHARAN AFRICA",
         0.596
        ],
        [
         0.018,
         54.02,
         43094,
         11.13,
         3.0,
         16.97,
         "DK",
         0.19,
         10.36,
         31100,
         0.246,
         4.56,
         100.0,
         "Denmark",
         2.48,
         45.79,
         614.6,
         126.5,
         5450661,
         "WESTERN EUROPE",
         0.735
        ],
        [
         0.177,
         6.67,
         754,
         15.27,
         2.0,
         19.63,
         "DM",
         20.0,
         6.73,
         5400,
         0.328,
         14.15,
         94.0,
         "Dominica",
         -13.87,
         73.33,
         304.8,
         91.4,
         68910,
         "LATIN AMER. & CARIB",
         0.495
        ],
        [
         0.112,
         22.65,
         48730,
         23.22,
         2.0,
         2.64,
         "DO",
         10.33,
         5.73,
         6000,
         0.306,
         32.38,
         84.7,
         "Dominican Republic",
         -3.22,
         67.02,
         97.4,
         188.5,
         9183984,
         "LATIN AMER. & CARIB",
         0.582
        ],
        [
         0.101,
         3.22,
         2381740,
         17.14,
         1.0,
         0.04,
         "DZ",
         0.25,
         4.61,
         6000,
         0.6,
         31.0,
         70.0,
         "Algeria",
         -0.39,
         96.53,
         78.1,
         13.8,
         32930091,
         "NORTHERN AFRICA",
         0.298
        ],
        [
         0.07,
         5.85,
         283560,
         22.29,
         2.0,
         0.79,
         "EC",
         4.93,
         4.23,
         3300,
         0.312,
         23.66,
         92.5,
         "Ecuador",
         -8.58,
         89.22,
         125.6,
         47.8,
         13547510,
         "LATIN AMER. & CARIB",
         0.618
        ],
        [
         0.04,
         16.04,
         45226,
         10.04,
         3.0,
         8.39,
         "EE",
         0.45,
         13.25,
         12300,
         0.294,
         7.87,
         99.8,
         "Estonia",
         -3.16,
         83.51,
         333.8,
         29.3,
         1324333,
         "BALTICS",
         0.666
        ],
        [
         0.149,
         2.87,
         1001450,
         22.94,
         1.0,
         0.24,
         "EG",
         0.48,
         5.23,
         4000,
         0.357,
         32.59,
         57.7,
         "Egypt",
         -0.22,
         96.65,
         131.8,
         78.8,
         78887007,
         "NORTHERN AFRICA",
         0.493
        ],
        [
         null,
         0.02,
         266000,
         null,
         1.0,
         0.42,
         "EH",
         0.0,
         null,
         null,
         null,
         null,
         null,
         "Western Sahara",
         null,
         99.98,
         null,
         1.0,
         273008,
         "NORTHERN AFRICA",
         0.4
        ],
        [
         0.102,
         4.95,
         121320,
         34.33,
         1.5,
         1.84,
         "ER",
         0.03,
         9.6,
         700,
         0.254,
         74.87,
         58.6,
         "Eritrea",
         0.0,
         95.02,
         7.9,
         39.5,
         4786994,
         "SUB-SAHARAN AFRICA",
         0.643
        ],
        [
         0.04,
         26.07,
         504782,
         10.06,
         3.0,
         0.98,
         "ES",
         9.87,
         9.72,
         22000,
         0.295,
         4.42,
         97.9,
         "Spain",
         0.99,
         64.06,
         453.5,
         80.0,
         40397842,
         "WESTERN EUROPE",
         0.665
        ],
        [
         0.475,
         10.71,
         1127127,
         37.98,
         2.0,
         0.0,
         "ET",
         0.75,
         14.86,
         700,
         0.099,
         95.32,
         42.7,
         "Ethiopia",
         0.0,
         88.54,
         8.2,
         66.3,
         74777981,
         "SUB-SAHARAN AFRICA",
         0.426
        ],
        [
         0.028,
         7.19,
         338145,
         10.45,
         3.0,
         0.37,
         "FI",
         0.03,
         9.86,
         27400,
         0.295,
         3.57,
         100.0,
         "Finland",
         0.95,
         92.78,
         405.3,
         15.5,
         5231372,
         "WESTERN EUROPE",
         0.676
        ],
        [
         0.089,
         10.95,
         18270,
         22.55,
         2.0,
         6.18,
         "FJ",
         4.65,
         5.65,
         5800,
         0.135,
         12.62,
         93.7,
         "Fiji",
         -3.14,
         84.4,
         112.6,
         49.6,
         905949,
         "OCEANIA",
         0.776
        ],
        [
         0.289,
         5.71,
         702,
         24.68,
         2.0,
         870.66,
         "FM",
         45.71,
         4.75,
         2000,
         0.152,
         30.21,
         89.0,
         "Micronesia, Fed. St.",
         -20.99,
         48.58,
         114.8,
         153.9,
         108004,
         "OCEANIA",
         0.559
        ],
        [
         0.27,
         2.14,
         1399,
         14.05,
         null,
         79.84,
         "FO",
         0.0,
         8.7,
         22000,
         0.11,
         6.24,
         null,
         "Faroe Islands",
         1.41,
         97.86,
         503.8,
         33.8,
         47246,
         "WESTERN EUROPE",
         0.62
        ],
        [
         0.022,
         33.53,
         547030,
         11.99,
         4.0,
         0.63,
         "FR",
         2.07,
         9.14,
         27600,
         0.214,
         4.26,
         99.0,
         "France",
         0.66,
         64.4,
         586.4,
         111.3,
         60876136,
         "WESTERN EUROPE",
         0.764
        ],
        [
         0.061,
         1.26,
         267667,
         36.16,
         2.0,
         0.33,
         "GA",
         0.66,
         12.25,
         5500,
         0.592,
         53.64,
         63.2,
         "Gabon",
         0.0,
         98.08,
         27.4,
         5.3,
         1424906,
         "SUB-SAHARAN AFRICA",
         0.348
        ],
        [
         0.005,
         23.46,
         244820,
         10.71,
         3.0,
         5.08,
         "GB",
         0.21,
         10.13,
         27700,
         0.237,
         5.16,
         99.0,
         "United Kingdom",
         2.19,
         76.33,
         543.5,
         247.6,
         60609153,
         "WESTERN EUROPE",
         0.758
        ],
        [
         0.054,
         5.88,
         344,
         22.08,
         2.0,
         35.17,
         "GD",
         29.41,
         6.88,
         5000,
         0.18,
         14.62,
         98.0,
         "Grenada",
         -13.92,
         64.71,
         364.5,
         260.8,
         89703,
         "LATIN AMER. & CARIB",
         0.766
        ],
        [
         0.172,
         11.44,
         69700,
         10.41,
         3.0,
         0.44,
         "GE",
         3.86,
         9.23,
         2500,
         0.275,
         18.59,
         99.0,
         "Georgia",
         -4.7,
         84.7,
         146.6,
         66.9,
         4661473,
         "C.W. OF IND. STATES",
         0.553
        ],
        [
         0.066,
         0.14,
         91000,
         20.46,
         2.0,
         0.42,
         "GF",
         0.05,
         4.88,
         8300,
         0.156,
         12.07,
         83.0,
         "French Guiana",
         6.27,
         99.81,
         255.6,
         2.2,
         199509,
         "LATIN AMER. & CARIB",
         0.778
        ],
        [
         0.03,
         null,
         78,
         8.81,
         3.0,
         64.1,
         "GG",
         null,
         10.01,
         20000,
         0.1,
         4.71,
         null,
         "Guernsey",
         3.84,
         null,
         842.4,
         838.6,
         65409,
         "WESTERN EUROPE",
         0.87
        ],
        [
         0.366,
         16.26,
         239460,
         30.52,
         2.0,
         0.23,
         "GH",
         9.67,
         9.72,
         2200,
         0.246,
         51.43,
         74.8,
         "Ghana",
         -0.64,
         74.07,
         14.4,
         93.6,
         22409572,
         "SUB-SAHARAN AFRICA",
         0.387
        ],
        [
         null,
         0.0,
         7,
         10.74,
         null,
         171.43,
         "GI",
         0.0,
         9.31,
         17500,
         null,
         5.13,
         null,
         "Gibraltar",
         0.0,
         100.0,
         877.7,
         3989.7,
         27928,
         "WESTERN EUROPE",
         null
        ],
        [
         null,
         0.0,
         2166086,
         15.93,
         1.0,
         2.04,
         "GL",
         0.0,
         7.84,
         20000,
         null,
         15.82,
         null,
         "Greenland",
         -8.37,
         100.0,
         448.9,
         0.0,
         56361,
         "NORTHERN AMERICA",
         null
        ],
        [
         0.308,
         25.0,
         11300,
         39.37,
         2.0,
         0.71,
         "GM",
         0.5,
         12.25,
         1700,
         0.142,
         72.02,
         40.1,
         "Gambia, The",
         1.57,
         74.5,
         26.8,
         145.3,
         1641564,
         "SUB-SAHARAN AFRICA",
         0.549
        ],
        [
         0.237,
         3.63,
         245857,
         41.76,
         2.0,
         0.13,
         "GN",
         2.58,
         15.48,
         2100,
         0.362,
         90.37,
         35.9,
         "Guinea",
         -3.06,
         93.79,
         2.7,
         39.4,
         9690222,
         "SUB-SAHARAN AFRICA",
         0.401
        ],
        [
         0.15,
         11.24,
         1780,
         15.05,
         2.0,
         17.19,
         "GP",
         3.55,
         6.09,
         8000,
         0.17,
         8.6,
         90.0,
         "Guadeloupe",
         -0.15,
         85.21,
         463.8,
         254.4,
         452776,
         "LATIN AMER. & CARIB",
         0.68
        ],
        [
         0.03,
         4.63,
         28051,
         35.59,
         2.0,
         1.06,
         "GQ",
         3.57,
         15.06,
         2700,
         0.906,
         85.13,
         85.7,
         "Equatorial Guinea",
         0.0,
         91.8,
         18.5,
         19.3,
         540109,
         "SUB-SAHARAN AFRICA",
         0.062
        ],
        [
         0.054,
         21.1,
         131940,
         9.68,
         3.0,
         10.37,
         "GR",
         8.78,
         10.24,
         20000,
         0.213,
         5.53,
         97.5,
         "Greece",
         2.35,
         70.12,
         589.7,
         81.0,
         10688058,
         "WESTERN EUROPE",
         0.733
        ],
        [
         0.227,
         12.54,
         108890,
         29.88,
         2.0,
         0.37,
         "GT",
         5.03,
         5.2,
         4100,
         0.188,
         35.93,
         70.6,
         "Guatemala",
         -1.67,
         82.43,
         92.1,
         112.9,
         12293545,
         "LATIN AMER. & CARIB",
         0.585
        ],
        [
         null,
         9.09,
         541,
         18.79,
         2.0,
         23.2,
         "GU",
         16.36,
         4.48,
         21000,
         null,
         6.94,
         99.0,
         "Guam",
         0.0,
         74.55,
         492.0,
         316.1,
         171019,
         "OCEANIA",
         null
        ],
        [
         0.62,
         10.67,
         36120,
         37.22,
         2.0,
         0.97,
         "GW",
         8.82,
         16.53,
         800,
         0.12,
         107.17,
         42.4,
         "Guinea-Bissau",
         -1.57,
         80.51,
         7.4,
         39.9,
         1442029,
         "SUB-SAHARAN AFRICA",
         0.26
        ],
        [
         0.37,
         2.44,
         214970,
         18.28,
         2.0,
         0.21,
         "GY",
         0.15,
         8.28,
         4000,
         0.203,
         33.26,
         98.8,
         "Guyana",
         -2.07,
         97.41,
         143.5,
         3.6,
         767245,
         "LATIN AMER. & CARIB",
         0.427
        ],
        [
         0.03,
         28.95,
         360,
         39.45,
         3.0,
         11.11,
         "GZ",
         21.05,
         3.8,
         600,
         0.283,
         22.93,
         null,
         "Gaza Strip",
         1.6,
         50.0,
         244.3,
         3968.8,
         1428757,
         "NEAR EAST",
         0.687
        ],
        [
         0.001,
         5.05,
         1092,
         7.29,
         2.0,
         67.12,
         "HK",
         1.01,
         6.29,
         28800,
         0.092,
         2.97,
         93.5,
         "Hong Kong",
         5.24,
         93.94,
         546.7,
         6355.7,
         6940432,
         "ASIA (EX. NEAR EAST)",
         0.906
        ],
        [
         0.139,
         9.55,
         112090,
         28.24,
         2.0,
         0.73,
         "HN",
         3.22,
         5.28,
         2600,
         0.312,
         29.32,
         76.2,
         "Honduras",
         -1.99,
         87.23,
         67.5,
         65.4,
         7326496,
         "LATIN AMER. & CARIB",
         0.549
        ],
        [
         0.07,
         26.09,
         56542,
         9.61,
         null,
         10.32,
         "HR",
         2.27,
         11.48,
         10600,
         0.308,
         6.84,
         98.5,
         "Croatia",
         1.58,
         71.65,
         420.4,
         79.5,
         4494749,
         "EASTERN EUROPE",
         0.622
        ],
        [
         0.28,
         28.3,
         27750,
         36.44,
         2.0,
         6.38,
         "HT",
         11.61,
         12.17,
         1600,
         0.2,
         73.45,
         52.9,
         "Haiti",
         -3.4,
         60.09,
         16.9,
         299.4,
         8308504,
         "LATIN AMER. & CARIB",
         0.52
        ],
        [
         0.037,
         50.09,
         93030,
         9.72,
         3.0,
         0.0,
         "HU",
         2.06,
         13.11,
         13900,
         0.312,
         8.57,
         99.4,
         "Hungary",
         0.86,
         47.85,
         336.2,
         107.3,
         9981334,
         "EASTERN EUROPE",
         0.651
        ],
        [
         0.134,
         11.32,
         1919440,
         20.34,
         2.0,
         2.85,
         "ID",
         7.23,
         6.25,
         3200,
         0.458,
         35.6,
         87.9,
         "Indonesia",
         0.0,
         81.45,
         52.0,
         127.9,
         245452739,
         "ASIA (EX. NEAR EAST)",
         0.408
        ],
        [
         0.05,
         15.2,
         70280,
         14.45,
         3.0,
         2.06,
         "IE",
         0.03,
         7.82,
         29600,
         0.46,
         5.39,
         98.0,
         "Ireland",
         4.99,
         84.77,
         500.5,
         57.8,
         4062235,
         "WESTERN EUROPE",
         0.49
        ],
        [
         0.026,
         16.39,
         20770,
         17.97,
         3.0,
         1.31,
         "IL",
         4.17,
         6.18,
         19800,
         0.317,
         7.03,
         95.4,
         "Israel",
         0.68,
         79.44,
         462.3,
         305.8,
         6352117,
         "NEAR EAST",
         0.657
        ],
        [
         0.01,
         9.0,
         572,
         11.05,
         3.0,
         27.97,
         "IM",
         0.0,
         11.19,
         21000,
         0.13,
         5.93,
         null,
         "Isle of Man",
         5.36,
         91.0,
         676.0,
         131.9,
         75441,
         "WESTERN EUROPE",
         0.86
        ],
        [
         0.186,
         54.4,
         3287590,
         22.01,
         2.5,
         0.21,
         "IN",
         2.74,
         8.18,
         2900,
         0.276,
         56.29,
         59.5,
         "India",
         -0.07,
         42.86,
         45.4,
         333.2,
         1095351995,
         "ASIA (EX. NEAR EAST)",
         0.538
        ],
        [
         0.073,
         13.15,
         437072,
         31.98,
         1.0,
         0.01,
         "IQ",
         0.78,
         5.37,
         1500,
         0.666,
         50.25,
         40.4,
         "Iraq",
         0.0,
         86.07,
         38.6,
         61.3,
         26783383,
         "NEAR EAST",
         0.261
        ],
        [
         0.116,
         8.72,
         1648000,
         17.0,
         1.0,
         0.15,
         "IR",
         1.39,
         5.55,
         7000,
         0.424,
         41.58,
         79.4,
         "Iran",
         -0.84,
         89.89,
         276.4,
         41.7,
         68688433,
         "ASIA (EX. NEAR EAST)",
         0.46
        ],
        [
         0.086,
         0.07,
         103000,
         13.64,
         3.0,
         4.83,
         "IS",
         0.0,
         6.72,
         30900,
         0.15,
         3.31,
         99.9,
         "Iceland",
         2.38,
         99.93,
         647.7,
         2.9,
         299388,
         "WESTERN EUROPE",
         0.765
        ],
        [
         0.021,
         27.79,
         301230,
         8.72,
         null,
         2.52,
         "IT",
         9.53,
         10.4,
         26700,
         0.291,
         5.94,
         98.6,
         "Italy",
         2.07,
         62.68,
         430.9,
         193.0,
         58133509,
         "WESTERN EUROPE",
         0.688
        ],
        [
         0.05,
         0.0,
         116,
         9.3,
         3.0,
         60.34,
         "JE",
         0.0,
         9.28,
         24800,
         0.02,
         5.24,
         null,
         "Jersey",
         2.76,
         100.0,
         811.3,
         785.2,
         91084,
         "WESTERN EUROPE",
         0.93
        ],
        [
         0.049,
         16.07,
         10991,
         20.82,
         2.0,
         9.3,
         "JM",
         10.16,
         6.52,
         3900,
         0.337,
         12.36,
         87.9,
         "Jamaica",
         -4.92,
         73.77,
         124.0,
         250.9,
         2758124,
         "LATIN AMER. & CARIB",
         0.615
        ],
        [
         0.033,
         2.67,
         92300,
         21.25,
         1.0,
         0.03,
         "JO",
         1.83,
         2.65,
         4300,
         0.287,
         17.35,
         91.3,
         "Jordan",
         6.59,
         95.5,
         104.5,
         64.0,
         5906760,
         "NEAR EAST",
         0.68
        ],
        [
         0.017,
         12.19,
         377835,
         9.37,
         3.0,
         7.87,
         "JP",
         0.96,
         9.16,
         28200,
         0.258,
         3.26,
         99.0,
         "Japan",
         0.0,
         86.85,
         461.2,
         337.4,
         127463611,
         "ASIA (EX. NEAR EAST)",
         0.725
        ],
        [
         0.163,
         8.08,
         582650,
         39.72,
         1.5,
         0.09,
         "KE",
         0.98,
         14.02,
         1000,
         0.188,
         61.47,
         85.1,
         "Kenya",
         -0.1,
         90.94,
         8.1,
         59.6,
         34707817,
         "SUB-SAHARAN AFRICA",
         0.651
        ],
        [
         0.353,
         7.3,
         198500,
         22.8,
         2.5,
         0.0,
         "KG",
         0.35,
         7.08,
         1600,
         0.208,
         35.64,
         97.0,
         "Kyrgyzstan",
         -2.45,
         92.35,
         84.0,
         26.3,
         5213898,
         "C.W. OF IND. STATES",
         0.439
        ],
        [
         0.35,
         20.96,
         181040,
         26.9,
         2.0,
         0.24,
         "KH",
         0.61,
         9.06,
         1900,
         0.3,
         71.48,
         69.4,
         "Cambodia",
         0.0,
         78.43,
         2.6,
         76.7,
         13881427,
         "ASIA (EX. NEAR EAST)",
         0.35
        ],
        [
         0.089,
         2.74,
         811,
         30.65,
         2.0,
         140.94,
         "KI",
         50.68,
         8.26,
         800,
         0.242,
         48.52,
         null,
         "Kiribati",
         0.0,
         46.58,
         42.7,
         130.0,
         105432,
         "OCEANIA",
         0.668
        ],
        [
         0.4,
         35.87,
         2170,
         36.93,
         2.0,
         15.67,
         "KM",
         23.32,
         8.2,
         700,
         0.04,
         74.93,
         56.5,
         "Comoros",
         0.0,
         40.81,
         24.5,
         318.4,
         690948,
         "SUB-SAHARAN AFRICA",
         0.56
        ],
        [
         0.035,
         19.44,
         261,
         18.02,
         2.0,
         51.72,
         "KN",
         2.78,
         8.33,
         8800,
         0.258,
         14.49,
         97.0,
         "Saint Kitts & Nevis",
         -7.11,
         77.78,
         638.9,
         149.9,
         39129,
         "LATIN AMER. & CARIB",
         0.707
        ],
        [
         0.3,
         20.76,
         120540,
         15.54,
         3.0,
         2.07,
         "KP",
         2.49,
         7.13,
         1300,
         0.34,
         24.04,
         99.0,
         "Korea, North",
         0.0,
         76.75,
         42.4,
         191.8,
         23113019,
         "ASIA (EX. NEAR EAST)",
         0.36
        ],
        [
         0.033,
         17.18,
         98480,
         10.0,
         3.0,
         2.45,
         "KR",
         1.95,
         5.85,
         17800,
         0.403,
         7.05,
         97.9,
         "Korea, South",
         0.0,
         80.87,
         486.1,
         496.0,
         48846823,
         "ASIA (EX. NEAR EAST)",
         0.563
        ],
        [
         0.004,
         0.73,
         17820,
         21.94,
         1.0,
         2.8,
         "KW",
         0.11,
         2.41,
         19000,
         0.479,
         9.95,
         83.5,
         "Kuwait",
         14.18,
         99.16,
         211.0,
         135.7,
         2418393,
         "NEAR EAST",
         0.516
        ],
        [
         0.014,
         3.85,
         262,
         12.74,
         2.0,
         61.07,
         "KY",
         0.0,
         4.89,
         35000,
         0.032,
         8.19,
         98.0,
         "Cayman Islands",
         18.75,
         96.15,
         836.3,
         173.4,
         45436,
         "LATIN AMER. & CARIB",
         0.954
        ],
        [
         0.067,
         7.98,
         2717300,
         16.0,
         4.0,
         0.0,
         "KZ",
         0.05,
         9.42,
         6300,
         0.386,
         29.21,
         98.4,
         "Kazakhstan",
         -3.35,
         91.97,
         164.1,
         5.6,
         15233244,
         "C.W. OF IND. STATES",
         0.547
        ],
        [
         0.455,
         3.8,
         236800,
         35.49,
         2.0,
         0.0,
         "LA",
         0.35,
         11.55,
         1700,
         0.287,
         85.22,
         66.4,
         "Laos",
         0.0,
         95.85,
         14.1,
         26.9,
         6368481,
         "ASIA (EX. NEAR EAST)",
         0.258
        ],
        [
         0.12,
         16.62,
         10400,
         18.52,
         null,
         2.16,
         "LB",
         13.98,
         6.21,
         4800,
         0.21,
         24.52,
         87.4,
         "Lebanon",
         0.0,
         69.4,
         255.6,
         372.5,
         3874050,
         "NEAR EAST",
         0.67
        ],
        [
         0.07,
         6.56,
         616,
         19.68,
         2.0,
         25.65,
         "LC",
         22.95,
         5.08,
         5400,
         0.2,
         13.53,
         67.0,
         "Saint Lucia",
         -2.67,
         70.49,
         303.3,
         273.5,
         168458,
         "LATIN AMER. & CARIB",
         0.73
        ],
        [
         0.06,
         25.0,
         160,
         10.21,
         4.0,
         0.0,
         "LI",
         0.0,
         7.18,
         25000,
         0.39,
         4.7,
         100.0,
         "Liechtenstein",
         4.85,
         75.0,
         585.5,
         212.4,
         33987,
         "WESTERN EUROPE",
         0.55
        ],
        [
         0.178,
         13.86,
         65610,
         15.51,
         2.0,
         2.04,
         "LK",
         15.7,
         6.52,
         3700,
         0.276,
         14.35,
         92.3,
         "Sri Lanka",
         -1.31,
         70.44,
         61.5,
         308.2,
         20222240,
         "ASIA (EX. NEAR EAST)",
         0.545
        ],
        [
         0.769,
         3.95,
         111370,
         44.77,
         2.0,
         0.52,
         "LR",
         2.28,
         23.1,
         1000,
         0.054,
         128.87,
         57.5,
         "Liberia",
         0.0,
         93.77,
         2.3,
         27.3,
         3042004,
         "SUB-SAHARAN AFRICA",
         0.177
        ],
        [
         0.163,
         10.87,
         30355,
         24.75,
         3.0,
         0.0,
         "LS",
         0.13,
         28.71,
         3000,
         0.443,
         84.23,
         84.8,
         "Lesotho",
         -0.74,
         89.0,
         23.7,
         66.6,
         2022331,
         "SUB-SAHARAN AFRICA",
         0.394
        ],
        [
         0.055,
         45.22,
         65200,
         8.75,
         null,
         0.14,
         "LT",
         0.91,
         10.98,
         11400,
         0.325,
         6.89,
         99.6,
         "Lithuania",
         -0.71,
         53.87,
         223.4,
         55.0,
         3585906,
         "BALTICS",
         0.62
        ],
        [
         0.01,
         23.28,
         2586,
         11.94,
         null,
         0.0,
         "LU",
         0.4,
         8.41,
         55100,
         0.13,
         4.81,
         100.0,
         "Luxembourg",
         8.97,
         76.32,
         515.4,
         183.5,
         474413,
         "WESTERN EUROPE",
         0.86
        ],
        [
         0.04,
         29.67,
         64589,
         9.24,
         3.0,
         0.82,
         "LV",
         0.47,
         13.66,
         10200,
         0.261,
         9.55,
         99.8,
         "Latvia",
         -2.23,
         69.86,
         321.4,
         35.2,
         2274735,
         "BALTICS",
         0.699
        ],
        [
         0.076,
         1.03,
         1759540,
         26.49,
         null,
         0.1,
         "LY",
         0.19,
         3.48,
         6400,
         0.499,
         24.6,
         82.6,
         "Libya",
         0.0,
         98.78,
         127.1,
         3.4,
         5900754,
         "NORTHERN AFRICA",
         0.425
        ],
        [
         0.217,
         19.61,
         446550,
         21.98,
         null,
         0.41,
         "MA",
         2.17,
         5.58,
         4000,
         0.357,
         41.62,
         51.7,
         "Morocco",
         -0.98,
         78.22,
         40.4,
         74.4,
         33241259,
         "NORTHERN AFRICA",
         0.426
        ],
        [
         0.17,
         0.0,
         2,
         9.19,
         null,
         205.0,
         "MC",
         0.0,
         12.91,
         27000,
         null,
         5.43,
         99.0,
         "Monaco",
         7.75,
         100.0,
         1035.6,
         16271.5,
         32543,
         "WESTERN EUROPE",
         null
        ],
        [
         0.213,
         55.3,
         33843,
         15.7,
         null,
         0.0,
         "MD",
         10.79,
         12.64,
         1800,
         0.233,
         40.42,
         99.1,
         "Moldova",
         -0.26,
         33.91,
         208.1,
         132.0,
         4466706,
         "C.W. OF IND. STATES",
         0.555
        ],
        [
         0.276,
         5.07,
         587040,
         41.41,
         2.0,
         0.82,
         "MG",
         1.03,
         11.11,
         800,
         0.165,
         76.83,
         68.9,
         "Madagascar",
         0.0,
         93.91,
         3.6,
         31.7,
         18595469,
         "SUB-SAHARAN AFRICA",
         0.559
        ],
        [
         0.317,
         16.67,
         11854,
         33.05,
         2.0,
         3.12,
         "MH",
         38.89,
         4.78,
         1600,
         0.149,
         29.45,
         93.7,
         "Marshall Islands",
         -6.04,
         44.44,
         91.2,
         5.1,
         60422,
         "OCEANIA",
         0.534
        ],
        [
         0.118,
         22.26,
         25333,
         12.02,
         3.0,
         0.0,
         "MK",
         1.81,
         8.77,
         6700,
         0.319,
         10.09,
         null,
         "Macedonia",
         -1.45,
         75.93,
         260.0,
         80.9,
         2050554,
         "EASTERN EUROPE",
         0.563
        ],
        [
         0.45,
         3.82,
         1240000,
         49.82,
         2.0,
         0.0,
         "ML",
         0.03,
         16.89,
         900,
         0.17,
         116.79,
         46.4,
         "Mali",
         -0.33,
         96.15,
         6.4,
         9.5,
         11716829,
         "SUB-SAHARAN AFRICA",
         0.38
        ],
        [
         0.206,
         0.77,
         1564116,
         21.59,
         1.0,
         0.0,
         "MN",
         0.0,
         6.95,
         1800,
         0.214,
         53.79,
         97.8,
         "Mongolia",
         0.0,
         99.23,
         55.1,
         1.8,
         2832224,
         "ASIA (EX. NEAR EAST)",
         0.58
        ],
        [
         0.001,
         0.0,
         28,
         8.48,
         2.0,
         146.43,
         "MO",
         0.0,
         4.47,
         19400,
         0.072,
         4.39,
         94.5,
         "Macau",
         4.86,
         100.0,
         384.9,
         16183.0,
         453125,
         "ASIA (EX. NEAR EAST)",
         0.927
        ],
        [
         null,
         13.04,
         477,
         19.43,
         2.0,
         310.69,
         "MP",
         4.35,
         2.29,
         12500,
         null,
         7.11,
         97.0,
         "N. Mariana Islands",
         9.61,
         82.61,
         254.7,
         172.9,
         82459,
         "OCEANIA",
         null
        ],
        [
         0.06,
         10.38,
         1100,
         13.74,
         2.0,
         31.82,
         "MQ",
         9.43,
         6.48,
         14400,
         0.11,
         7.09,
         97.7,
         "Martinique",
         -0.05,
         80.19,
         394.4,
         396.5,
         436131,
         "LATIN AMER. & CARIB",
         0.83
        ],
        [
         0.25,
         0.48,
         1030700,
         40.99,
         1.0,
         0.07,
         "MR",
         0.01,
         12.16,
         1800,
         0.29,
         70.89,
         41.7,
         "Mauritania",
         0.0,
         99.51,
         12.9,
         3.1,
         3177388,
         "SUB-SAHARAN AFRICA",
         0.46
        ],
        [
         null,
         20.0,
         102,
         17.59,
         2.0,
         39.22,
         "MS",
         0.0,
         7.1,
         3400,
         null,
         7.35,
         97.0,
         "Montserrat",
         0.0,
         80.0,
         null,
         92.5,
         9439,
         "LATIN AMER. & CARIB",
         null
        ],
        [
         0.03,
         28.13,
         316,
         10.22,
         null,
         62.28,
         "MT",
         3.13,
         8.1,
         17700,
         0.23,
         3.89,
         92.8,
         "Malta",
         2.07,
         68.74,
         505.0,
         1266.5,
         400214,
         "WESTERN EUROPE",
         0.74
        ],
        [
         0.059,
         49.26,
         2040,
         15.43,
         2.0,
         8.68,
         "MU",
         2.96,
         6.86,
         11400,
         0.298,
         15.03,
         85.6,
         "Mauritius",
         -0.9,
         47.78,
         289.3,
         608.3,
         1240827,
         "SUB-SAHARAN AFRICA",
         0.643
        ],
        [
         0.2,
         13.33,
         300,
         34.81,
         2.0,
         214.67,
         "MV",
         16.67,
         7.06,
         3900,
         0.18,
         56.52,
         97.2,
         "Maldives",
         0.0,
         70.0,
         90.0,
         1196.7,
         359008,
         "ASIA (EX. NEAR EAST)",
         0.62
        ],
        [
         0.342,
         23.38,
         118480,
         43.13,
         2.0,
         0.0,
         "MW",
         1.49,
         19.33,
         600,
         0.158,
         103.32,
         62.7,
         "Malawi",
         0.0,
         75.13,
         7.9,
         109.8,
         13013926,
         "SUB-SAHARAN AFRICA",
         0.499
        ],
        [
         0.038,
         12.99,
         1972550,
         20.69,
         1.5,
         0.47,
         "MX",
         1.31,
         4.74,
         9000,
         0.259,
         20.91,
         92.2,
         "Mexico",
         -4.87,
         85.7,
         181.6,
         54.5,
         107449525,
         "LATIN AMER. & CARIB",
         0.702
        ],
        [
         0.084,
         5.48,
         329750,
         22.86,
         2.0,
         1.42,
         "MY",
         17.61,
         5.05,
         9000,
         0.48,
         17.7,
         88.7,
         "Malaysia",
         0.0,
         76.91,
         179.0,
         74.0,
         24385858,
         "ASIA (EX. NEAR EAST)",
         0.436
        ],
        [
         0.262,
         5.1,
         801590,
         35.18,
         2.0,
         0.31,
         "MZ",
         0.3,
         21.35,
         1200,
         0.348,
         130.79,
         47.8,
         "Mozambique",
         0.0,
         94.6,
         3.5,
         24.6,
         19686505,
         "SUB-SAHARAN AFRICA",
         0.39
        ],
        [
         0.097,
         0.99,
         825418,
         24.32,
         1.0,
         0.19,
         "NA",
         0.0,
         18.86,
         7200,
         0.315,
         48.98,
         84.0,
         "Namibia",
         0.0,
         99.01,
         62.6,
         2.5,
         2044147,
         "SUB-SAHARAN AFRICA",
         0.588
        ],
        [
         0.15,
         0.38,
         19060,
         18.11,
         2.0,
         11.83,
         "NC",
         0.33,
         5.69,
         15000,
         0.088,
         7.72,
         91.0,
         "New Caledonia",
         0.0,
         99.29,
         252.2,
         11.5,
         219246,
         "OCEANIA",
         0.762
        ],
        [
         0.39,
         3.54,
         1267000,
         50.73,
         1.0,
         0.0,
         "NE",
         0.01,
         20.91,
         800,
         0.17,
         121.69,
         17.6,
         "Niger",
         -0.67,
         96.45,
         1.9,
         9.9,
         12525094,
         "SUB-SAHARAN AFRICA",
         0.44
        ],
        [
         0.269,
         31.29,
         923768,
         40.43,
         1.5,
         0.09,
         "NG",
         2.96,
         16.94,
         900,
         0.487,
         98.8,
         68.0,
         "Nigeria",
         0.26,
         65.75,
         9.3,
         142.7,
         131859731,
         "SUB-SAHARAN AFRICA",
         0.244
        ],
        [
         0.165,
         15.94,
         129494,
         24.51,
         2.0,
         0.7,
         "NI",
         1.94,
         4.45,
         2300,
         0.275,
         29.11,
         67.5,
         "Nicaragua",
         -1.22,
         82.12,
         39.7,
         43.0,
         5570129,
         "LATIN AMER. & CARIB",
         0.56
        ],
        [
         0.021,
         26.71,
         41526,
         10.9,
         3.0,
         1.09,
         "NL",
         0.97,
         8.68,
         28600,
         0.244,
         5.04,
         99.0,
         "Netherlands",
         2.91,
         72.32,
         460.8,
         397.1,
         16491461,
         "WESTERN EUROPE",
         0.736
        ],
        [
         0.021,
         2.87,
         323802,
         11.46,
         3.0,
         7.77,
         "NO",
         0.0,
         9.4,
         37800,
         0.415,
         3.7,
         100.0,
         "Norway",
         1.74,
         97.13,
         461.7,
         14.2,
         4610820,
         "WESTERN EUROPE",
         0.564
        ],
        [
         0.38,
         21.68,
         147181,
         30.98,
         null,
         0.0,
         "NP",
         0.64,
         9.31,
         1400,
         0.21,
         66.98,
         45.2,
         "Nepal",
         0.0,
         77.68,
         15.9,
         192.2,
         28287147,
         "ASIA (EX. NEAR EAST)",
         0.41
        ],
        [
         null,
         0.0,
         21,
         24.76,
         2.0,
         142.86,
         "NR",
         0.0,
         6.7,
         5000,
         null,
         9.95,
         null,
         "Nauru",
         0.0,
         100.0,
         143.0,
         632.7,
         13287,
         "OCEANIA",
         null
        ],
        [
         0.043,
         5.6,
         268680,
         13.76,
         3.0,
         5.63,
         "NZ",
         6.99,
         7.53,
         21600,
         0.273,
         5.85,
         99.0,
         "New Zealand",
         4.05,
         87.41,
         441.7,
         15.2,
         4076140,
         "OCEANIA",
         0.684
        ],
        [
         0.027,
         0.0,
         212460,
         36.24,
         1.0,
         0.98,
         "OM",
         0.14,
         3.81,
         13100,
         0.39,
         19.51,
         75.8,
         "Oman",
         0.28,
         99.74,
         85.5,
         14.6,
         3102229,
         "NEAR EAST",
         0.583
        ],
        [
         0.068,
         7.36,
         78200,
         21.74,
         2.0,
         3.18,
         "PA",
         1.98,
         5.36,
         6300,
         0.156,
         20.47,
         92.6,
         "Panama",
         -0.91,
         90.66,
         137.9,
         40.8,
         3191319,
         "LATIN AMER. & CARIB",
         0.776
        ],
        [
         0.08,
         2.89,
         1285220,
         20.48,
         1.5,
         0.19,
         "PE",
         0.4,
         6.23,
         5100,
         0.27,
         31.94,
         90.9,
         "Peru",
         -1.05,
         96.71,
         79.5,
         22.0,
         28302603,
         "LATIN AMER. & CARIB",
         0.65
        ],
        [
         0.031,
         0.82,
         4167,
         16.68,
         2.0,
         60.6,
         "PF",
         5.46,
         4.69,
         17500,
         0.19,
         8.44,
         98.0,
         "French Polynesia",
         2.94,
         93.72,
         194.5,
         65.9,
         274578,
         "OCEANIA",
         0.769
        ],
        [
         0.353,
         0.46,
         462840,
         29.36,
         2.0,
         1.11,
         "PG",
         1.44,
         7.25,
         2200,
         0.381,
         51.45,
         64.6,
         "Papua New Guinea",
         0.0,
         98.1,
         10.9,
         12.3,
         5670544,
         "OCEANIA",
         0.266
        ],
        [
         0.144,
         18.95,
         300000,
         24.89,
         2.0,
         12.1,
         "PH",
         16.77,
         5.41,
         4600,
         0.326,
         23.51,
         92.6,
         "Philippines",
         -1.5,
         64.28,
         38.4,
         298.2,
         89468677,
         "ASIA (EX. NEAR EAST)",
         0.53
        ],
        [
         0.216,
         27.87,
         803940,
         29.74,
         1.0,
         0.13,
         "PK",
         0.87,
         8.23,
         2100,
         0.251,
         72.44,
         45.7,
         "Pakistan",
         -2.77,
         71.26,
         31.8,
         206.2,
         165803560,
         "ASIA (EX. NEAR EAST)",
         0.533
        ],
        [
         0.05,
         45.91,
         312685,
         9.85,
         3.0,
         0.16,
         "PL",
         1.12,
         9.89,
         11100,
         0.311,
         8.51,
         99.8,
         "Poland",
         -0.49,
         52.97,
         306.3,
         123.3,
         38536869,
         "EASTERN EUROPE",
         0.64
        ],
        [
         null,
         13.04,
         242,
         13.52,
         null,
         49.59,
         "PM",
         0.0,
         6.83,
         6900,
         null,
         7.54,
         99.0,
         "St Pierre & Miquelon",
         -4.86,
         86.96,
         683.2,
         29.0,
         7026,
         "NORTHERN AMERICA",
         null
        ],
        [
         0.01,
         3.95,
         13790,
         12.77,
         2.0,
         3.63,
         "PR",
         5.52,
         7.65,
         16800,
         0.45,
         8.24,
         94.1,
         "Puerto Rico",
         -1.46,
         90.53,
         283.1,
         284.8,
         3927188,
         "LATIN AMER. & CARIB",
         0.54
        ],
        [
         0.053,
         21.75,
         92391,
         10.72,
         3.0,
         1.94,
         "PT",
         7.81,
         10.5,
         18000,
         0.274,
         5.05,
         93.3,
         "Portugal",
         3.57,
         70.44,
         399.2,
         114.8,
         10605870,
         "WESTERN EUROPE",
         0.673
        ],
        [
         0.062,
         8.7,
         458,
         18.03,
         2.0,
         331.66,
         "PW",
         4.35,
         6.8,
         9000,
         0.12,
         14.84,
         92.0,
         "Palau",
         2.85,
         86.95,
         325.6,
         44.9,
         20579,
         "OCEANIA",
         0.818
        ],
        [
         0.224,
         7.6,
         406750,
         29.1,
         2.0,
         0.0,
         "PY",
         0.23,
         4.49,
         4700,
         0.207,
         25.63,
         94.0,
         "Paraguay",
         -0.08,
         92.17,
         49.2,
         16.0,
         6506464,
         "LATIN AMER. & CARIB",
         0.569
        ],
        [
         0.002,
         1.64,
         11437,
         15.56,
         1.0,
         4.92,
         "QA",
         0.27,
         4.72,
         21500,
         0.801,
         18.61,
         82.5,
         "Qatar",
         16.29,
         98.09,
         232.0,
         77.4,
         885359,
         "NEAR EAST",
         0.197
        ],
        [
         0.08,
         13.6,
         2517,
         18.9,
         2.0,
         8.22,
         "RE",
         1.2,
         5.49,
         5800,
         0.19,
         7.78,
         88.9,
         "Reunion",
         0.0,
         85.2,
         380.9,
         312.9,
         787584,
         "SUB-SAHARAN AFRICA",
         0.73
        ],
        [
         0.101,
         40.82,
         237500,
         10.7,
         3.0,
         0.09,
         "RO",
         2.25,
         11.77,
         7000,
         0.35,
         26.43,
         98.4,
         "Romania",
         -0.13,
         56.93,
         196.9,
         93.9,
         22303552,
         "EASTERN EUROPE",
         0.549
        ],
        [
         0.166,
         33.35,
         88361,
         null,
         null,
         0.0,
         "RS",
         3.2,
         null,
         2200,
         0.255,
         12.89,
         93.0,
         "Serbia",
         -1.33,
         63.45,
         285.8,
         106.3,
         9396411,
         "EASTERN EUROPE",
         0.579
        ],
        [
         0.054,
         7.33,
         17075200,
         9.95,
         null,
         0.22,
         "RU",
         0.11,
         14.65,
         8900,
         0.371,
         15.39,
         99.6,
         "Russia",
         1.02,
         92.56,
         280.6,
         8.4,
         142893540,
         "C.W. OF IND. STATES",
         0.575
        ],
        [
         0.401,
         40.54,
         26338,
         40.37,
         3.0,
         0.0,
         "RW",
         12.16,
         16.09,
         1300,
         0.229,
         91.23,
         70.4,
         "Rwanda",
         0.0,
         47.3,
         2.7,
         328.4,
         8648248,
         "SUB-SAHARAN AFRICA",
         0.37
        ],
        [
         0.033,
         1.67,
         1960582,
         29.34,
         1.0,
         0.13,
         "SA",
         0.09,
         2.58,
         11800,
         0.613,
         13.24,
         78.8,
         "Saudi Arabia",
         -2.71,
         98.24,
         140.6,
         13.8,
         27019731,
         "NEAR EAST",
         0.354
        ],
        [
         0.42,
         0.64,
         28450,
         30.01,
         2.0,
         18.67,
         "SB",
         2.0,
         3.92,
         1700,
         0.11,
         21.29,
         null,
         "Solomon Islands",
         0.0,
         97.36,
         13.4,
         19.4,
         552438,
         "OCEANIA",
         0.47
        ],
        [
         0.032,
         2.22,
         455,
         16.03,
         2.0,
         107.91,
         "SC",
         13.33,
         6.29,
         7800,
         0.304,
         15.53,
         58.0,
         "Seychelles",
         -5.69,
         84.45,
         262.4,
         179.2,
         81541,
         "SUB-SAHARAN AFRICA",
         0.665
        ],
        [
         0.387,
         6.83,
         2505810,
         34.53,
         2.0,
         0.03,
         "SD",
         0.18,
         8.97,
         1900,
         0.203,
         62.5,
         61.1,
         "Sudan",
         -0.02,
         92.99,
         16.3,
         16.5,
         41236378,
         "SUB-SAHARAN AFRICA",
         0.41
        ],
        [
         0.011,
         6.54,
         449964,
         10.27,
         3.0,
         0.72,
         "SE",
         0.01,
         10.31,
         26800,
         0.282,
         2.77,
         99.0,
         "Sweden",
         1.67,
         93.45,
         715.0,
         20.0,
         9016596,
         "WESTERN EUROPE",
         0.707
        ],
        [
         0.0,
         1.64,
         693,
         9.34,
         2.0,
         27.85,
         "SG",
         0.0,
         4.28,
         23700,
         0.339,
         2.29,
         92.5,
         "Singapore",
         11.53,
         98.36,
         411.4,
         6482.2,
         4492150,
         "ASIA (EX. NEAR EAST)",
         0.661
        ],
        [
         null,
         12.9,
         413,
         12.13,
         null,
         14.53,
         "SH",
         0.0,
         6.53,
         2500,
         null,
         19.0,
         97.0,
         "Saint Helena",
         0.0,
         87.1,
         293.3,
         18.2,
         7502,
         "SUB-SAHARAN AFRICA",
         null
        ],
        [
         0.028,
         8.6,
         20273,
         8.98,
         null,
         0.23,
         "SI",
         1.49,
         10.31,
         19000,
         0.369,
         4.45,
         99.7,
         "Slovenia",
         1.12,
         89.91,
         406.1,
         99.2,
         2010347,
         "EASTERN EUROPE",
         0.603
        ],
        [
         0.035,
         30.16,
         48845,
         10.65,
         3.0,
         0.0,
         "SK",
         2.62,
         9.45,
         13300,
         0.294,
         7.41,
         null,
         "Slovakia",
         0.3,
         67.22,
         220.1,
         111.4,
         5439448,
         "EASTERN EUROPE",
         0.672
        ],
        [
         0.49,
         6.98,
         71740,
         45.76,
         2.0,
         0.56,
         "SL",
         0.89,
         23.03,
         500,
         0.31,
         143.64,
         31.4,
         "Sierra Leone",
         0.0,
         92.13,
         4.0,
         83.7,
         6005250,
         "SUB-SAHARAN AFRICA",
         0.21
        ],
        [
         null,
         16.67,
         61,
         10.02,
         null,
         0.0,
         "SM",
         0.0,
         8.17,
         34600,
         null,
         5.73,
         96.0,
         "San Marino",
         10.98,
         83.33,
         704.3,
         479.5,
         29251,
         "WESTERN EUROPE",
         null
        ],
        [
         0.172,
         12.78,
         196190,
         32.78,
         2.0,
         0.27,
         "SN",
         0.21,
         9.42,
         1600,
         0.209,
         55.51,
         40.2,
         "Senegal",
         0.2,
         87.01,
         22.2,
         61.1,
         11987121,
         "SUB-SAHARAN AFRICA",
         0.619
        ],
        [
         0.65,
         1.67,
         637657,
         45.13,
         1.0,
         0.47,
         "SO",
         0.04,
         16.63,
         500,
         0.1,
         116.7,
         37.8,
         "Somalia",
         5.37,
         98.29,
         11.3,
         13.9,
         8863338,
         "SUB-SAHARAN AFRICA",
         0.25
        ],
        [
         0.13,
         0.37,
         163270,
         18.02,
         2.0,
         0.24,
         "SR",
         0.06,
         7.27,
         4000,
         0.22,
         23.57,
         93.0,
         "Suriname",
         -8.81,
         99.57,
         184.7,
         2.7,
         439117,
         "LATIN AMER. & CARIB",
         0.65
        ],
        [
         0.167,
         6.25,
         1001,
         40.25,
         2.0,
         20.88,
         "ST",
         48.96,
         6.47,
         1200,
         0.148,
         43.11,
         79.3,
         "Sao Tome & Principe",
         -2.72,
         44.79,
         36.2,
         193.2,
         193413,
         "SUB-SAHARAN AFRICA",
         0.684
        ],
        [
         0.099,
         31.85,
         21040,
         26.61,
         2.0,
         1.46,
         "SV",
         12.07,
         5.78,
         4800,
         0.302,
         25.1,
         80.2,
         "El Salvador",
         -3.74,
         56.08,
         142.4,
         324.3,
         6822378,
         "LATIN AMER. & CARIB",
         0.599
        ],
        [
         0.249,
         25.22,
         185180,
         27.76,
         1.0,
         0.1,
         "SY",
         4.43,
         4.81,
         3300,
         0.23,
         29.53,
         76.9,
         "Syria",
         0.0,
         70.35,
         153.8,
         102.0,
         18881361,
         "NEAR EAST",
         0.519
        ],
        [
         0.119,
         10.35,
         17363,
         27.41,
         2.5,
         0.0,
         "SZ",
         0.7,
         29.74,
         4900,
         0.515,
         69.27,
         81.6,
         "Swaziland",
         0.0,
         88.95,
         30.8,
         65.5,
         1136334,
         "SUB-SAHARAN AFRICA",
         0.366
        ],
        [
         null,
         2.33,
         430,
         21.84,
         2.0,
         90.47,
         "TC",
         0.0,
         4.21,
         9600,
         null,
         15.67,
         98.0,
         "Turks & Caicos Is",
         11.68,
         97.67,
         269.5,
         49.2,
         21152,
         "LATIN AMER. & CARIB",
         null
        ],
        [
         0.335,
         2.86,
         1284000,
         45.73,
         2.0,
         0.0,
         "TD",
         0.02,
         16.38,
         1200,
         0.259,
         93.82,
         47.5,
         "Chad",
         -0.11,
         97.12,
         1.3,
         7.7,
         9944201,
         "SUB-SAHARAN AFRICA",
         0.406
        ],
        [
         0.395,
         46.15,
         56785,
         37.01,
         2.0,
         0.1,
         "TG",
         2.21,
         9.83,
         1500,
         0.204,
         66.61,
         60.9,
         "Togo",
         0.0,
         51.64,
         10.6,
         97.7,
         5548702,
         "SUB-SAHARAN AFRICA",
         0.401
        ],
        [
         0.099,
         29.36,
         514000,
         13.87,
         2.0,
         0.63,
         "TH",
         6.46,
         7.04,
         7400,
         0.441,
         20.48,
         92.6,
         "Thailand",
         0.0,
         64.18,
         108.9,
         125.7,
         64631595,
         "ASIA (EX. NEAR EAST)",
         0.46
        ],
        [
         0.234,
         6.61,
         143100,
         32.65,
         2.0,
         0.0,
         "TJ",
         0.92,
         8.25,
         1000,
         0.286,
         110.76,
         99.4,
         "Tajikistan",
         -2.86,
         92.47,
         33.5,
         51.2,
         7320815,
         "C.W. OF IND. STATES",
         0.48
        ],
        [
         0.209,
         3.72,
         488100,
         27.61,
         1.0,
         0.0,
         "TM",
         0.14,
         8.6,
         5800,
         0.38,
         73.08,
         98.0,
         "Turkmenistan",
         -0.86,
         96.14,
         74.6,
         10.3,
         5042920,
         "C.W. OF IND. STATES",
         0.411
        ],
        [
         0.132,
         17.86,
         163610,
         15.52,
         3.0,
         0.7,
         "TN",
         13.74,
         5.13,
         6900,
         0.318,
         24.77,
         74.2,
         "Tunisia",
         -0.57,
         68.4,
         123.6,
         62.2,
         10175014,
         "NORTHERN AFRICA",
         0.55
        ],
        [
         0.23,
         23.61,
         748,
         25.37,
         2.0,
         56.02,
         "TO",
         43.06,
         5.28,
         2200,
         0.27,
         12.62,
         98.5,
         "Tonga",
         0.0,
         33.33,
         97.7,
         153.3,
         114689,
         "OCEANIA",
         0.5
        ],
        [
         0.117,
         30.93,
         780580,
         16.62,
         3.0,
         0.92,
         "TR",
         3.31,
         5.97,
         6700,
         0.298,
         41.04,
         86.5,
         "Turkey",
         0.0,
         65.76,
         269.5,
         90.2,
         70413958,
         "NEAR EAST",
         0.585
        ],
        [
         0.007,
         14.62,
         5128,
         12.9,
         2.0,
         7.06,
         "TT",
         9.16,
         10.57,
         9500,
         0.57,
         24.31,
         98.6,
         "Trinidad & Tobago",
         -10.83,
         76.22,
         303.5,
         207.9,
         1065842,
         "LATIN AMER. & CARIB",
         0.423
        ],
        [
         0.166,
         0.0,
         26,
         22.18,
         2.0,
         92.31,
         "TV",
         0.0,
         7.11,
         1100,
         0.272,
         20.03,
         null,
         "Tuvalu",
         0.0,
         100.0,
         59.3,
         454.2,
         11810,
         "OCEANIA",
         0.562
        ],
        [
         0.018,
         24.0,
         35980,
         12.56,
         2.0,
         4.35,
         "TW",
         1.0,
         6.48,
         23400,
         0.259,
         6.4,
         96.1,
         "Taiwan",
         0.0,
         75.0,
         591.0,
         640.3,
         23036087,
         "ASIA (EX. NEAR EAST)",
         0.723
        ],
        [
         0.432,
         4.52,
         945087,
         37.71,
         null,
         0.15,
         "TZ",
         1.08,
         16.39,
         600,
         0.172,
         98.54,
         78.2,
         "Tanzania",
         -2.06,
         94.4,
         4.0,
         39.6,
         37445392,
         "SUB-SAHARAN AFRICA",
         0.396
        ],
        [
         0.187,
         56.21,
         603700,
         8.82,
         3.0,
         0.46,
         "UA",
         1.61,
         14.39,
         5400,
         0.452,
         20.34,
         99.7,
         "Ukraine",
         -0.39,
         42.18,
         259.9,
         77.4,
         46710816,
         "C.W. OF IND. STATES",
         0.361
        ],
        [
         0.311,
         25.88,
         236040,
         47.35,
         2.0,
         0.0,
         "UG",
         10.65,
         12.24,
         1400,
         0.222,
         67.83,
         69.9,
         "Uganda",
         0.0,
         63.47,
         3.6,
         119.5,
         28195754,
         "SUB-SAHARAN AFRICA",
         0.469
        ],
        [
         0.01,
         19.13,
         9631420,
         14.14,
         3.0,
         0.21,
         "US",
         0.22,
         8.26,
         37800,
         0.204,
         6.5,
         97.0,
         "United States",
         3.41,
         80.65,
         898.0,
         31.0,
         298444215,
         "NORTHERN AMERICA",
         0.787
        ],
        [
         0.093,
         7.43,
         176220,
         13.91,
         3.0,
         0.37,
         "UY",
         0.23,
         9.05,
         12800,
         0.311,
         11.95,
         98.0,
         "Uruguay",
         -0.32,
         92.34,
         291.4,
         19.5,
         3431932,
         "LATIN AMER. & CARIB",
         0.596
        ],
        [
         0.342,
         10.83,
         447400,
         26.36,
         1.0,
         0.0,
         "UZ",
         0.83,
         7.84,
         1700,
         0.229,
         71.1,
         99.3,
         "Uzbekistan",
         -1.72,
         88.34,
         62.9,
         61.0,
         27307134,
         "C.W. OF IND. STATES",
         0.43
        ],
        [
         0.1,
         17.95,
         389,
         16.18,
         2.0,
         21.59,
         "VC",
         17.95,
         5.98,
         2900,
         0.26,
         14.78,
         96.0,
         "Saint Vincent and the Grenadines",
         -7.64,
         64.1,
         190.9,
         303.0,
         117848,
         "LATIN AMER. & CARIB",
         0.64
        ],
        [
         0.04,
         2.95,
         912050,
         18.71,
         2.0,
         0.31,
         "VE",
         0.92,
         4.92,
         4800,
         0.419,
         22.2,
         93.4,
         "Venezuela",
         -0.04,
         96.13,
         140.1,
         28.2,
         25730435,
         "LATIN AMER. & CARIB",
         0.541
        ],
        [
         0.018,
         20.0,
         153,
         14.89,
         2.0,
         52.29,
         "VG",
         6.67,
         4.42,
         16000,
         0.062,
         18.05,
         97.8,
         "British Virgin Is.",
         10.01,
         73.33,
         506.5,
         151.0,
         23098,
         "LATIN AMER. & CARIB",
         0.92
        ],
        [
         0.01,
         11.76,
         1910,
         13.96,
         2.0,
         9.84,
         "VI",
         2.94,
         6.43,
         17200,
         0.19,
         8.03,
         null,
         "Virgin Islands",
         -8.94,
         85.3,
         652.8,
         56.9,
         108605,
         "LATIN AMER. & CARIB",
         0.8
        ],
        [
         0.209,
         19.97,
         329560,
         16.86,
         2.0,
         1.05,
         "VN",
         5.95,
         6.22,
         2500,
         0.41,
         25.95,
         90.3,
         "Vietnam",
         -0.45,
         74.08,
         187.7,
         256.1,
         84402966,
         "ASIA (EX. NEAR EAST)",
         0.381
        ],
        [
         0.26,
         2.46,
         12200,
         22.72,
         2.0,
         20.72,
         "VU",
         7.38,
         7.82,
         2900,
         0.12,
         55.16,
         53.0,
         "Vanuatu",
         0.0,
         90.16,
         32.6,
         17.1,
         208869,
         "OCEANIA",
         0.62
        ],
        [
         null,
         5.0,
         274,
         null,
         2.0,
         47.08,
         "WF",
         25.0,
         null,
         3700,
         null,
         null,
         50.0,
         "Wallis and Futuna",
         null,
         70.0,
         118.6,
         58.5,
         16025,
         "OCEANIA",
         null
        ],
        [
         0.114,
         21.2,
         2944,
         16.43,
         2.0,
         13.69,
         "WS",
         24.38,
         6.62,
         5600,
         0.584,
         27.71,
         99.7,
         "Samoa",
         -11.7,
         54.42,
         75.2,
         60.1,
         176908,
         "OCEANIA",
         0.302
        ],
        [
         0.135,
         2.78,
         527970,
         42.89,
         1.0,
         0.36,
         "YE",
         0.24,
         8.3,
         800,
         0.472,
         61.5,
         50.2,
         "Yemen",
         0.0,
         96.98,
         37.2,
         40.6,
         21456188,
         "NEAR EAST",
         0.393
        ],
        [
         null,
         null,
         374,
         40.95,
         2.0,
         49.52,
         "YT",
         null,
         7.7,
         2600,
         null,
         62.4,
         null,
         "Mayotte",
         6.78,
         null,
         49.7,
         538.1,
         201234,
         "SUB-SAHARAN AFRICA",
         null
        ],
        [
         0.025,
         12.08,
         1219912,
         18.2,
         1.0,
         0.23,
         "ZA",
         0.79,
         22.0,
         10700,
         0.303,
         61.81,
         86.4,
         "South Africa",
         -0.29,
         87.13,
         107.0,
         36.2,
         44187637,
         "SUB-SAHARAN AFRICA",
         0.671
        ],
        [
         0.22,
         7.08,
         752614,
         41.0,
         2.0,
         0.0,
         "ZM",
         0.03,
         19.93,
         800,
         0.29,
         88.29,
         80.6,
         "Zambia",
         0.0,
         92.9,
         8.2,
         15.3,
         11502010,
         "SUB-SAHARAN AFRICA",
         0.489
        ],
        [
         0.179,
         8.32,
         390580,
         28.01,
         2.0,
         0.0,
         "ZW",
         0.34,
         21.84,
         1900,
         0.243,
         67.69,
         90.7,
         "Zimbabwe",
         0.0,
         91.34,
         26.8,
         31.3,
         12236805,
         "SUB-SAHARAN AFRICA",
         0.579
        ]
       ],
       "datasetInfos": [],
       "dbfsResultPath": null,
       "isJsonSchema": true,
       "metadata": {},
       "overflow": false,
       "plotOptions": {
        "customPlotOptions": {},
        "displayType": "table",
        "pivotAggregation": null,
        "pivotColumns": null,
        "xColumns": null,
        "yColumns": null
       },
       "removedWidgets": [],
       "schema": [
        {
         "metadata": "{}",
         "name": "Agriculture",
         "type": "\"double\""
        },
        {
         "metadata": "{}",
         "name": "Arable (%)",
         "type": "\"double\""
        },
        {
         "metadata": "{}",
         "name": "Area (sq. mi.)",
         "type": "\"long\""
        },
        {
         "metadata": "{}",
         "name": "Birthrate",
         "type": "\"double\""
        },
        {
         "metadata": "{}",
         "name": "Climate",
         "type": "\"double\""
        },
        {
         "metadata": "{}",
         "name": "Coastline (coast per area ratio)",
         "type": "\"double\""
        },
        {
         "metadata": "{}",
         "name": "Country",
         "type": "\"string\""
        },
        {
         "metadata": "{}",
         "name": "Crops (%)",
         "type": "\"double\""
        },
        {
         "metadata": "{}",
         "name": "Deathrate",
         "type": "\"double\""
        },
        {
         "metadata": "{}",
         "name": "GDP ($ per capita)",
         "type": "\"long\""
        },
        {
         "metadata": "{}",
         "name": "Industry",
         "type": "\"double\""
        },
        {
         "metadata": "{}",
         "name": "Infant mortality (per 1000 births)",
         "type": "\"double\""
        },
        {
         "metadata": "{}",
         "name": "Literacy (%)",
         "type": "\"double\""
        },
        {
         "metadata": "{}",
         "name": "Name",
         "type": "\"string\""
        },
        {
         "metadata": "{}",
         "name": "Net migration",
         "type": "\"double\""
        },
        {
         "metadata": "{}",
         "name": "Other (%)",
         "type": "\"double\""
        },
        {
         "metadata": "{}",
         "name": "Phones (per 1000)",
         "type": "\"double\""
        },
        {
         "metadata": "{}",
         "name": "Pop. Density (per sq. mi.)",
         "type": "\"double\""
        },
        {
         "metadata": "{}",
         "name": "Population",
         "type": "\"long\""
        },
        {
         "metadata": "{}",
         "name": "Region",
         "type": "\"string\""
        },
        {
         "metadata": "{}",
         "name": "Service",
         "type": "\"double\""
        }
       ],
       "type": "table"
      }
     },
     "output_type": "display_data"
    }
   ],
   "source": [
    "%sql\n",
    "-- Just in case we need\n",
    "SELECT*\n",
    "FROM Countries;"
   ]
  },
  {
   "cell_type": "code",
   "execution_count": 0,
   "metadata": {
    "application/vnd.databricks.v1+cell": {
     "cellMetadata": {
      "byteLimit": 2048000,
      "implicitDf": true,
      "rowLimit": 10000
     },
     "inputWidgets": {},
     "nuid": "a0f13cd9-4ee1-4c6c-bb64-702a7057318b",
     "showTitle": false,
     "title": ""
    }
   },
   "outputs": [
    {
     "output_type": "display_data",
     "data": {
      "text/html": [
       "<style scoped>\n",
       "  .table-result-container {\n",
       "    max-height: 300px;\n",
       "    overflow: auto;\n",
       "  }\n",
       "  table, th, td {\n",
       "    border: 1px solid black;\n",
       "    border-collapse: collapse;\n",
       "  }\n",
       "  th, td {\n",
       "    padding: 5px;\n",
       "  }\n",
       "  th {\n",
       "    text-align: left;\n",
       "  }\n",
       "</style><div class='table-result-container'><table class='table-result'><thead style='background-color: white'><tr><th>Count</th></tr></thead><tbody><tr><td>224</td></tr></tbody></table></div>"
      ]
     },
     "metadata": {
      "application/vnd.databricks.v1+output": {
       "addedWidgets": {},
       "aggData": [],
       "aggError": "",
       "aggOverflow": false,
       "aggSchema": [],
       "aggSeriesLimitReached": false,
       "aggType": "",
       "arguments": {},
       "columnCustomDisplayInfos": {},
       "data": [
        [
         224
        ]
       ],
       "datasetInfos": [],
       "dbfsResultPath": null,
       "isJsonSchema": true,
       "metadata": {},
       "overflow": false,
       "plotOptions": {
        "customPlotOptions": {},
        "displayType": "table",
        "pivotAggregation": null,
        "pivotColumns": null,
        "xColumns": null,
        "yColumns": null
       },
       "removedWidgets": [],
       "schema": [
        {
         "metadata": "{}",
         "name": "Count",
         "type": "\"long\""
        }
       ],
       "type": "table"
      }
     },
     "output_type": "display_data"
    }
   ],
   "source": [
    "%sql\n",
    "-- How many unique countries are there in the dataset?\n",
    "SELECT count(DISTINCT name) as Count \n",
    "FROM Countries"
   ]
  },
  {
   "cell_type": "code",
   "execution_count": 0,
   "metadata": {
    "application/vnd.databricks.v1+cell": {
     "cellMetadata": {
      "byteLimit": 2048000,
      "implicitDf": true,
      "rowLimit": 10000
     },
     "inputWidgets": {},
     "nuid": "da565d54-d463-467d-82b6-18a0784a5a00",
     "showTitle": false,
     "title": ""
    }
   },
   "outputs": [
    {
     "output_type": "display_data",
     "data": {
      "text/html": [
       "<style scoped>\n",
       "  .table-result-container {\n",
       "    max-height: 300px;\n",
       "    overflow: auto;\n",
       "  }\n",
       "  table, th, td {\n",
       "    border: 1px solid black;\n",
       "    border-collapse: collapse;\n",
       "  }\n",
       "  th, td {\n",
       "    padding: 5px;\n",
       "  }\n",
       "  th {\n",
       "    text-align: left;\n",
       "  }\n",
       "</style><div class='table-result-container'><table class='table-result'><thead style='background-color: white'><tr><th>count(Name)</th></tr></thead><tbody><tr><td>47</td></tr></tbody></table></div>"
      ]
     },
     "metadata": {
      "application/vnd.databricks.v1+output": {
       "addedWidgets": {},
       "aggData": [],
       "aggError": "",
       "aggOverflow": false,
       "aggSchema": [],
       "aggSeriesLimitReached": false,
       "aggType": "",
       "arguments": {},
       "columnCustomDisplayInfos": {},
       "data": [
        [
         47
        ]
       ],
       "datasetInfos": [],
       "dbfsResultPath": null,
       "isJsonSchema": true,
       "metadata": {},
       "overflow": false,
       "plotOptions": {
        "customPlotOptions": {},
        "displayType": "table",
        "pivotAggregation": null,
        "pivotColumns": null,
        "xColumns": null,
        "yColumns": null
       },
       "removedWidgets": [],
       "schema": [
        {
         "metadata": "{\"__autoGeneratedAlias\":\"true\"}",
         "name": "count(Name)",
         "type": "\"long\""
        }
       ],
       "type": "table"
      }
     },
     "output_type": "display_data"
    }
   ],
   "source": [
    "%sql\n",
    "-- How many countries have the letter C (case-insensitive) in the name?\n",
    "SELECT COUNT(name)\n",
    "FROM Countries\n",
    "WHERE lower(name) LIKE lower(\"%C%\")"
   ]
  },
  {
   "cell_type": "code",
   "execution_count": 0,
   "metadata": {
    "application/vnd.databricks.v1+cell": {
     "cellMetadata": {
      "byteLimit": 2048000,
      "implicitDf": true,
      "rowLimit": 10000
     },
     "inputWidgets": {},
     "nuid": "aad7db40-99a2-419e-aa89-46d750466f6d",
     "showTitle": false,
     "title": ""
    }
   },
   "outputs": [
    {
     "output_type": "display_data",
     "data": {
      "text/html": [
       "<style scoped>\n",
       "  .table-result-container {\n",
       "    max-height: 300px;\n",
       "    overflow: auto;\n",
       "  }\n",
       "  table, th, td {\n",
       "    border: 1px solid black;\n",
       "    border-collapse: collapse;\n",
       "  }\n",
       "  th, td {\n",
       "    padding: 5px;\n",
       "  }\n",
       "  th {\n",
       "    text-align: left;\n",
       "  }\n",
       "</style><div class='table-result-container'><table class='table-result'><thead style='background-color: white'><tr><th>count(DISTINCT NAME)</th></tr></thead><tbody><tr><td>350</td></tr></tbody></table></div>"
      ]
     },
     "metadata": {
      "application/vnd.databricks.v1+output": {
       "addedWidgets": {},
       "aggData": [],
       "aggError": "",
       "aggOverflow": false,
       "aggSchema": [],
       "aggSeriesLimitReached": false,
       "aggType": "",
       "arguments": {},
       "columnCustomDisplayInfos": {},
       "data": [
        [
         350
        ]
       ],
       "datasetInfos": [],
       "dbfsResultPath": null,
       "isJsonSchema": true,
       "metadata": {},
       "overflow": false,
       "plotOptions": {
        "customPlotOptions": {},
        "displayType": "table",
        "pivotAggregation": null,
        "pivotColumns": null,
        "xColumns": null,
        "yColumns": null
       },
       "removedWidgets": [],
       "schema": [
        {
         "metadata": "{\"__autoGeneratedAlias\":\"true\"}",
         "name": "count(DISTINCT NAME)",
         "type": "\"long\""
        }
       ],
       "type": "table"
      }
     },
     "output_type": "display_data"
    }
   ],
   "source": [
    "%sql\n",
    "-- How many customers do NOT belong to the WESTERN EUROPE region? Use the customer Country field and reference (join with...) the master data for countries.\n",
    "SELECT COUNT(DISTINCT C.name)\n",
    "FROM Customers  as C\n",
    "JOIN Countries CO ON C.country = CO.country\n",
    "WHERE CO.region <> 'WESTERN EUROPE';"
   ]
  },
  {
   "cell_type": "code",
   "execution_count": 0,
   "metadata": {
    "application/vnd.databricks.v1+cell": {
     "cellMetadata": {
      "byteLimit": 2048000,
      "implicitDf": true,
      "rowLimit": 10000
     },
     "inputWidgets": {},
     "nuid": "b8ebd52a-b668-4a42-9ce8-a5b4e1694d9b",
     "showTitle": false,
     "title": ""
    }
   },
   "outputs": [
    {
     "output_type": "display_data",
     "data": {
      "text/html": [
       "<style scoped>\n",
       "  .table-result-container {\n",
       "    max-height: 300px;\n",
       "    overflow: auto;\n",
       "  }\n",
       "  table, th, td {\n",
       "    border: 1px solid black;\n",
       "    border-collapse: collapse;\n",
       "  }\n",
       "  th, td {\n",
       "    padding: 5px;\n",
       "  }\n",
       "  th {\n",
       "    text-align: left;\n",
       "  }\n",
       "</style><div class='table-result-container'><table class='table-result'><thead style='background-color: white'><tr><th>longest_name</th></tr></thead><tbody><tr><td>32</td></tr></tbody></table></div>"
      ]
     },
     "metadata": {
      "application/vnd.databricks.v1+output": {
       "addedWidgets": {},
       "aggData": [],
       "aggError": "",
       "aggOverflow": false,
       "aggSchema": [],
       "aggSeriesLimitReached": false,
       "aggType": "",
       "arguments": {},
       "columnCustomDisplayInfos": {},
       "data": [
        [
         32
        ]
       ],
       "datasetInfos": [],
       "dbfsResultPath": null,
       "isJsonSchema": true,
       "metadata": {},
       "overflow": false,
       "plotOptions": {
        "customPlotOptions": {},
        "displayType": "table",
        "pivotAggregation": null,
        "pivotColumns": null,
        "xColumns": null,
        "yColumns": null
       },
       "removedWidgets": [],
       "schema": [
        {
         "metadata": "{}",
         "name": "longest_name",
         "type": "\"integer\""
        }
       ],
       "type": "table"
      }
     },
     "output_type": "display_data"
    }
   ],
   "source": [
    "%sql\n",
    "-- Looking at data in the course example, what is the number of characters in the longest country’s name?\n",
    "SELECT MAX(LENGTH(name)) AS longest_name\n",
    "FROM Countries;"
   ]
  },
  {
   "cell_type": "code",
   "execution_count": 0,
   "metadata": {
    "application/vnd.databricks.v1+cell": {
     "cellMetadata": {
      "byteLimit": 2048000,
      "implicitDf": true,
      "rowLimit": 10000
     },
     "inputWidgets": {},
     "nuid": "a2fded3f-0a65-447a-9274-fcecbf046d8a",
     "showTitle": false,
     "title": ""
    }
   },
   "outputs": [
    {
     "output_type": "display_data",
     "data": {
      "text/html": [
       "<style scoped>\n",
       "  .table-result-container {\n",
       "    max-height: 300px;\n",
       "    overflow: auto;\n",
       "  }\n",
       "  table, th, td {\n",
       "    border: 1px solid black;\n",
       "    border-collapse: collapse;\n",
       "  }\n",
       "  th, td {\n",
       "    padding: 5px;\n",
       "  }\n",
       "  th {\n",
       "    text-align: left;\n",
       "  }\n",
       "</style><div class='table-result-container'><table class='table-result'><thead style='background-color: white'><tr><th>region</th><th>count</th></tr></thead><tbody><tr><td>SUB-SAHARAN AFRICA</td><td>51</td></tr><tr><td>LATIN AMER. & CARIB</td><td>45</td></tr><tr><td>WESTERN EUROPE</td><td>28</td></tr><tr><td>ASIA (EX. NEAR EAST)</td><td>26</td></tr><tr><td>OCEANIA</td><td>21</td></tr><tr><td>NEAR EAST</td><td>15</td></tr><tr><td>C.W. OF IND. STATES</td><td>12</td></tr><tr><td>EASTERN EUROPE</td><td>12</td></tr><tr><td>NORTHERN AFRICA</td><td>6</td></tr><tr><td>NORTHERN AMERICA</td><td>5</td></tr><tr><td>BALTICS</td><td>3</td></tr></tbody></table></div>"
      ]
     },
     "metadata": {
      "application/vnd.databricks.v1+output": {
       "addedWidgets": {},
       "aggData": [],
       "aggError": "",
       "aggOverflow": false,
       "aggSchema": [],
       "aggSeriesLimitReached": false,
       "aggType": "",
       "arguments": {},
       "columnCustomDisplayInfos": {},
       "data": [
        [
         "SUB-SAHARAN AFRICA",
         51
        ],
        [
         "LATIN AMER. & CARIB",
         45
        ],
        [
         "WESTERN EUROPE",
         28
        ],
        [
         "ASIA (EX. NEAR EAST)",
         26
        ],
        [
         "OCEANIA",
         21
        ],
        [
         "NEAR EAST",
         15
        ],
        [
         "C.W. OF IND. STATES",
         12
        ],
        [
         "EASTERN EUROPE",
         12
        ],
        [
         "NORTHERN AFRICA",
         6
        ],
        [
         "NORTHERN AMERICA",
         5
        ],
        [
         "BALTICS",
         3
        ]
       ],
       "datasetInfos": [],
       "dbfsResultPath": null,
       "isJsonSchema": true,
       "metadata": {},
       "overflow": false,
       "plotOptions": {
        "customPlotOptions": {},
        "displayType": "table",
        "pivotAggregation": null,
        "pivotColumns": null,
        "xColumns": null,
        "yColumns": null
       },
       "removedWidgets": [],
       "schema": [
        {
         "metadata": "{}",
         "name": "region",
         "type": "\"string\""
        },
        {
         "metadata": "{}",
         "name": "count",
         "type": "\"long\""
        }
       ],
       "type": "table"
      }
     },
     "output_type": "display_data"
    }
   ],
   "source": [
    "%sql\n",
    "-- Which region has the most countries in it?\n",
    "SELECT region, COUNT(*) as count\n",
    "FROM Countries\n",
    "GROUP BY region\n",
    "ORDER BY count DESC\n",
    "--LIMIT 1;"
   ]
  },
  {
   "cell_type": "code",
   "execution_count": 0,
   "metadata": {
    "application/vnd.databricks.v1+cell": {
     "cellMetadata": {
      "byteLimit": 2048000,
      "implicitDf": true,
      "rowLimit": 10000
     },
     "inputWidgets": {},
     "nuid": "cc6318a1-4bac-4d70-943f-e6a42a177067",
     "showTitle": false,
     "title": ""
    }
   },
   "outputs": [
    {
     "output_type": "display_data",
     "data": {
      "text/html": [
       "<style scoped>\n",
       "  .table-result-container {\n",
       "    max-height: 300px;\n",
       "    overflow: auto;\n",
       "  }\n",
       "  table, th, td {\n",
       "    border: 1px solid black;\n",
       "    border-collapse: collapse;\n",
       "  }\n",
       "  th, td {\n",
       "    padding: 5px;\n",
       "  }\n",
       "  th {\n",
       "    text-align: left;\n",
       "  }\n",
       "</style><div class='table-result-container'><table class='table-result'><thead style='background-color: white'><tr><th>count(DISTINCT NAME)</th></tr></thead><tbody><tr><td>36</td></tr></tbody></table></div>"
      ]
     },
     "metadata": {
      "application/vnd.databricks.v1+output": {
       "addedWidgets": {},
       "aggData": [],
       "aggError": "",
       "aggOverflow": false,
       "aggSchema": [],
       "aggSeriesLimitReached": false,
       "aggType": "",
       "arguments": {},
       "columnCustomDisplayInfos": {},
       "data": [
        [
         36
        ]
       ],
       "datasetInfos": [],
       "dbfsResultPath": null,
       "isJsonSchema": true,
       "metadata": {},
       "overflow": false,
       "plotOptions": {
        "customPlotOptions": {},
        "displayType": "table",
        "pivotAggregation": null,
        "pivotColumns": null,
        "xColumns": null,
        "yColumns": null
       },
       "removedWidgets": [],
       "schema": [
        {
         "metadata": "{\"__autoGeneratedAlias\":\"true\"}",
         "name": "count(DISTINCT NAME)",
         "type": "\"long\""
        }
       ],
       "type": "table"
      }
     },
     "output_type": "display_data"
    }
   ],
   "source": [
    "%sql\n",
    "-- How many Customers belong to the OCEANIA region? Use the customer Country field and reference (join with...) the master data for countries.\n",
    "SELECT COUNT(DISTINCT C.name)\n",
    "FROM Customers  as C\n",
    "JOIN Countries CO ON C.Country = CO.Country\n",
    "WHERE CO.Region = 'OCEANIA';"
   ]
  },
  {
   "cell_type": "code",
   "execution_count": 0,
   "metadata": {
    "application/vnd.databricks.v1+cell": {
     "cellMetadata": {
      "byteLimit": 2048000,
      "implicitDf": true,
      "rowLimit": 10000
     },
     "inputWidgets": {},
     "nuid": "2697833e-a9b0-45a9-a594-ab89c10f4a2f",
     "showTitle": false,
     "title": ""
    }
   },
   "outputs": [
    {
     "output_type": "display_data",
     "data": {
      "text/html": [
       "<style scoped>\n",
       "  .table-result-container {\n",
       "    max-height: 300px;\n",
       "    overflow: auto;\n",
       "  }\n",
       "  table, th, td {\n",
       "    border: 1px solid black;\n",
       "    border-collapse: collapse;\n",
       "  }\n",
       "  th, td {\n",
       "    padding: 5px;\n",
       "  }\n",
       "  th {\n",
       "    text-align: left;\n",
       "  }\n",
       "</style><div class='table-result-container'><table class='table-result'><thead style='background-color: white'><tr><th>name</th></tr></thead><tbody><tr><td>Afghanistan</td></tr><tr><td>Albania</td></tr><tr><td>Algeria</td></tr><tr><td>American Samoa</td></tr><tr><td>Andorra</td></tr><tr><td>Angola</td></tr><tr><td>Anguilla</td></tr><tr><td>Antigua & Barbuda</td></tr><tr><td>Argentina</td></tr><tr><td>Armenia</td></tr><tr><td>Aruba</td></tr><tr><td>Australia</td></tr><tr><td>Austria</td></tr><tr><td>Azerbaijan</td></tr><tr><td>Bahamas, The</td></tr><tr><td>Bahrain</td></tr><tr><td>Bangladesh</td></tr><tr><td>Barbados</td></tr><tr><td>Belarus</td></tr><tr><td>Belgium</td></tr><tr><td>Belize</td></tr><tr><td>Benin</td></tr><tr><td>Bermuda</td></tr><tr><td>Bhutan</td></tr><tr><td>Bolivia</td></tr><tr><td>Bosnia & Herzegovina</td></tr><tr><td>Botswana</td></tr><tr><td>Brazil</td></tr><tr><td>British Virgin Is.</td></tr><tr><td>Brunei</td></tr><tr><td>Bulgaria</td></tr><tr><td>Burkina Faso</td></tr><tr><td>Burundi</td></tr><tr><td>Cambodia</td></tr><tr><td>Cameroon</td></tr><tr><td>Canada</td></tr><tr><td>Cape Verde</td></tr><tr><td>Cayman Islands</td></tr><tr><td>Central African Rep.</td></tr><tr><td>Chad</td></tr><tr><td>Chile</td></tr><tr><td>China</td></tr><tr><td>Colombia</td></tr><tr><td>Comoros</td></tr><tr><td>Congo, Dem. Rep.</td></tr><tr><td>Congo, Repub. of the</td></tr><tr><td>Cook Islands</td></tr><tr><td>Costa Rica</td></tr><tr><td>Cote d'Ivoire</td></tr><tr><td>Croatia</td></tr><tr><td>Cuba</td></tr><tr><td>Cyprus</td></tr><tr><td>Czech Republic</td></tr><tr><td>Denmark</td></tr><tr><td>Djibouti</td></tr><tr><td>Dominica</td></tr><tr><td>Dominican Republic</td></tr><tr><td>Ecuador</td></tr><tr><td>Egypt</td></tr><tr><td>El Salvador</td></tr><tr><td>Equatorial Guinea</td></tr><tr><td>Eritrea</td></tr><tr><td>Estonia</td></tr><tr><td>Ethiopia</td></tr><tr><td>Faroe Islands</td></tr><tr><td>Fiji</td></tr><tr><td>Finland</td></tr><tr><td>France</td></tr><tr><td>French Guiana</td></tr><tr><td>French Polynesia</td></tr><tr><td>Gabon</td></tr><tr><td>Gambia, The</td></tr><tr><td>Gaza Strip</td></tr><tr><td>Georgia</td></tr><tr><td>Germany</td></tr><tr><td>Ghana</td></tr><tr><td>Gibraltar</td></tr><tr><td>Greece</td></tr><tr><td>Greenland</td></tr><tr><td>Grenada</td></tr><tr><td>Guadeloupe</td></tr><tr><td>Guam</td></tr><tr><td>Guatemala</td></tr><tr><td>Guernsey</td></tr><tr><td>Guinea</td></tr><tr><td>Guinea-Bissau</td></tr><tr><td>Guyana</td></tr><tr><td>Haiti</td></tr><tr><td>Honduras</td></tr><tr><td>Hong Kong</td></tr><tr><td>Hungary</td></tr><tr><td>Iceland</td></tr><tr><td>India</td></tr><tr><td>Indonesia</td></tr><tr><td>Iran</td></tr><tr><td>Iraq</td></tr><tr><td>Ireland</td></tr><tr><td>Isle of Man</td></tr><tr><td>Israel</td></tr><tr><td>Italy</td></tr><tr><td>Jamaica</td></tr><tr><td>Japan</td></tr><tr><td>Jersey</td></tr><tr><td>Jordan</td></tr><tr><td>Kazakhstan</td></tr><tr><td>Kenya</td></tr><tr><td>Kiribati</td></tr><tr><td>Korea, North</td></tr><tr><td>Korea, South</td></tr><tr><td>Kuwait</td></tr><tr><td>Kyrgyzstan</td></tr><tr><td>Laos</td></tr><tr><td>Latvia</td></tr><tr><td>Lebanon</td></tr><tr><td>Lesotho</td></tr><tr><td>Liberia</td></tr><tr><td>Libya</td></tr><tr><td>Liechtenstein</td></tr><tr><td>Lithuania</td></tr><tr><td>Luxembourg</td></tr><tr><td>Macau</td></tr><tr><td>Macedonia</td></tr><tr><td>Madagascar</td></tr><tr><td>Malawi</td></tr><tr><td>Malaysia</td></tr><tr><td>Maldives</td></tr><tr><td>Mali</td></tr><tr><td>Malta</td></tr><tr><td>Marshall Islands</td></tr><tr><td>Martinique</td></tr><tr><td>Mauritania</td></tr><tr><td>Mauritius</td></tr><tr><td>Mayotte</td></tr><tr><td>Mexico</td></tr><tr><td>Micronesia, Fed. St.</td></tr><tr><td>Moldova</td></tr><tr><td>Monaco</td></tr><tr><td>Mongolia</td></tr><tr><td>Montserrat</td></tr><tr><td>Morocco</td></tr><tr><td>Mozambique</td></tr><tr><td>N. Mariana Islands</td></tr><tr><td>Namibia</td></tr><tr><td>Nauru</td></tr><tr><td>Nepal</td></tr><tr><td>Netherlands</td></tr><tr><td>Netherlands Antilles</td></tr><tr><td>New Caledonia</td></tr><tr><td>New Zealand</td></tr><tr><td>Nicaragua</td></tr><tr><td>Niger</td></tr><tr><td>Nigeria</td></tr><tr><td>Norway</td></tr><tr><td>Oman</td></tr><tr><td>Pakistan</td></tr><tr><td>Palau</td></tr><tr><td>Panama</td></tr><tr><td>Papua New Guinea</td></tr><tr><td>Paraguay</td></tr><tr><td>Peru</td></tr><tr><td>Philippines</td></tr><tr><td>Poland</td></tr><tr><td>Portugal</td></tr><tr><td>Puerto Rico</td></tr><tr><td>Qatar</td></tr><tr><td>Reunion</td></tr><tr><td>Romania</td></tr><tr><td>Russia</td></tr><tr><td>Rwanda</td></tr><tr><td>Saint Helena</td></tr><tr><td>Saint Kitts & Nevis</td></tr><tr><td>Saint Lucia</td></tr><tr><td>Saint Vincent and the Grenadines</td></tr><tr><td>Samoa</td></tr><tr><td>San Marino</td></tr><tr><td>Sao Tome & Principe</td></tr><tr><td>Saudi Arabia</td></tr><tr><td>Senegal</td></tr><tr><td>Serbia</td></tr><tr><td>Seychelles</td></tr><tr><td>Sierra Leone</td></tr><tr><td>Singapore</td></tr><tr><td>Slovakia</td></tr><tr><td>Slovenia</td></tr><tr><td>Solomon Islands</td></tr><tr><td>Somalia</td></tr><tr><td>South Africa</td></tr><tr><td>Spain</td></tr><tr><td>Sri Lanka</td></tr><tr><td>St Pierre & Miquelon</td></tr><tr><td>Sudan</td></tr><tr><td>Suriname</td></tr><tr><td>Swaziland</td></tr><tr><td>Sweden</td></tr><tr><td>Switzerland</td></tr><tr><td>Syria</td></tr><tr><td>Taiwan</td></tr><tr><td>Tajikistan</td></tr><tr><td>Tanzania</td></tr><tr><td>Thailand</td></tr><tr><td>Togo</td></tr><tr><td>Tonga</td></tr><tr><td>Trinidad & Tobago</td></tr><tr><td>Tunisia</td></tr><tr><td>Turkey</td></tr><tr><td>Turkmenistan</td></tr><tr><td>Turks & Caicos Is</td></tr><tr><td>Tuvalu</td></tr><tr><td>Uganda</td></tr><tr><td>Ukraine</td></tr><tr><td>United Arab Emirates</td></tr><tr><td>United Kingdom</td></tr><tr><td>United States</td></tr><tr><td>Uruguay</td></tr><tr><td>Uzbekistan</td></tr><tr><td>Vanuatu</td></tr><tr><td>Venezuela</td></tr><tr><td>Vietnam</td></tr><tr><td>Virgin Islands</td></tr><tr><td>Wallis and Futuna</td></tr><tr><td>Western Sahara</td></tr><tr><td>Yemen</td></tr><tr><td>Zambia</td></tr><tr><td>Zimbabwe</td></tr></tbody></table></div>"
      ]
     },
     "metadata": {
      "application/vnd.databricks.v1+output": {
       "addedWidgets": {},
       "aggData": [],
       "aggError": "",
       "aggOverflow": false,
       "aggSchema": [],
       "aggSeriesLimitReached": false,
       "aggType": "",
       "arguments": {},
       "columnCustomDisplayInfos": {},
       "data": [
        [
         "Afghanistan"
        ],
        [
         "Albania"
        ],
        [
         "Algeria"
        ],
        [
         "American Samoa"
        ],
        [
         "Andorra"
        ],
        [
         "Angola"
        ],
        [
         "Anguilla"
        ],
        [
         "Antigua & Barbuda"
        ],
        [
         "Argentina"
        ],
        [
         "Armenia"
        ],
        [
         "Aruba"
        ],
        [
         "Australia"
        ],
        [
         "Austria"
        ],
        [
         "Azerbaijan"
        ],
        [
         "Bahamas, The"
        ],
        [
         "Bahrain"
        ],
        [
         "Bangladesh"
        ],
        [
         "Barbados"
        ],
        [
         "Belarus"
        ],
        [
         "Belgium"
        ],
        [
         "Belize"
        ],
        [
         "Benin"
        ],
        [
         "Bermuda"
        ],
        [
         "Bhutan"
        ],
        [
         "Bolivia"
        ],
        [
         "Bosnia & Herzegovina"
        ],
        [
         "Botswana"
        ],
        [
         "Brazil"
        ],
        [
         "British Virgin Is."
        ],
        [
         "Brunei"
        ],
        [
         "Bulgaria"
        ],
        [
         "Burkina Faso"
        ],
        [
         "Burundi"
        ],
        [
         "Cambodia"
        ],
        [
         "Cameroon"
        ],
        [
         "Canada"
        ],
        [
         "Cape Verde"
        ],
        [
         "Cayman Islands"
        ],
        [
         "Central African Rep."
        ],
        [
         "Chad"
        ],
        [
         "Chile"
        ],
        [
         "China"
        ],
        [
         "Colombia"
        ],
        [
         "Comoros"
        ],
        [
         "Congo, Dem. Rep."
        ],
        [
         "Congo, Repub. of the"
        ],
        [
         "Cook Islands"
        ],
        [
         "Costa Rica"
        ],
        [
         "Cote d'Ivoire"
        ],
        [
         "Croatia"
        ],
        [
         "Cuba"
        ],
        [
         "Cyprus"
        ],
        [
         "Czech Republic"
        ],
        [
         "Denmark"
        ],
        [
         "Djibouti"
        ],
        [
         "Dominica"
        ],
        [
         "Dominican Republic"
        ],
        [
         "Ecuador"
        ],
        [
         "Egypt"
        ],
        [
         "El Salvador"
        ],
        [
         "Equatorial Guinea"
        ],
        [
         "Eritrea"
        ],
        [
         "Estonia"
        ],
        [
         "Ethiopia"
        ],
        [
         "Faroe Islands"
        ],
        [
         "Fiji"
        ],
        [
         "Finland"
        ],
        [
         "France"
        ],
        [
         "French Guiana"
        ],
        [
         "French Polynesia"
        ],
        [
         "Gabon"
        ],
        [
         "Gambia, The"
        ],
        [
         "Gaza Strip"
        ],
        [
         "Georgia"
        ],
        [
         "Germany"
        ],
        [
         "Ghana"
        ],
        [
         "Gibraltar"
        ],
        [
         "Greece"
        ],
        [
         "Greenland"
        ],
        [
         "Grenada"
        ],
        [
         "Guadeloupe"
        ],
        [
         "Guam"
        ],
        [
         "Guatemala"
        ],
        [
         "Guernsey"
        ],
        [
         "Guinea"
        ],
        [
         "Guinea-Bissau"
        ],
        [
         "Guyana"
        ],
        [
         "Haiti"
        ],
        [
         "Honduras"
        ],
        [
         "Hong Kong"
        ],
        [
         "Hungary"
        ],
        [
         "Iceland"
        ],
        [
         "India"
        ],
        [
         "Indonesia"
        ],
        [
         "Iran"
        ],
        [
         "Iraq"
        ],
        [
         "Ireland"
        ],
        [
         "Isle of Man"
        ],
        [
         "Israel"
        ],
        [
         "Italy"
        ],
        [
         "Jamaica"
        ],
        [
         "Japan"
        ],
        [
         "Jersey"
        ],
        [
         "Jordan"
        ],
        [
         "Kazakhstan"
        ],
        [
         "Kenya"
        ],
        [
         "Kiribati"
        ],
        [
         "Korea, North"
        ],
        [
         "Korea, South"
        ],
        [
         "Kuwait"
        ],
        [
         "Kyrgyzstan"
        ],
        [
         "Laos"
        ],
        [
         "Latvia"
        ],
        [
         "Lebanon"
        ],
        [
         "Lesotho"
        ],
        [
         "Liberia"
        ],
        [
         "Libya"
        ],
        [
         "Liechtenstein"
        ],
        [
         "Lithuania"
        ],
        [
         "Luxembourg"
        ],
        [
         "Macau"
        ],
        [
         "Macedonia"
        ],
        [
         "Madagascar"
        ],
        [
         "Malawi"
        ],
        [
         "Malaysia"
        ],
        [
         "Maldives"
        ],
        [
         "Mali"
        ],
        [
         "Malta"
        ],
        [
         "Marshall Islands"
        ],
        [
         "Martinique"
        ],
        [
         "Mauritania"
        ],
        [
         "Mauritius"
        ],
        [
         "Mayotte"
        ],
        [
         "Mexico"
        ],
        [
         "Micronesia, Fed. St."
        ],
        [
         "Moldova"
        ],
        [
         "Monaco"
        ],
        [
         "Mongolia"
        ],
        [
         "Montserrat"
        ],
        [
         "Morocco"
        ],
        [
         "Mozambique"
        ],
        [
         "N. Mariana Islands"
        ],
        [
         "Namibia"
        ],
        [
         "Nauru"
        ],
        [
         "Nepal"
        ],
        [
         "Netherlands"
        ],
        [
         "Netherlands Antilles"
        ],
        [
         "New Caledonia"
        ],
        [
         "New Zealand"
        ],
        [
         "Nicaragua"
        ],
        [
         "Niger"
        ],
        [
         "Nigeria"
        ],
        [
         "Norway"
        ],
        [
         "Oman"
        ],
        [
         "Pakistan"
        ],
        [
         "Palau"
        ],
        [
         "Panama"
        ],
        [
         "Papua New Guinea"
        ],
        [
         "Paraguay"
        ],
        [
         "Peru"
        ],
        [
         "Philippines"
        ],
        [
         "Poland"
        ],
        [
         "Portugal"
        ],
        [
         "Puerto Rico"
        ],
        [
         "Qatar"
        ],
        [
         "Reunion"
        ],
        [
         "Romania"
        ],
        [
         "Russia"
        ],
        [
         "Rwanda"
        ],
        [
         "Saint Helena"
        ],
        [
         "Saint Kitts & Nevis"
        ],
        [
         "Saint Lucia"
        ],
        [
         "Saint Vincent and the Grenadines"
        ],
        [
         "Samoa"
        ],
        [
         "San Marino"
        ],
        [
         "Sao Tome & Principe"
        ],
        [
         "Saudi Arabia"
        ],
        [
         "Senegal"
        ],
        [
         "Serbia"
        ],
        [
         "Seychelles"
        ],
        [
         "Sierra Leone"
        ],
        [
         "Singapore"
        ],
        [
         "Slovakia"
        ],
        [
         "Slovenia"
        ],
        [
         "Solomon Islands"
        ],
        [
         "Somalia"
        ],
        [
         "South Africa"
        ],
        [
         "Spain"
        ],
        [
         "Sri Lanka"
        ],
        [
         "St Pierre & Miquelon"
        ],
        [
         "Sudan"
        ],
        [
         "Suriname"
        ],
        [
         "Swaziland"
        ],
        [
         "Sweden"
        ],
        [
         "Switzerland"
        ],
        [
         "Syria"
        ],
        [
         "Taiwan"
        ],
        [
         "Tajikistan"
        ],
        [
         "Tanzania"
        ],
        [
         "Thailand"
        ],
        [
         "Togo"
        ],
        [
         "Tonga"
        ],
        [
         "Trinidad & Tobago"
        ],
        [
         "Tunisia"
        ],
        [
         "Turkey"
        ],
        [
         "Turkmenistan"
        ],
        [
         "Turks & Caicos Is"
        ],
        [
         "Tuvalu"
        ],
        [
         "Uganda"
        ],
        [
         "Ukraine"
        ],
        [
         "United Arab Emirates"
        ],
        [
         "United Kingdom"
        ],
        [
         "United States"
        ],
        [
         "Uruguay"
        ],
        [
         "Uzbekistan"
        ],
        [
         "Vanuatu"
        ],
        [
         "Venezuela"
        ],
        [
         "Vietnam"
        ],
        [
         "Virgin Islands"
        ],
        [
         "Wallis and Futuna"
        ],
        [
         "Western Sahara"
        ],
        [
         "Yemen"
        ],
        [
         "Zambia"
        ],
        [
         "Zimbabwe"
        ]
       ],
       "datasetInfos": [],
       "dbfsResultPath": null,
       "isJsonSchema": true,
       "metadata": {},
       "overflow": false,
       "plotOptions": {
        "customPlotOptions": {},
        "displayType": "table",
        "pivotAggregation": null,
        "pivotColumns": null,
        "xColumns": null,
        "yColumns": null
       },
       "removedWidgets": [],
       "schema": [
        {
         "metadata": "{}",
         "name": "name",
         "type": "\"string\""
        }
       ],
       "type": "table"
      }
     },
     "output_type": "display_data"
    }
   ],
   "source": [
    "%sql\n",
    "-- Sort the country data by name. What is the first country to appear?\n",
    "SELECT DISTINCT name\n",
    "FROM Countries  \n",
    "ORDER BY name"
   ]
  },
  {
   "cell_type": "code",
   "execution_count": 0,
   "metadata": {
    "application/vnd.databricks.v1+cell": {
     "cellMetadata": {
      "byteLimit": 2048000,
      "implicitDf": true,
      "rowLimit": 10000
     },
     "inputWidgets": {},
     "nuid": "29ec912a-6a3d-462a-a0a9-8e676ffaaf62",
     "showTitle": false,
     "title": ""
    }
   },
   "outputs": [
    {
     "output_type": "display_data",
     "data": {
      "text/html": [
       "<style scoped>\n",
       "  .table-result-container {\n",
       "    max-height: 300px;\n",
       "    overflow: auto;\n",
       "  }\n",
       "  table, th, td {\n",
       "    border: 1px solid black;\n",
       "    border-collapse: collapse;\n",
       "  }\n",
       "  th, td {\n",
       "    padding: 5px;\n",
       "  }\n",
       "  th {\n",
       "    text-align: left;\n",
       "  }\n",
       "</style><div class='table-result-container'><table class='table-result'><thead style='background-color: white'><tr><th>Difference</th></tr></thead><tbody><tr><td>24</td></tr></tbody></table></div>"
      ]
     },
     "metadata": {
      "application/vnd.databricks.v1+output": {
       "addedWidgets": {},
       "aggData": [],
       "aggError": "",
       "aggOverflow": false,
       "aggSchema": [],
       "aggSeriesLimitReached": false,
       "aggType": "",
       "arguments": {},
       "columnCustomDisplayInfos": {},
       "data": [
        [
         24
        ]
       ],
       "datasetInfos": [],
       "dbfsResultPath": null,
       "isJsonSchema": true,
       "metadata": {},
       "overflow": false,
       "plotOptions": {
        "customPlotOptions": {},
        "displayType": "table",
        "pivotAggregation": null,
        "pivotColumns": null,
        "xColumns": null,
        "yColumns": null
       },
       "removedWidgets": [],
       "schema": [
        {
         "metadata": "{}",
         "name": "Difference",
         "type": "\"long\""
        }
       ],
       "type": "table"
      }
     },
     "output_type": "display_data"
    }
   ],
   "source": [
    "%sql\n",
    "-- What's the difference (mathematical) between the number of countries with lower-case \"s\" in their name and upper-case \"S\" in their name?\n",
    "SELECT \n",
    "  (SELECT COUNT(*) FROM Countries WHERE name LIKE '%s%') -\n",
    "  (SELECT COUNT(*) FROM Countries WHERE name LIKE '%S%') AS Difference;"
   ]
  },
  {
   "cell_type": "code",
   "execution_count": 0,
   "metadata": {
    "application/vnd.databricks.v1+cell": {
     "cellMetadata": {
      "byteLimit": 2048000,
      "implicitDf": true,
      "rowLimit": 10000
     },
     "inputWidgets": {},
     "nuid": "4d330b1d-7139-4707-b0f9-897c5bd11fc9",
     "showTitle": false,
     "title": ""
    }
   },
   "outputs": [
    {
     "output_type": "display_data",
     "data": {
      "text/html": [
       "<style scoped>\n",
       "  .table-result-container {\n",
       "    max-height: 300px;\n",
       "    overflow: auto;\n",
       "  }\n",
       "  table, th, td {\n",
       "    border: 1px solid black;\n",
       "    border-collapse: collapse;\n",
       "  }\n",
       "  th, td {\n",
       "    padding: 5px;\n",
       "  }\n",
       "  th {\n",
       "    text-align: left;\n",
       "  }\n",
       "</style><div class='table-result-container'><table class='table-result'><thead style='background-color: white'><tr><th>Count</th></tr></thead><tbody><tr><td>19</td></tr></tbody></table></div>"
      ]
     },
     "metadata": {
      "application/vnd.databricks.v1+output": {
       "addedWidgets": {},
       "aggData": [],
       "aggError": "",
       "aggOverflow": false,
       "aggSchema": [],
       "aggSeriesLimitReached": false,
       "aggType": "",
       "arguments": {},
       "columnCustomDisplayInfos": {},
       "data": [
        [
         19
        ]
       ],
       "datasetInfos": [],
       "dbfsResultPath": null,
       "isJsonSchema": true,
       "metadata": {},
       "overflow": false,
       "plotOptions": {
        "customPlotOptions": {},
        "displayType": "table",
        "pivotAggregation": null,
        "pivotColumns": null,
        "xColumns": null,
        "yColumns": null
       },
       "removedWidgets": [],
       "schema": [
        {
         "metadata": "{}",
         "name": "Count",
         "type": "\"long\""
        }
       ],
       "type": "table"
      }
     },
     "output_type": "display_data"
    }
   ],
   "source": [
    "%sql\n",
    "-- How many countries have the letter C (case-insensitive) in the name?\n",
    "SELECT count(DISTINCT name) as Count \n",
    "FROM Countries\n",
    "WHERE name LIKE 'B%';"
   ]
  },
  {
   "cell_type": "code",
   "execution_count": 0,
   "metadata": {
    "application/vnd.databricks.v1+cell": {
     "cellMetadata": {
      "byteLimit": 2048000,
      "implicitDf": true,
      "rowLimit": 10000
     },
     "inputWidgets": {},
     "nuid": "23169fcb-5e5f-41ca-a10c-8235de3336e0",
     "showTitle": false,
     "title": ""
    }
   },
   "outputs": [
    {
     "output_type": "display_data",
     "data": {
      "text/html": [
       "<style scoped>\n",
       "  .table-result-container {\n",
       "    max-height: 300px;\n",
       "    overflow: auto;\n",
       "  }\n",
       "  table, th, td {\n",
       "    border: 1px solid black;\n",
       "    border-collapse: collapse;\n",
       "  }\n",
       "  th, td {\n",
       "    padding: 5px;\n",
       "  }\n",
       "  th {\n",
       "    text-align: left;\n",
       "  }\n",
       "</style><div class='table-result-container'><table class='table-result'><thead style='background-color: white'><tr><th>Count</th></tr></thead><tbody><tr><td>11</td></tr></tbody></table></div>"
      ]
     },
     "metadata": {
      "application/vnd.databricks.v1+output": {
       "addedWidgets": {},
       "aggData": [],
       "aggError": "",
       "aggOverflow": false,
       "aggSchema": [],
       "aggSeriesLimitReached": false,
       "aggType": "",
       "arguments": {},
       "columnCustomDisplayInfos": {},
       "data": [
        [
         11
        ]
       ],
       "datasetInfos": [],
       "dbfsResultPath": null,
       "isJsonSchema": true,
       "metadata": {},
       "overflow": false,
       "plotOptions": {
        "customPlotOptions": {},
        "displayType": "table",
        "pivotAggregation": null,
        "pivotColumns": null,
        "xColumns": null,
        "yColumns": null
       },
       "removedWidgets": [],
       "schema": [
        {
         "metadata": "{}",
         "name": "Count",
         "type": "\"long\""
        }
       ],
       "type": "table"
      }
     },
     "output_type": "display_data"
    }
   ],
   "source": [
    "%sql\n",
    "-- How many regions are there in the countries dataset?\n",
    "SELECT count(DISTINCT region) as Count \n",
    "FROM Countries"
   ]
  }
 ],
 "metadata": {
  "application/vnd.databricks.v1+notebook": {
   "dashboards": [],
   "language": "python",
   "notebookMetadata": {
    "mostRecentlyExecutedCommandWithImplicitDF": {
     "commandId": 4587753308925,
     "dataframes": [
      "_sqldf"
     ]
    },
    "pythonIndentUnit": 4
   },
   "notebookName": "Untitled Notebook 2023-04-26 10:35:11",
   "notebookOrigID": 4587753308919,
   "widgets": {}
  }
 },
 "nbformat": 4,
 "nbformat_minor": 0
}
